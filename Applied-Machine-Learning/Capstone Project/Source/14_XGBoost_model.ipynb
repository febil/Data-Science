{
 "cells": [
  {
   "cell_type": "code",
   "execution_count": 1,
   "metadata": {},
   "outputs": [],
   "source": [
    "import pandas as pd\n",
    "import numpy as np\n",
    "\n",
    "#from xgboost.sklearn import XGBRegressor\n",
    "import xgboost as xgb\n",
    "from sklearn.model_selection import GridSearchCV\n",
    "from sklearn.model_selection import train_test_split\n",
    "from sklearn.metrics import mean_absolute_error"
   ]
  },
  {
   "cell_type": "code",
   "execution_count": 2,
   "metadata": {},
   "outputs": [],
   "source": [
    "train_filename_iq = ( './../datasets/dengue_test_iq.pkl' )\n",
    "dengue_test_iq = pd.read_pickle( train_filename_iq )\n",
    "\n",
    "test_filename_sj = ( './../datasets/dengue_test_sj.pkl' )\n",
    "dengue_test_sj = pd.read_pickle( test_filename_sj )\n",
    "\n",
    "submission_sj = pd.DataFrame( dengue_test_sj, columns = ['city'])\n",
    "submission_iq = pd.DataFrame( dengue_test_iq, columns = ['city'])\n",
    "submission_sj.reset_index( inplace = True)\n",
    "submission_sj['year'] = submission_sj['week_start_date'].dt.year\n",
    "submission_sj['weekofyear'] = submission_sj['week_start_date'].dt.weekofyear\n",
    "submission_iq.reset_index( inplace = True)\n",
    "submission_iq['year'] = submission_iq['week_start_date'].dt.year\n",
    "submission_iq['weekofyear'] = submission_iq['week_start_date'].dt.weekofyear\n",
    "submission = submission_sj.append( submission_iq )\n",
    "submission.drop( columns = ['week_start_date'], inplace = True )"
   ]
  },
  {
   "cell_type": "code",
   "execution_count": 3,
   "metadata": {
    "scrolled": true
   },
   "outputs": [],
   "source": [
    "sub_sj = pd.DataFrame()\n",
    "sub_iq = pd.DataFrame()"
   ]
  },
  {
   "cell_type": "code",
   "execution_count": 4,
   "metadata": {
    "scrolled": false
   },
   "outputs": [
    {
     "name": "stdout",
     "output_type": "stream",
     "text": [
      "Fitting 5 folds for each of 216 candidates, totalling 1080 fits\n"
     ]
    },
    {
     "name": "stderr",
     "output_type": "stream",
     "text": [
      "[Parallel(n_jobs=4)]: Using backend LokyBackend with 4 concurrent workers.\n",
      "[Parallel(n_jobs=4)]: Done  42 tasks      | elapsed:   12.1s\n",
      "[Parallel(n_jobs=4)]: Done 192 tasks      | elapsed:   42.3s\n",
      "[Parallel(n_jobs=4)]: Done 442 tasks      | elapsed:  1.5min\n",
      "[Parallel(n_jobs=4)]: Done 792 tasks      | elapsed:  2.5min\n",
      "[Parallel(n_jobs=4)]: Done 1080 out of 1080 | elapsed:  3.6min finished\n",
      "C:\\Users\\Resmi\\Anaconda3\\lib\\site-packages\\xgboost\\core.py:587: FutureWarning: Series.base is deprecated and will be removed in a future version\n",
      "  if getattr(data, 'base', None) is not None and \\\n",
      "C:\\Users\\Resmi\\Anaconda3\\lib\\site-packages\\xgboost\\core.py:588: FutureWarning: Series.base is deprecated and will be removed in a future version\n",
      "  data.base is not None and isinstance(data, np.ndarray) \\\n"
     ]
    },
    {
     "name": "stdout",
     "output_type": "stream",
     "text": [
      "[17:55:07] WARNING: C:/Jenkins/workspace/xgboost-win64_release_0.90/src/objective/regression_obj.cu:152: reg:linear is now deprecated in favor of reg:squarederror.\n",
      "San Juan Test  MAE error : 3.5217391304347827\n",
      "San Juan Train MAE error : 5.537313432835821\n",
      "Fitting 5 folds for each of 216 candidates, totalling 1080 fits\n"
     ]
    },
    {
     "name": "stderr",
     "output_type": "stream",
     "text": [
      "[Parallel(n_jobs=4)]: Using backend LokyBackend with 4 concurrent workers.\n",
      "[Parallel(n_jobs=4)]: Done  42 tasks      | elapsed:    6.9s\n",
      "[Parallel(n_jobs=4)]: Done 192 tasks      | elapsed:   30.3s\n",
      "[Parallel(n_jobs=4)]: Done 442 tasks      | elapsed:  1.1min\n",
      "[Parallel(n_jobs=4)]: Done 792 tasks      | elapsed:  2.0min\n",
      "[Parallel(n_jobs=4)]: Done 1080 out of 1080 | elapsed:  2.8min finished\n",
      "C:\\Users\\Resmi\\Anaconda3\\lib\\site-packages\\xgboost\\core.py:587: FutureWarning: Series.base is deprecated and will be removed in a future version\n",
      "  if getattr(data, 'base', None) is not None and \\\n",
      "C:\\Users\\Resmi\\Anaconda3\\lib\\site-packages\\xgboost\\core.py:588: FutureWarning: Series.base is deprecated and will be removed in a future version\n",
      "  data.base is not None and isinstance(data, np.ndarray) \\\n"
     ]
    },
    {
     "name": "stdout",
     "output_type": "stream",
     "text": [
      "[17:57:55] WARNING: C:/Jenkins/workspace/xgboost-win64_release_0.90/src/objective/regression_obj.cu:152: reg:linear is now deprecated in favor of reg:squarederror.\n",
      "San Juan Test  MAE error : 2.611111111111111\n",
      "San Juan Train MAE error : 5.314814814814815\n",
      "Fitting 5 folds for each of 216 candidates, totalling 1080 fits\n"
     ]
    },
    {
     "name": "stderr",
     "output_type": "stream",
     "text": [
      "[Parallel(n_jobs=4)]: Using backend LokyBackend with 4 concurrent workers.\n",
      "[Parallel(n_jobs=4)]: Done  42 tasks      | elapsed:    6.6s\n",
      "[Parallel(n_jobs=4)]: Done 192 tasks      | elapsed:   29.3s\n",
      "[Parallel(n_jobs=4)]: Done 442 tasks      | elapsed:  1.1min\n",
      "[Parallel(n_jobs=4)]: Done 792 tasks      | elapsed:  2.0min\n",
      "[Parallel(n_jobs=4)]: Done 1080 out of 1080 | elapsed:  2.8min finished\n",
      "C:\\Users\\Resmi\\Anaconda3\\lib\\site-packages\\xgboost\\core.py:587: FutureWarning: Series.base is deprecated and will be removed in a future version\n",
      "  if getattr(data, 'base', None) is not None and \\\n",
      "C:\\Users\\Resmi\\Anaconda3\\lib\\site-packages\\xgboost\\core.py:588: FutureWarning: Series.base is deprecated and will be removed in a future version\n",
      "  data.base is not None and isinstance(data, np.ndarray) \\\n"
     ]
    },
    {
     "name": "stdout",
     "output_type": "stream",
     "text": [
      "[18:00:41] WARNING: C:/Jenkins/workspace/xgboost-win64_release_0.90/src/objective/regression_obj.cu:152: reg:linear is now deprecated in favor of reg:squarederror.\n",
      "San Juan Test  MAE error : 2.5\n",
      "San Juan Train MAE error : 4.5\n",
      "Fitting 5 folds for each of 216 candidates, totalling 1080 fits\n"
     ]
    },
    {
     "name": "stderr",
     "output_type": "stream",
     "text": [
      "[Parallel(n_jobs=4)]: Using backend LokyBackend with 4 concurrent workers.\n",
      "[Parallel(n_jobs=4)]: Done  42 tasks      | elapsed:    8.2s\n",
      "[Parallel(n_jobs=4)]: Done 192 tasks      | elapsed:   36.5s\n",
      "[Parallel(n_jobs=4)]: Done 442 tasks      | elapsed:  1.4min\n",
      "[Parallel(n_jobs=4)]: Done 792 tasks      | elapsed:  2.4min\n",
      "[Parallel(n_jobs=4)]: Done 1080 out of 1080 | elapsed:  3.4min finished\n",
      "C:\\Users\\Resmi\\Anaconda3\\lib\\site-packages\\xgboost\\core.py:587: FutureWarning: Series.base is deprecated and will be removed in a future version\n",
      "  if getattr(data, 'base', None) is not None and \\\n",
      "C:\\Users\\Resmi\\Anaconda3\\lib\\site-packages\\xgboost\\core.py:588: FutureWarning: Series.base is deprecated and will be removed in a future version\n",
      "  data.base is not None and isinstance(data, np.ndarray) \\\n"
     ]
    },
    {
     "name": "stdout",
     "output_type": "stream",
     "text": [
      "[18:04:09] WARNING: C:/Jenkins/workspace/xgboost-win64_release_0.90/src/objective/regression_obj.cu:152: reg:linear is now deprecated in favor of reg:squarederror.\n",
      "San Juan Test  MAE error : 0.43478260869565216\n",
      "San Juan Train MAE error : 0.4696969696969697\n",
      "Fitting 5 folds for each of 216 candidates, totalling 1080 fits\n"
     ]
    },
    {
     "name": "stderr",
     "output_type": "stream",
     "text": [
      "[Parallel(n_jobs=4)]: Using backend LokyBackend with 4 concurrent workers.\n",
      "[Parallel(n_jobs=4)]: Done  42 tasks      | elapsed:    6.5s\n",
      "[Parallel(n_jobs=4)]: Done 192 tasks      | elapsed:   29.3s\n",
      "[Parallel(n_jobs=4)]: Done 442 tasks      | elapsed:  1.1min\n",
      "[Parallel(n_jobs=4)]: Done 792 tasks      | elapsed:  1.9min\n",
      "[Parallel(n_jobs=4)]: Done 1080 out of 1080 | elapsed:  2.8min finished\n",
      "C:\\Users\\Resmi\\Anaconda3\\lib\\site-packages\\xgboost\\core.py:587: FutureWarning: Series.base is deprecated and will be removed in a future version\n",
      "  if getattr(data, 'base', None) is not None and \\\n",
      "C:\\Users\\Resmi\\Anaconda3\\lib\\site-packages\\xgboost\\core.py:588: FutureWarning: Series.base is deprecated and will be removed in a future version\n",
      "  data.base is not None and isinstance(data, np.ndarray) \\\n"
     ]
    },
    {
     "name": "stdout",
     "output_type": "stream",
     "text": [
      "[18:06:54] WARNING: C:/Jenkins/workspace/xgboost-win64_release_0.90/src/objective/regression_obj.cu:152: reg:linear is now deprecated in favor of reg:squarederror.\n",
      "San Juan Test  MAE error : 2.1666666666666665\n",
      "San Juan Train MAE error : 2.6923076923076925\n",
      "Fitting 5 folds for each of 216 candidates, totalling 1080 fits\n"
     ]
    },
    {
     "name": "stderr",
     "output_type": "stream",
     "text": [
      "[Parallel(n_jobs=4)]: Using backend LokyBackend with 4 concurrent workers.\n",
      "[Parallel(n_jobs=4)]: Done  42 tasks      | elapsed:    6.8s\n",
      "[Parallel(n_jobs=4)]: Done 192 tasks      | elapsed:   30.7s\n",
      "[Parallel(n_jobs=4)]: Done 442 tasks      | elapsed:  1.1min\n",
      "[Parallel(n_jobs=4)]: Done 792 tasks      | elapsed:  2.0min\n",
      "[Parallel(n_jobs=4)]: Done 1080 out of 1080 | elapsed:  2.8min finished\n",
      "C:\\Users\\Resmi\\Anaconda3\\lib\\site-packages\\xgboost\\core.py:587: FutureWarning: Series.base is deprecated and will be removed in a future version\n",
      "  if getattr(data, 'base', None) is not None and \\\n",
      "C:\\Users\\Resmi\\Anaconda3\\lib\\site-packages\\xgboost\\core.py:588: FutureWarning: Series.base is deprecated and will be removed in a future version\n",
      "  data.base is not None and isinstance(data, np.ndarray) \\\n"
     ]
    },
    {
     "name": "stdout",
     "output_type": "stream",
     "text": [
      "[18:09:45] WARNING: C:/Jenkins/workspace/xgboost-win64_release_0.90/src/objective/regression_obj.cu:152: reg:linear is now deprecated in favor of reg:squarederror.\n",
      "San Juan Test  MAE error : 3.5\n",
      "San Juan Train MAE error : 6.333333333333333\n",
      "Fitting 5 folds for each of 216 candidates, totalling 1080 fits\n"
     ]
    },
    {
     "name": "stderr",
     "output_type": "stream",
     "text": [
      "[Parallel(n_jobs=4)]: Using backend LokyBackend with 4 concurrent workers.\n",
      "[Parallel(n_jobs=4)]: Done  42 tasks      | elapsed:    7.9s\n",
      "[Parallel(n_jobs=4)]: Done 192 tasks      | elapsed:   36.2s\n",
      "[Parallel(n_jobs=4)]: Done 442 tasks      | elapsed:  1.4min\n",
      "[Parallel(n_jobs=4)]: Done 792 tasks      | elapsed:  2.4min\n",
      "[Parallel(n_jobs=4)]: Done 1080 out of 1080 | elapsed:  3.4min finished\n",
      "C:\\Users\\Resmi\\Anaconda3\\lib\\site-packages\\xgboost\\core.py:587: FutureWarning: Series.base is deprecated and will be removed in a future version\n",
      "  if getattr(data, 'base', None) is not None and \\\n",
      "C:\\Users\\Resmi\\Anaconda3\\lib\\site-packages\\xgboost\\core.py:588: FutureWarning: Series.base is deprecated and will be removed in a future version\n",
      "  data.base is not None and isinstance(data, np.ndarray) \\\n"
     ]
    },
    {
     "name": "stdout",
     "output_type": "stream",
     "text": [
      "[18:13:07] WARNING: C:/Jenkins/workspace/xgboost-win64_release_0.90/src/objective/regression_obj.cu:152: reg:linear is now deprecated in favor of reg:squarederror.\n",
      "San Juan Test  MAE error : 9.521739130434783\n",
      "San Juan Train MAE error : 12.686567164179104\n",
      "Fitting 5 folds for each of 216 candidates, totalling 1080 fits\n"
     ]
    },
    {
     "name": "stderr",
     "output_type": "stream",
     "text": [
      "[Parallel(n_jobs=4)]: Using backend LokyBackend with 4 concurrent workers.\n",
      "[Parallel(n_jobs=4)]: Done  42 tasks      | elapsed:    6.5s\n",
      "[Parallel(n_jobs=4)]: Done 192 tasks      | elapsed:   31.8s\n",
      "[Parallel(n_jobs=4)]: Done 442 tasks      | elapsed:  1.2min\n",
      "[Parallel(n_jobs=4)]: Done 792 tasks      | elapsed:  2.0min\n",
      "[Parallel(n_jobs=4)]: Done 1080 out of 1080 | elapsed:  2.8min finished\n",
      "C:\\Users\\Resmi\\Anaconda3\\lib\\site-packages\\xgboost\\core.py:587: FutureWarning: Series.base is deprecated and will be removed in a future version\n",
      "  if getattr(data, 'base', None) is not None and \\\n",
      "C:\\Users\\Resmi\\Anaconda3\\lib\\site-packages\\xgboost\\core.py:588: FutureWarning: Series.base is deprecated and will be removed in a future version\n",
      "  data.base is not None and isinstance(data, np.ndarray) \\\n"
     ]
    },
    {
     "name": "stdout",
     "output_type": "stream",
     "text": [
      "[18:15:54] WARNING: C:/Jenkins/workspace/xgboost-win64_release_0.90/src/objective/regression_obj.cu:152: reg:linear is now deprecated in favor of reg:squarederror.\n",
      "San Juan Test  MAE error : 21.11111111111111\n",
      "San Juan Train MAE error : 21.5\n",
      "Fitting 5 folds for each of 216 candidates, totalling 1080 fits\n"
     ]
    },
    {
     "name": "stderr",
     "output_type": "stream",
     "text": [
      "[Parallel(n_jobs=4)]: Using backend LokyBackend with 4 concurrent workers.\n",
      "[Parallel(n_jobs=4)]: Done  42 tasks      | elapsed:    6.3s\n",
      "[Parallel(n_jobs=4)]: Done 192 tasks      | elapsed:   28.5s\n",
      "[Parallel(n_jobs=4)]: Done 442 tasks      | elapsed:  1.1min\n",
      "[Parallel(n_jobs=4)]: Done 792 tasks      | elapsed:  1.9min\n",
      "[Parallel(n_jobs=4)]: Done 1080 out of 1080 | elapsed:  2.6min finished\n",
      "C:\\Users\\Resmi\\Anaconda3\\lib\\site-packages\\xgboost\\core.py:587: FutureWarning: Series.base is deprecated and will be removed in a future version\n",
      "  if getattr(data, 'base', None) is not None and \\\n",
      "C:\\Users\\Resmi\\Anaconda3\\lib\\site-packages\\xgboost\\core.py:588: FutureWarning: Series.base is deprecated and will be removed in a future version\n",
      "  data.base is not None and isinstance(data, np.ndarray) \\\n"
     ]
    },
    {
     "name": "stdout",
     "output_type": "stream",
     "text": [
      "[18:18:33] WARNING: C:/Jenkins/workspace/xgboost-win64_release_0.90/src/objective/regression_obj.cu:152: reg:linear is now deprecated in favor of reg:squarederror.\n",
      "San Juan Test  MAE error : 10.210526315789474\n",
      "San Juan Train MAE error : 18.24561403508772\n",
      "Fitting 5 folds for each of 216 candidates, totalling 1080 fits\n"
     ]
    },
    {
     "name": "stderr",
     "output_type": "stream",
     "text": [
      "[Parallel(n_jobs=4)]: Using backend LokyBackend with 4 concurrent workers.\n",
      "[Parallel(n_jobs=4)]: Done  42 tasks      | elapsed:   12.9s\n",
      "[Parallel(n_jobs=4)]: Done 192 tasks      | elapsed:  1.0min\n",
      "[Parallel(n_jobs=4)]: Done 442 tasks      | elapsed:  2.0min\n",
      "[Parallel(n_jobs=4)]: Done 792 tasks      | elapsed:  3.2min\n",
      "[Parallel(n_jobs=4)]: Done 1080 out of 1080 | elapsed:  4.1min finished\n",
      "C:\\Users\\Resmi\\Anaconda3\\lib\\site-packages\\xgboost\\core.py:587: FutureWarning: Series.base is deprecated and will be removed in a future version\n",
      "  if getattr(data, 'base', None) is not None and \\\n",
      "C:\\Users\\Resmi\\Anaconda3\\lib\\site-packages\\xgboost\\core.py:588: FutureWarning: Series.base is deprecated and will be removed in a future version\n",
      "  data.base is not None and isinstance(data, np.ndarray) \\\n"
     ]
    },
    {
     "name": "stdout",
     "output_type": "stream",
     "text": [
      "[18:22:42] WARNING: C:/Jenkins/workspace/xgboost-win64_release_0.90/src/objective/regression_obj.cu:152: reg:linear is now deprecated in favor of reg:squarederror.\n",
      "San Juan Test  MAE error : 0.4090909090909091\n",
      "San Juan Train MAE error : 0.5\n",
      "Fitting 5 folds for each of 216 candidates, totalling 1080 fits\n"
     ]
    },
    {
     "name": "stderr",
     "output_type": "stream",
     "text": [
      "[Parallel(n_jobs=4)]: Using backend LokyBackend with 4 concurrent workers.\n",
      "[Parallel(n_jobs=4)]: Done  42 tasks      | elapsed:    6.4s\n",
      "[Parallel(n_jobs=4)]: Done 192 tasks      | elapsed:   27.4s\n",
      "[Parallel(n_jobs=4)]: Done 442 tasks      | elapsed:  1.0min\n",
      "[Parallel(n_jobs=4)]: Done 792 tasks      | elapsed:  1.8min\n",
      "[Parallel(n_jobs=4)]: Done 1080 out of 1080 | elapsed:  2.6min finished\n",
      "C:\\Users\\Resmi\\Anaconda3\\lib\\site-packages\\xgboost\\core.py:587: FutureWarning: Series.base is deprecated and will be removed in a future version\n",
      "  if getattr(data, 'base', None) is not None and \\\n",
      "C:\\Users\\Resmi\\Anaconda3\\lib\\site-packages\\xgboost\\core.py:588: FutureWarning: Series.base is deprecated and will be removed in a future version\n",
      "  data.base is not None and isinstance(data, np.ndarray) \\\n"
     ]
    },
    {
     "name": "stdout",
     "output_type": "stream",
     "text": [
      "[18:25:16] WARNING: C:/Jenkins/workspace/xgboost-win64_release_0.90/src/objective/regression_obj.cu:152: reg:linear is now deprecated in favor of reg:squarederror.\n",
      "San Juan Test  MAE error : 0.4444444444444444\n",
      "San Juan Train MAE error : 0.46296296296296297\n",
      "Fitting 5 folds for each of 216 candidates, totalling 1080 fits\n"
     ]
    },
    {
     "name": "stderr",
     "output_type": "stream",
     "text": [
      "[Parallel(n_jobs=4)]: Using backend LokyBackend with 4 concurrent workers.\n",
      "[Parallel(n_jobs=4)]: Done  42 tasks      | elapsed:    5.8s\n",
      "[Parallel(n_jobs=4)]: Done 192 tasks      | elapsed:   26.3s\n",
      "[Parallel(n_jobs=4)]: Done 442 tasks      | elapsed:   59.5s\n",
      "[Parallel(n_jobs=4)]: Done 792 tasks      | elapsed:  1.7min\n",
      "[Parallel(n_jobs=4)]: Done 1080 out of 1080 | elapsed:  2.5min finished\n",
      "C:\\Users\\Resmi\\Anaconda3\\lib\\site-packages\\xgboost\\core.py:587: FutureWarning: Series.base is deprecated and will be removed in a future version\n",
      "  if getattr(data, 'base', None) is not None and \\\n",
      "C:\\Users\\Resmi\\Anaconda3\\lib\\site-packages\\xgboost\\core.py:588: FutureWarning: Series.base is deprecated and will be removed in a future version\n",
      "  data.base is not None and isinstance(data, np.ndarray) \\\n"
     ]
    },
    {
     "name": "stdout",
     "output_type": "stream",
     "text": [
      "[18:27:45] WARNING: C:/Jenkins/workspace/xgboost-win64_release_0.90/src/objective/regression_obj.cu:152: reg:linear is now deprecated in favor of reg:squarederror.\n",
      "San Juan Test  MAE error : 7.5\n",
      "San Juan Train MAE error : 17.037037037037038\n"
     ]
    }
   ],
   "source": [
    "for month in range( 1, 13 ):\n",
    "    train_filename = ( './../datasets/train_sj_month_' + str( month ) + '.pkl' )\n",
    "    test_filename  = ( './../datasets/test_sj_month_' + str( month ) + '.pkl' )\n",
    "    dengue_train_sj_month = pd.read_pickle( train_filename )\n",
    "    dengue_test_sj_month  = pd.read_pickle( test_filename )\n",
    "    X = pd.DataFrame( dengue_train_sj_month )\n",
    "    X.drop( columns = ['city','year','total_cases','month'], inplace = True )\n",
    "    y = dengue_train_sj_month.total_cases\n",
    "    parameters_for_testing = { 'learning_rate':[0.1,0.01],\n",
    "                               'max_depth':[2,3,4],\n",
    "                               'n_estimators':[1000,500],\n",
    "                               'gamma':[0,0.01],\n",
    "                               'min_child_weight':[12,15,20],\n",
    "                               'colsample_bytree':[0.5,0.4,0.6],\n",
    "                               'reg_alpha':[0.01],\n",
    "                               'reg_lambda':[1e-5],\n",
    "                               'subsample':[0.95]\n",
    "                             }\n",
    "    xgb_model = xgb.XGBRegressor()\n",
    "    gs_xg = GridSearchCV( estimator = xgb_model, param_grid = parameters_for_testing,\n",
    "                             n_jobs=4,iid=False, verbose=1,scoring='neg_mean_squared_error', cv= 5).fit(X,y, eval_metric='rmse')\n",
    "    X_sj_train, X_sj_test, Y_sj_train, Y_sj_test = train_test_split( X, y, shuffle = False)\n",
    "    Y_sj_pred = gs_xg.best_estimator_.predict(X_sj_test).astype(int)\n",
    "    print (\"San Juan Test  MAE error :\", mean_absolute_error(Y_sj_pred, Y_sj_test))\n",
    "    pred_train_sj = gs_xg.best_estimator_.predict(X_sj_train).astype(int)\n",
    "    print (\"San Juan Train MAE error :\", mean_absolute_error(pred_train_sj, Y_sj_train))\n",
    "    X_test = pd.DataFrame( dengue_test_sj_month, columns = X.columns )\n",
    "    submit_pred_sj = pd.DataFrame( dengue_test_sj_month, columns = ['city','week_start_date'])\n",
    "    submit_pred_sj['total_cases'] = gs_xg.predict(X_test).astype( 'int')\n",
    "    sub_sj = sub_sj.append( submit_pred_sj )\n",
    "sub_sj = sub_sj.drop( columns=['week_start_date'])\n",
    "sub_sj.reset_index( inplace = True )\n",
    "sub_sj['year'] = sub_sj['week_start_date'].dt.year\n",
    "sub_sj['weekofyear'] = sub_sj['week_start_date'].dt.weekofyear\n",
    "sub_sj.drop( columns = ['week_start_date'], inplace = True )"
   ]
  },
  {
   "cell_type": "code",
   "execution_count": 5,
   "metadata": {
    "scrolled": false
   },
   "outputs": [
    {
     "name": "stdout",
     "output_type": "stream",
     "text": [
      "Fitting 5 folds for each of 1152 candidates, totalling 5760 fits\n"
     ]
    },
    {
     "name": "stderr",
     "output_type": "stream",
     "text": [
      "[Parallel(n_jobs=4)]: Using backend LokyBackend with 4 concurrent workers.\n",
      "[Parallel(n_jobs=4)]: Done  42 tasks      | elapsed:    3.5s\n",
      "[Parallel(n_jobs=4)]: Done 192 tasks      | elapsed:   12.9s\n",
      "[Parallel(n_jobs=4)]: Done 442 tasks      | elapsed:   30.9s\n",
      "[Parallel(n_jobs=4)]: Done 792 tasks      | elapsed:   55.3s\n",
      "[Parallel(n_jobs=4)]: Done 1242 tasks      | elapsed:  1.4min\n",
      "[Parallel(n_jobs=4)]: Done 1792 tasks      | elapsed:  2.0min\n",
      "[Parallel(n_jobs=4)]: Done 2442 tasks      | elapsed:  2.7min\n",
      "[Parallel(n_jobs=4)]: Done 3192 tasks      | elapsed:  3.5min\n",
      "[Parallel(n_jobs=4)]: Done 4042 tasks      | elapsed:  4.4min\n",
      "[Parallel(n_jobs=4)]: Done 4992 tasks      | elapsed:  5.6min\n",
      "[Parallel(n_jobs=4)]: Done 5760 out of 5760 | elapsed:  6.6min finished\n",
      "C:\\Users\\Resmi\\Anaconda3\\lib\\site-packages\\xgboost\\core.py:587: FutureWarning: Series.base is deprecated and will be removed in a future version\n",
      "  if getattr(data, 'base', None) is not None and \\\n",
      "C:\\Users\\Resmi\\Anaconda3\\lib\\site-packages\\xgboost\\core.py:588: FutureWarning: Series.base is deprecated and will be removed in a future version\n",
      "  data.base is not None and isinstance(data, np.ndarray) \\\n"
     ]
    },
    {
     "name": "stdout",
     "output_type": "stream",
     "text": [
      "[18:34:18] WARNING: C:/Jenkins/workspace/xgboost-win64_release_0.90/src/objective/regression_obj.cu:152: reg:linear is now deprecated in favor of reg:squarederror.\n",
      "[18:34:19] WARNING: C:/Jenkins/workspace/xgboost-win64_release_0.90/src/objective/regression_obj.cu:152: reg:linear is now deprecated in favor of reg:squarederror.\n",
      "Iquitos Test  MAE error : 11.846153846153847\n",
      "Iquitos Train MAE error : 7.243243243243243\n",
      "Fitting 5 folds for each of 1152 candidates, totalling 5760 fits\n"
     ]
    },
    {
     "name": "stderr",
     "output_type": "stream",
     "text": [
      "[Parallel(n_jobs=4)]: Using backend LokyBackend with 4 concurrent workers.\n",
      "[Parallel(n_jobs=4)]: Done  42 tasks      | elapsed:    3.2s\n",
      "[Parallel(n_jobs=4)]: Done 192 tasks      | elapsed:   11.3s\n",
      "[Parallel(n_jobs=4)]: Done 442 tasks      | elapsed:   26.4s\n",
      "[Parallel(n_jobs=4)]: Done 792 tasks      | elapsed:   47.7s\n",
      "[Parallel(n_jobs=4)]: Done 1242 tasks      | elapsed:  1.2min\n",
      "[Parallel(n_jobs=4)]: Done 1792 tasks      | elapsed:  1.8min\n",
      "[Parallel(n_jobs=4)]: Done 2777 tasks      | elapsed:  2.6min\n",
      "[Parallel(n_jobs=4)]: Done 4277 tasks      | elapsed:  4.0min\n",
      "[Parallel(n_jobs=4)]: Done 5287 tasks      | elapsed:  5.0min\n",
      "[Parallel(n_jobs=4)]: Done 5760 out of 5760 | elapsed:  5.5min finished\n",
      "C:\\Users\\Resmi\\Anaconda3\\lib\\site-packages\\xgboost\\core.py:587: FutureWarning: Series.base is deprecated and will be removed in a future version\n",
      "  if getattr(data, 'base', None) is not None and \\\n",
      "C:\\Users\\Resmi\\Anaconda3\\lib\\site-packages\\xgboost\\core.py:588: FutureWarning: Series.base is deprecated and will be removed in a future version\n",
      "  data.base is not None and isinstance(data, np.ndarray) \\\n"
     ]
    },
    {
     "name": "stdout",
     "output_type": "stream",
     "text": [
      "[18:39:47] WARNING: C:/Jenkins/workspace/xgboost-win64_release_0.90/src/objective/regression_obj.cu:152: reg:linear is now deprecated in favor of reg:squarederror.\n",
      "[18:39:47] WARNING: C:/Jenkins/workspace/xgboost-win64_release_0.90/src/objective/regression_obj.cu:152: reg:linear is now deprecated in favor of reg:squarederror.\n",
      "Iquitos Test  MAE error : 9.4\n",
      "Iquitos Train MAE error : 7.966666666666667\n",
      "Fitting 5 folds for each of 1152 candidates, totalling 5760 fits\n"
     ]
    },
    {
     "name": "stderr",
     "output_type": "stream",
     "text": [
      "[Parallel(n_jobs=4)]: Using backend LokyBackend with 4 concurrent workers.\n",
      "[Parallel(n_jobs=4)]: Done  42 tasks      | elapsed:    3.2s\n",
      "[Parallel(n_jobs=4)]: Done 192 tasks      | elapsed:   12.8s\n",
      "[Parallel(n_jobs=4)]: Done 442 tasks      | elapsed:   29.5s\n",
      "[Parallel(n_jobs=4)]: Done 792 tasks      | elapsed:   51.6s\n",
      "[Parallel(n_jobs=4)]: Done 1242 tasks      | elapsed:  1.3min\n",
      "[Parallel(n_jobs=4)]: Done 1792 tasks      | elapsed:  1.9min\n",
      "[Parallel(n_jobs=4)]: Done 2442 tasks      | elapsed:  2.4min\n",
      "[Parallel(n_jobs=4)]: Done 3192 tasks      | elapsed:  3.1min\n",
      "[Parallel(n_jobs=4)]: Done 4042 tasks      | elapsed:  4.0min\n",
      "[Parallel(n_jobs=4)]: Done 4992 tasks      | elapsed:  5.0min\n",
      "[Parallel(n_jobs=4)]: Done 5760 out of 5760 | elapsed:  5.8min finished\n",
      "C:\\Users\\Resmi\\Anaconda3\\lib\\site-packages\\xgboost\\core.py:587: FutureWarning: Series.base is deprecated and will be removed in a future version\n",
      "  if getattr(data, 'base', None) is not None and \\\n",
      "C:\\Users\\Resmi\\Anaconda3\\lib\\site-packages\\xgboost\\core.py:588: FutureWarning: Series.base is deprecated and will be removed in a future version\n",
      "  data.base is not None and isinstance(data, np.ndarray) \\\n"
     ]
    },
    {
     "name": "stdout",
     "output_type": "stream",
     "text": [
      "[18:45:38] WARNING: C:/Jenkins/workspace/xgboost-win64_release_0.90/src/objective/regression_obj.cu:152: reg:linear is now deprecated in favor of reg:squarederror.\n",
      "[18:45:38] WARNING: C:/Jenkins/workspace/xgboost-win64_release_0.90/src/objective/regression_obj.cu:152: reg:linear is now deprecated in favor of reg:squarederror.\n",
      "Iquitos Test  MAE error : 3.2\n",
      "Iquitos Train MAE error : 2.433333333333333\n",
      "Fitting 5 folds for each of 1152 candidates, totalling 5760 fits\n"
     ]
    },
    {
     "name": "stderr",
     "output_type": "stream",
     "text": [
      "[Parallel(n_jobs=4)]: Using backend LokyBackend with 4 concurrent workers.\n",
      "[Parallel(n_jobs=4)]: Done  42 tasks      | elapsed:    3.6s\n",
      "[Parallel(n_jobs=4)]: Done 192 tasks      | elapsed:   13.6s\n",
      "[Parallel(n_jobs=4)]: Done 442 tasks      | elapsed:   31.7s\n",
      "[Parallel(n_jobs=4)]: Done 792 tasks      | elapsed:   57.4s\n",
      "[Parallel(n_jobs=4)]: Done 1242 tasks      | elapsed:  1.5min\n",
      "[Parallel(n_jobs=4)]: Done 1792 tasks      | elapsed:  2.1min\n",
      "[Parallel(n_jobs=4)]: Done 2442 tasks      | elapsed:  2.8min\n",
      "[Parallel(n_jobs=4)]: Done 3192 tasks      | elapsed:  3.6min\n",
      "[Parallel(n_jobs=4)]: Done 4042 tasks      | elapsed:  4.6min\n",
      "[Parallel(n_jobs=4)]: Done 4992 tasks      | elapsed:  5.8min\n",
      "[Parallel(n_jobs=4)]: Done 5760 out of 5760 | elapsed:  6.8min finished\n",
      "C:\\Users\\Resmi\\Anaconda3\\lib\\site-packages\\xgboost\\core.py:587: FutureWarning: Series.base is deprecated and will be removed in a future version\n",
      "  if getattr(data, 'base', None) is not None and \\\n",
      "C:\\Users\\Resmi\\Anaconda3\\lib\\site-packages\\xgboost\\core.py:588: FutureWarning: Series.base is deprecated and will be removed in a future version\n",
      "  data.base is not None and isinstance(data, np.ndarray) \\\n"
     ]
    },
    {
     "name": "stdout",
     "output_type": "stream",
     "text": [
      "[18:52:26] WARNING: C:/Jenkins/workspace/xgboost-win64_release_0.90/src/objective/regression_obj.cu:152: reg:linear is now deprecated in favor of reg:squarederror.\n",
      "[18:52:26] WARNING: C:/Jenkins/workspace/xgboost-win64_release_0.90/src/objective/regression_obj.cu:152: reg:linear is now deprecated in favor of reg:squarederror.\n",
      "Iquitos Test  MAE error : 2.230769230769231\n",
      "Iquitos Train MAE error : 4.216216216216216\n",
      "Fitting 5 folds for each of 1152 candidates, totalling 5760 fits\n"
     ]
    },
    {
     "name": "stderr",
     "output_type": "stream",
     "text": [
      "[Parallel(n_jobs=4)]: Using backend LokyBackend with 4 concurrent workers.\n",
      "[Parallel(n_jobs=4)]: Done  42 tasks      | elapsed:    3.3s\n",
      "[Parallel(n_jobs=4)]: Done 192 tasks      | elapsed:   11.3s\n",
      "[Parallel(n_jobs=4)]: Done 442 tasks      | elapsed:   26.6s\n",
      "[Parallel(n_jobs=4)]: Done 792 tasks      | elapsed:   48.7s\n",
      "[Parallel(n_jobs=4)]: Done 1242 tasks      | elapsed:  1.3min\n",
      "[Parallel(n_jobs=4)]: Done 1792 tasks      | elapsed:  1.8min\n",
      "[Parallel(n_jobs=4)]: Done 2442 tasks      | elapsed:  2.5min\n",
      "[Parallel(n_jobs=4)]: Done 3192 tasks      | elapsed:  3.2min\n",
      "[Parallel(n_jobs=4)]: Done 4180 tasks      | elapsed:  4.2min\n",
      "[Parallel(n_jobs=4)]: Done 5130 tasks      | elapsed:  5.3min\n",
      "[Parallel(n_jobs=4)]: Done 5760 out of 5760 | elapsed:  5.9min finished\n",
      "C:\\Users\\Resmi\\Anaconda3\\lib\\site-packages\\xgboost\\core.py:587: FutureWarning: Series.base is deprecated and will be removed in a future version\n",
      "  if getattr(data, 'base', None) is not None and \\\n",
      "C:\\Users\\Resmi\\Anaconda3\\lib\\site-packages\\xgboost\\core.py:588: FutureWarning: Series.base is deprecated and will be removed in a future version\n",
      "  data.base is not None and isinstance(data, np.ndarray) \\\n"
     ]
    },
    {
     "name": "stdout",
     "output_type": "stream",
     "text": [
      "[18:58:21] WARNING: C:/Jenkins/workspace/xgboost-win64_release_0.90/src/objective/regression_obj.cu:152: reg:linear is now deprecated in favor of reg:squarederror.\n",
      "[18:58:21] WARNING: C:/Jenkins/workspace/xgboost-win64_release_0.90/src/objective/regression_obj.cu:152: reg:linear is now deprecated in favor of reg:squarederror.\n",
      "Iquitos Test  MAE error : 2.6\n",
      "Iquitos Train MAE error : 3.533333333333333\n",
      "Fitting 5 folds for each of 1152 candidates, totalling 5760 fits\n"
     ]
    },
    {
     "name": "stderr",
     "output_type": "stream",
     "text": [
      "[Parallel(n_jobs=4)]: Using backend LokyBackend with 4 concurrent workers.\n",
      "[Parallel(n_jobs=4)]: Done  42 tasks      | elapsed:    3.3s\n",
      "[Parallel(n_jobs=4)]: Done 192 tasks      | elapsed:   11.3s\n",
      "[Parallel(n_jobs=4)]: Done 442 tasks      | elapsed:   26.1s\n",
      "[Parallel(n_jobs=4)]: Done 792 tasks      | elapsed:   48.1s\n",
      "[Parallel(n_jobs=4)]: Done 1242 tasks      | elapsed:  1.2min\n",
      "[Parallel(n_jobs=4)]: Done 1792 tasks      | elapsed:  1.8min\n",
      "[Parallel(n_jobs=4)]: Done 2442 tasks      | elapsed:  2.4min\n",
      "[Parallel(n_jobs=4)]: Done 3192 tasks      | elapsed:  3.2min\n",
      "[Parallel(n_jobs=4)]: Done 4042 tasks      | elapsed:  4.0min\n",
      "[Parallel(n_jobs=4)]: Done 4992 tasks      | elapsed:  5.1min\n",
      "[Parallel(n_jobs=4)]: Done 5760 out of 5760 | elapsed:  6.0min finished\n",
      "C:\\Users\\Resmi\\Anaconda3\\lib\\site-packages\\xgboost\\core.py:587: FutureWarning: Series.base is deprecated and will be removed in a future version\n",
      "  if getattr(data, 'base', None) is not None and \\\n",
      "C:\\Users\\Resmi\\Anaconda3\\lib\\site-packages\\xgboost\\core.py:588: FutureWarning: Series.base is deprecated and will be removed in a future version\n",
      "  data.base is not None and isinstance(data, np.ndarray) \\\n"
     ]
    },
    {
     "name": "stdout",
     "output_type": "stream",
     "text": [
      "[19:04:22] WARNING: C:/Jenkins/workspace/xgboost-win64_release_0.90/src/objective/regression_obj.cu:152: reg:linear is now deprecated in favor of reg:squarederror.\n",
      "[19:04:22] WARNING: C:/Jenkins/workspace/xgboost-win64_release_0.90/src/objective/regression_obj.cu:152: reg:linear is now deprecated in favor of reg:squarederror.\n",
      "Iquitos Test  MAE error : 1.8\n",
      "Iquitos Train MAE error : 2.433333333333333\n",
      "Fitting 5 folds for each of 1152 candidates, totalling 5760 fits\n"
     ]
    },
    {
     "name": "stderr",
     "output_type": "stream",
     "text": [
      "[Parallel(n_jobs=4)]: Using backend LokyBackend with 4 concurrent workers.\n",
      "[Parallel(n_jobs=4)]: Done  42 tasks      | elapsed:    4.3s\n",
      "[Parallel(n_jobs=4)]: Done 192 tasks      | elapsed:   13.8s\n",
      "[Parallel(n_jobs=4)]: Done 442 tasks      | elapsed:   31.6s\n",
      "[Parallel(n_jobs=4)]: Done 792 tasks      | elapsed:   57.1s\n",
      "[Parallel(n_jobs=4)]: Done 1242 tasks      | elapsed:  1.5min\n",
      "[Parallel(n_jobs=4)]: Done 1792 tasks      | elapsed:  2.1min\n",
      "[Parallel(n_jobs=4)]: Done 2442 tasks      | elapsed:  2.8min\n",
      "[Parallel(n_jobs=4)]: Done 3192 tasks      | elapsed:  3.6min\n",
      "[Parallel(n_jobs=4)]: Done 4042 tasks      | elapsed:  4.5min\n",
      "[Parallel(n_jobs=4)]: Done 4992 tasks      | elapsed:  5.7min\n",
      "[Parallel(n_jobs=4)]: Done 5760 out of 5760 | elapsed:  6.6min finished\n",
      "C:\\Users\\Resmi\\Anaconda3\\lib\\site-packages\\xgboost\\core.py:587: FutureWarning: Series.base is deprecated and will be removed in a future version\n",
      "  if getattr(data, 'base', None) is not None and \\\n",
      "C:\\Users\\Resmi\\Anaconda3\\lib\\site-packages\\xgboost\\core.py:588: FutureWarning: Series.base is deprecated and will be removed in a future version\n",
      "  data.base is not None and isinstance(data, np.ndarray) \\\n"
     ]
    },
    {
     "name": "stdout",
     "output_type": "stream",
     "text": [
      "[19:10:59] WARNING: C:/Jenkins/workspace/xgboost-win64_release_0.90/src/objective/regression_obj.cu:152: reg:linear is now deprecated in favor of reg:squarederror.\n",
      "[19:10:59] WARNING: C:/Jenkins/workspace/xgboost-win64_release_0.90/src/objective/regression_obj.cu:152: reg:linear is now deprecated in favor of reg:squarederror.\n",
      "Iquitos Test  MAE error : 2.0833333333333335\n",
      "Iquitos Train MAE error : 0.3235294117647059\n",
      "Fitting 5 folds for each of 1152 candidates, totalling 5760 fits\n"
     ]
    },
    {
     "name": "stderr",
     "output_type": "stream",
     "text": [
      "[Parallel(n_jobs=4)]: Using backend LokyBackend with 4 concurrent workers.\n",
      "[Parallel(n_jobs=4)]: Done  42 tasks      | elapsed:    3.3s\n",
      "[Parallel(n_jobs=4)]: Done 192 tasks      | elapsed:   10.8s\n",
      "[Parallel(n_jobs=4)]: Done 643 tasks      | elapsed:   37.0s\n",
      "[Parallel(n_jobs=4)]: Done 1343 tasks      | elapsed:  1.3min\n",
      "[Parallel(n_jobs=4)]: Done 1861 tasks      | elapsed:  1.8min\n",
      "[Parallel(n_jobs=4)]: Done 2898 tasks      | elapsed:  2.7min\n",
      "[Parallel(n_jobs=4)]: Done 4198 tasks      | elapsed:  3.8min\n",
      "[Parallel(n_jobs=4)]: Done 5147 tasks      | elapsed:  4.8min\n",
      "[Parallel(n_jobs=4)]: Done 5760 out of 5760 | elapsed:  5.4min finished\n",
      "C:\\Users\\Resmi\\Anaconda3\\lib\\site-packages\\xgboost\\core.py:587: FutureWarning: Series.base is deprecated and will be removed in a future version\n",
      "  if getattr(data, 'base', None) is not None and \\\n",
      "C:\\Users\\Resmi\\Anaconda3\\lib\\site-packages\\xgboost\\core.py:588: FutureWarning: Series.base is deprecated and will be removed in a future version\n",
      "  data.base is not None and isinstance(data, np.ndarray) \\\n"
     ]
    },
    {
     "name": "stdout",
     "output_type": "stream",
     "text": [
      "[19:16:24] WARNING: C:/Jenkins/workspace/xgboost-win64_release_0.90/src/objective/regression_obj.cu:152: reg:linear is now deprecated in favor of reg:squarederror.\n",
      "[19:16:25] WARNING: C:/Jenkins/workspace/xgboost-win64_release_0.90/src/objective/regression_obj.cu:152: reg:linear is now deprecated in favor of reg:squarederror.\n",
      "Iquitos Test  MAE error : 2.9\n",
      "Iquitos Train MAE error : 2.3666666666666667\n",
      "Fitting 5 folds for each of 1152 candidates, totalling 5760 fits\n"
     ]
    },
    {
     "name": "stderr",
     "output_type": "stream",
     "text": [
      "[Parallel(n_jobs=4)]: Using backend LokyBackend with 4 concurrent workers.\n",
      "[Parallel(n_jobs=4)]: Done  42 tasks      | elapsed:    3.5s\n",
      "[Parallel(n_jobs=4)]: Done 192 tasks      | elapsed:   11.7s\n",
      "[Parallel(n_jobs=4)]: Done 442 tasks      | elapsed:   26.4s\n",
      "[Parallel(n_jobs=4)]: Done 792 tasks      | elapsed:   52.4s\n",
      "[Parallel(n_jobs=4)]: Done 1278 tasks      | elapsed:  1.4min\n",
      "[Parallel(n_jobs=4)]: Done 2378 tasks      | elapsed:  2.4min\n",
      "[Parallel(n_jobs=4)]: Done 3661 tasks      | elapsed:  3.6min\n",
      "[Parallel(n_jobs=4)]: Done 4411 tasks      | elapsed:  4.4min\n",
      "[Parallel(n_jobs=4)]: Done 5261 tasks      | elapsed:  5.4min\n",
      "[Parallel(n_jobs=4)]: Done 5760 out of 5760 | elapsed:  6.0min finished\n",
      "C:\\Users\\Resmi\\Anaconda3\\lib\\site-packages\\xgboost\\core.py:587: FutureWarning: Series.base is deprecated and will be removed in a future version\n",
      "  if getattr(data, 'base', None) is not None and \\\n",
      "C:\\Users\\Resmi\\Anaconda3\\lib\\site-packages\\xgboost\\core.py:588: FutureWarning: Series.base is deprecated and will be removed in a future version\n",
      "  data.base is not None and isinstance(data, np.ndarray) \\\n"
     ]
    },
    {
     "name": "stdout",
     "output_type": "stream",
     "text": [
      "[19:22:22] WARNING: C:/Jenkins/workspace/xgboost-win64_release_0.90/src/objective/regression_obj.cu:152: reg:linear is now deprecated in favor of reg:squarederror.\n",
      "[19:22:22] WARNING: C:/Jenkins/workspace/xgboost-win64_release_0.90/src/objective/regression_obj.cu:152: reg:linear is now deprecated in favor of reg:squarederror.\n",
      "Iquitos Test  MAE error : 9.818181818181818\n",
      "Iquitos Train MAE error : 4.96875\n",
      "Fitting 5 folds for each of 1152 candidates, totalling 5760 fits\n"
     ]
    },
    {
     "name": "stderr",
     "output_type": "stream",
     "text": [
      "[Parallel(n_jobs=4)]: Using backend LokyBackend with 4 concurrent workers.\n",
      "[Parallel(n_jobs=4)]: Done  42 tasks      | elapsed:    3.8s\n",
      "[Parallel(n_jobs=4)]: Done 192 tasks      | elapsed:   12.8s\n",
      "[Parallel(n_jobs=4)]: Done 442 tasks      | elapsed:   30.3s\n",
      "[Parallel(n_jobs=4)]: Done 792 tasks      | elapsed:   54.6s\n",
      "[Parallel(n_jobs=4)]: Done 1242 tasks      | elapsed:  1.4min\n",
      "[Parallel(n_jobs=4)]: Done 1792 tasks      | elapsed:  2.0min\n",
      "[Parallel(n_jobs=4)]: Done 2442 tasks      | elapsed:  2.6min\n",
      "[Parallel(n_jobs=4)]: Done 3262 tasks      | elapsed:  3.4min\n",
      "[Parallel(n_jobs=4)]: Done 4540 tasks      | elapsed:  4.7min\n",
      "[Parallel(n_jobs=4)]: Done 5760 out of 5760 | elapsed:  6.1min finished\n",
      "C:\\Users\\Resmi\\Anaconda3\\lib\\site-packages\\xgboost\\core.py:587: FutureWarning: Series.base is deprecated and will be removed in a future version\n",
      "  if getattr(data, 'base', None) is not None and \\\n",
      "C:\\Users\\Resmi\\Anaconda3\\lib\\site-packages\\xgboost\\core.py:588: FutureWarning: Series.base is deprecated and will be removed in a future version\n",
      "  data.base is not None and isinstance(data, np.ndarray) \\\n"
     ]
    },
    {
     "name": "stdout",
     "output_type": "stream",
     "text": [
      "[19:28:28] WARNING: C:/Jenkins/workspace/xgboost-win64_release_0.90/src/objective/regression_obj.cu:152: reg:linear is now deprecated in favor of reg:squarederror.\n",
      "[19:28:28] WARNING: C:/Jenkins/workspace/xgboost-win64_release_0.90/src/objective/regression_obj.cu:152: reg:linear is now deprecated in favor of reg:squarederror.\n",
      "Iquitos Test  MAE error : 16.416666666666668\n",
      "Iquitos Train MAE error : 6.257142857142857\n",
      "Fitting 5 folds for each of 1152 candidates, totalling 5760 fits\n"
     ]
    },
    {
     "name": "stderr",
     "output_type": "stream",
     "text": [
      "[Parallel(n_jobs=4)]: Using backend LokyBackend with 4 concurrent workers.\n",
      "[Parallel(n_jobs=4)]: Done  42 tasks      | elapsed:    5.1s\n",
      "[Parallel(n_jobs=4)]: Done 192 tasks      | elapsed:   15.1s\n",
      "[Parallel(n_jobs=4)]: Done 442 tasks      | elapsed:   31.9s\n",
      "[Parallel(n_jobs=4)]: Done 792 tasks      | elapsed:   53.8s\n",
      "[Parallel(n_jobs=4)]: Done 1242 tasks      | elapsed:  1.4min\n",
      "[Parallel(n_jobs=4)]: Done 2199 tasks      | elapsed:  2.2min\n",
      "[Parallel(n_jobs=4)]: Done 3499 tasks      | elapsed:  3.3min\n",
      "[Parallel(n_jobs=4)]: Done 4798 tasks      | elapsed:  4.6min\n",
      "[Parallel(n_jobs=4)]: Done 5760 out of 5760 | elapsed:  5.5min finished\n",
      "C:\\Users\\Resmi\\Anaconda3\\lib\\site-packages\\xgboost\\core.py:587: FutureWarning: Series.base is deprecated and will be removed in a future version\n",
      "  if getattr(data, 'base', None) is not None and \\\n",
      "C:\\Users\\Resmi\\Anaconda3\\lib\\site-packages\\xgboost\\core.py:588: FutureWarning: Series.base is deprecated and will be removed in a future version\n",
      "  data.base is not None and isinstance(data, np.ndarray) \\\n"
     ]
    },
    {
     "name": "stdout",
     "output_type": "stream",
     "text": [
      "[19:34:01] WARNING: C:/Jenkins/workspace/xgboost-win64_release_0.90/src/objective/regression_obj.cu:152: reg:linear is now deprecated in favor of reg:squarederror.\n",
      "[19:34:01] WARNING: C:/Jenkins/workspace/xgboost-win64_release_0.90/src/objective/regression_obj.cu:152: reg:linear is now deprecated in favor of reg:squarederror.\n",
      "Iquitos Test  MAE error : 7.4\n",
      "Iquitos Train MAE error : 2.066666666666667\n",
      "Fitting 5 folds for each of 1152 candidates, totalling 5760 fits\n"
     ]
    },
    {
     "name": "stderr",
     "output_type": "stream",
     "text": [
      "[Parallel(n_jobs=4)]: Using backend LokyBackend with 4 concurrent workers.\n",
      "[Parallel(n_jobs=4)]: Done  42 tasks      | elapsed:    3.4s\n",
      "[Parallel(n_jobs=4)]: Done 192 tasks      | elapsed:   11.1s\n",
      "[Parallel(n_jobs=4)]: Done 442 tasks      | elapsed:   26.1s\n",
      "[Parallel(n_jobs=4)]: Done 792 tasks      | elapsed:   47.2s\n",
      "[Parallel(n_jobs=4)]: Done 1242 tasks      | elapsed:  1.2min\n",
      "[Parallel(n_jobs=4)]: Done 1792 tasks      | elapsed:  1.8min\n",
      "[Parallel(n_jobs=4)]: Done 2478 tasks      | elapsed:  2.4min\n",
      "[Parallel(n_jobs=4)]: Done 3978 tasks      | elapsed:  3.7min\n",
      "[Parallel(n_jobs=4)]: Done 5138 tasks      | elapsed:  4.9min\n",
      "[Parallel(n_jobs=4)]: Done 5760 out of 5760 | elapsed:  5.5min finished\n",
      "C:\\Users\\Resmi\\Anaconda3\\lib\\site-packages\\xgboost\\core.py:587: FutureWarning: Series.base is deprecated and will be removed in a future version\n",
      "  if getattr(data, 'base', None) is not None and \\\n",
      "C:\\Users\\Resmi\\Anaconda3\\lib\\site-packages\\xgboost\\core.py:588: FutureWarning: Series.base is deprecated and will be removed in a future version\n",
      "  data.base is not None and isinstance(data, np.ndarray) \\\n"
     ]
    },
    {
     "name": "stdout",
     "output_type": "stream",
     "text": [
      "[19:39:33] WARNING: C:/Jenkins/workspace/xgboost-win64_release_0.90/src/objective/regression_obj.cu:152: reg:linear is now deprecated in favor of reg:squarederror.\n",
      "[19:39:33] WARNING: C:/Jenkins/workspace/xgboost-win64_release_0.90/src/objective/regression_obj.cu:152: reg:linear is now deprecated in favor of reg:squarederror.\n",
      "Iquitos Test  MAE error : 10.1\n",
      "Iquitos Train MAE error : 15.766666666666667\n"
     ]
    }
   ],
   "source": [
    "for month in range( 1, 13 ):\n",
    "    train_filename = ( './../datasets/train_iq_month_' + str( month ) + '.pkl' )\n",
    "    test_filename  = ( './../datasets/test_iq_month_' + str( month ) + '.pkl' )\n",
    "    dengue_train_iq_month = pd.read_pickle( train_filename )\n",
    "    dengue_test_iq_month  = pd.read_pickle( test_filename )\n",
    "    X = pd.DataFrame( dengue_train_iq_month )\n",
    "    X.drop( columns = ['city','year','total_cases','month'], inplace = True )\n",
    "    y = dengue_train_iq_month.total_cases\n",
    "    parameters_for_testing = { 'learning_rate':[0.1,0.01],#\n",
    "                               'max_depth':[2,4],\n",
    "                               'n_estimators':[700,500,250],\n",
    "                               'gamma':[0,0.01],\n",
    "                               'min_child_weight':[5,10,15,20],\n",
    "                               'colsample_bytree':[0.5,0.4,0.6],\n",
    "                               'reg_alpha':[0.01,0.75],\n",
    "                               'reg_lambda':[1e-5,1e-4],\n",
    "                               'subsample':[0.75]#,0.7,0.8\n",
    "                             }\n",
    "    xgb_model = xgb.XGBRegressor()\n",
    "    gs_xg = GridSearchCV( estimator = xgb_model, param_grid = parameters_for_testing,\n",
    "                             n_jobs=4,iid=False, verbose=1,scoring='neg_mean_squared_error', cv = 5).fit(X,y, eval_metric='rmse')\n",
    "    X_iq_train, X_iq_test, Y_iq_train, Y_iq_test = train_test_split( X, y, shuffle = False)\n",
    "    gs_xg.best_estimator_.fit( X_iq_train, Y_iq_train )\n",
    "    Y_iq_pred = gs_xg.best_estimator_.predict(X_iq_test).astype(int)\n",
    "    print (\"Iquitos Test  MAE error :\", mean_absolute_error(Y_iq_pred, Y_iq_test))\n",
    "    pred_train_iq = gs_xg.best_estimator_.predict(X_iq_train).astype(int)\n",
    "    print (\"Iquitos Train MAE error :\", mean_absolute_error(pred_train_iq, Y_iq_train))\n",
    "    X_test = pd.DataFrame( dengue_test_iq_month, columns = X.columns )\n",
    "    submit_pred_iq = pd.DataFrame( dengue_test_iq_month, columns = ['city', 'week_start_date'])\n",
    "    submit_pred_iq['total_cases'] = gs_xg.best_estimator_.predict(X_test).astype( 'int')\n",
    "    sub_iq = sub_iq.append( submit_pred_iq )\n",
    "    #submission = pd.merge( submission, submit_pred_iq, on =['city','year','weekofyear'])\n",
    "sub_iq = sub_iq.drop( columns=['week_start_date'])\n",
    "sub_iq.reset_index( inplace = True )\n",
    "sub_iq['year'] = sub_iq['week_start_date'].dt.year\n",
    "sub_iq['weekofyear'] = sub_iq['week_start_date'].dt.weekofyear\n",
    "sub_iq.drop( columns = ['week_start_date'], inplace = True )"
   ]
  },
  {
   "cell_type": "code",
   "execution_count": 6,
   "metadata": {},
   "outputs": [],
   "source": [
    "submit = sub_sj.append( sub_iq, sort=True )"
   ]
  },
  {
   "cell_type": "code",
   "execution_count": 7,
   "metadata": {},
   "outputs": [],
   "source": [
    "test = pd.merge( submission, submit, on =['city','year','weekofyear'], how='left')"
   ]
  },
  {
   "cell_type": "code",
   "execution_count": 8,
   "metadata": {},
   "outputs": [],
   "source": [
    "test.to_csv(\"data/submission_xgb_monthwise.csv\", index = False)"
   ]
  }
 ],
 "metadata": {
  "kernelspec": {
   "display_name": "Python 3",
   "language": "python",
   "name": "python3"
  },
  "language_info": {
   "codemirror_mode": {
    "name": "ipython",
    "version": 3
   },
   "file_extension": ".py",
   "mimetype": "text/x-python",
   "name": "python",
   "nbconvert_exporter": "python",
   "pygments_lexer": "ipython3",
   "version": "3.7.3"
  }
 },
 "nbformat": 4,
 "nbformat_minor": 2
}
