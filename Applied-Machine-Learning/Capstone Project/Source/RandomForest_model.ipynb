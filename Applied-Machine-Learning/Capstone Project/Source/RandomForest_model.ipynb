{
 "cells": [
  {
   "cell_type": "code",
   "execution_count": 1,
   "metadata": {},
   "outputs": [],
   "source": [
    "import pandas as pd\n",
    "import numpy as np\n",
    "\n",
    "from sklearn.model_selection import GridSearchCV\n",
    "from sklearn.ensemble import RandomForestRegressor\n",
    "from sklearn.model_selection import train_test_split\n",
    "from sklearn.metrics import mean_absolute_error\n"
   ]
  },
  {
   "cell_type": "code",
   "execution_count": 2,
   "metadata": {
    "scrolled": true
   },
   "outputs": [],
   "source": [
    "train_filename_iq = ( './datasets/dengue_test_iq.pkl' )\n",
    "dengue_test_iq = pd.read_pickle( train_filename_iq )\n",
    "\n",
    "test_filename_sj = ( './datasets/dengue_test_sj.pkl' )\n",
    "dengue_test_sj = pd.read_pickle( test_filename_sj )\n",
    "\n",
    "submission_sj = pd.DataFrame( dengue_test_sj, columns = ['city'])\n",
    "submission_iq = pd.DataFrame( dengue_test_iq, columns = ['city'])\n",
    "submission_sj.reset_index( inplace = True)\n",
    "submission_sj['year'] = submission_sj['week_start_date'].dt.year\n",
    "submission_sj['weekofyear'] = submission_sj['week_start_date'].dt.weekofyear\n",
    "submission_iq.reset_index( inplace = True)\n",
    "submission_iq['year'] = submission_iq['week_start_date'].dt.year\n",
    "submission_iq['weekofyear'] = submission_iq['week_start_date'].dt.weekofyear\n",
    "submission = submission_sj.append( submission_iq )\n",
    "submission.drop( columns = ['week_start_date'], inplace = True )\n",
    "sub_sj = pd.DataFrame()\n",
    "sub_iq = pd.DataFrame()"
   ]
  },
  {
   "cell_type": "code",
   "execution_count": 3,
   "metadata": {
    "scrolled": false
   },
   "outputs": [
    {
     "name": "stderr",
     "output_type": "stream",
     "text": [
      "C:\\Users\\Resmi\\Anaconda3\\lib\\site-packages\\sklearn\\model_selection\\_search.py:813: DeprecationWarning: The default of the `iid` parameter will change from True to False in version 0.22 and will be removed in 0.24. This will change numeric results when test-set sizes are unequal.\n",
      "  DeprecationWarning)\n"
     ]
    },
    {
     "name": "stdout",
     "output_type": "stream",
     "text": [
      "San Juan Test  MAE error : 17.0\n",
      "San Juan Train MAE error : 12.73134328358209\n"
     ]
    },
    {
     "name": "stderr",
     "output_type": "stream",
     "text": [
      "C:\\Users\\Resmi\\Anaconda3\\lib\\site-packages\\sklearn\\model_selection\\_search.py:813: DeprecationWarning: The default of the `iid` parameter will change from True to False in version 0.22 and will be removed in 0.24. This will change numeric results when test-set sizes are unequal.\n",
      "  DeprecationWarning)\n"
     ]
    },
    {
     "name": "stdout",
     "output_type": "stream",
     "text": [
      "San Juan Test  MAE error : 13.666666666666666\n",
      "San Juan Train MAE error : 9.037037037037036\n"
     ]
    },
    {
     "name": "stderr",
     "output_type": "stream",
     "text": [
      "C:\\Users\\Resmi\\Anaconda3\\lib\\site-packages\\sklearn\\model_selection\\_search.py:813: DeprecationWarning: The default of the `iid` parameter will change from True to False in version 0.22 and will be removed in 0.24. This will change numeric results when test-set sizes are unequal.\n",
      "  DeprecationWarning)\n"
     ]
    },
    {
     "name": "stdout",
     "output_type": "stream",
     "text": [
      "San Juan Test  MAE error : 8.11111111111111\n",
      "San Juan Train MAE error : 6.351851851851852\n"
     ]
    },
    {
     "name": "stderr",
     "output_type": "stream",
     "text": [
      "C:\\Users\\Resmi\\Anaconda3\\lib\\site-packages\\sklearn\\model_selection\\_search.py:813: DeprecationWarning: The default of the `iid` parameter will change from True to False in version 0.22 and will be removed in 0.24. This will change numeric results when test-set sizes are unequal.\n",
      "  DeprecationWarning)\n"
     ]
    },
    {
     "name": "stdout",
     "output_type": "stream",
     "text": [
      "San Juan Test  MAE error : 7.391304347826087\n",
      "San Juan Train MAE error : 4.924242424242424\n"
     ]
    },
    {
     "name": "stderr",
     "output_type": "stream",
     "text": [
      "C:\\Users\\Resmi\\Anaconda3\\lib\\site-packages\\sklearn\\model_selection\\_search.py:813: DeprecationWarning: The default of the `iid` parameter will change from True to False in version 0.22 and will be removed in 0.24. This will change numeric results when test-set sizes are unequal.\n",
      "  DeprecationWarning)\n"
     ]
    },
    {
     "name": "stdout",
     "output_type": "stream",
     "text": [
      "San Juan Test  MAE error : 8.0\n",
      "San Juan Train MAE error : 5.153846153846154\n"
     ]
    },
    {
     "name": "stderr",
     "output_type": "stream",
     "text": [
      "C:\\Users\\Resmi\\Anaconda3\\lib\\site-packages\\sklearn\\model_selection\\_search.py:813: DeprecationWarning: The default of the `iid` parameter will change from True to False in version 0.22 and will be removed in 0.24. This will change numeric results when test-set sizes are unequal.\n",
      "  DeprecationWarning)\n"
     ]
    },
    {
     "name": "stdout",
     "output_type": "stream",
     "text": [
      "San Juan Test  MAE error : 12.222222222222221\n",
      "San Juan Train MAE error : 7.407407407407407\n"
     ]
    },
    {
     "name": "stderr",
     "output_type": "stream",
     "text": [
      "C:\\Users\\Resmi\\Anaconda3\\lib\\site-packages\\sklearn\\model_selection\\_search.py:813: DeprecationWarning: The default of the `iid` parameter will change from True to False in version 0.22 and will be removed in 0.24. This will change numeric results when test-set sizes are unequal.\n",
      "  DeprecationWarning)\n"
     ]
    },
    {
     "name": "stdout",
     "output_type": "stream",
     "text": [
      "San Juan Test  MAE error : 30.26086956521739\n",
      "San Juan Train MAE error : 14.925373134328359\n"
     ]
    },
    {
     "name": "stderr",
     "output_type": "stream",
     "text": [
      "C:\\Users\\Resmi\\Anaconda3\\lib\\site-packages\\sklearn\\model_selection\\_search.py:813: DeprecationWarning: The default of the `iid` parameter will change from True to False in version 0.22 and will be removed in 0.24. This will change numeric results when test-set sizes are unequal.\n",
      "  DeprecationWarning)\n"
     ]
    },
    {
     "name": "stdout",
     "output_type": "stream",
     "text": [
      "San Juan Test  MAE error : 33.72222222222222\n",
      "San Juan Train MAE error : 23.22222222222222\n"
     ]
    },
    {
     "name": "stderr",
     "output_type": "stream",
     "text": [
      "C:\\Users\\Resmi\\Anaconda3\\lib\\site-packages\\sklearn\\model_selection\\_search.py:813: DeprecationWarning: The default of the `iid` parameter will change from True to False in version 0.22 and will be removed in 0.24. This will change numeric results when test-set sizes are unequal.\n",
      "  DeprecationWarning)\n"
     ]
    },
    {
     "name": "stdout",
     "output_type": "stream",
     "text": [
      "San Juan Test  MAE error : 38.421052631578945\n",
      "San Juan Train MAE error : 22.350877192982455\n"
     ]
    },
    {
     "name": "stderr",
     "output_type": "stream",
     "text": [
      "C:\\Users\\Resmi\\Anaconda3\\lib\\site-packages\\sklearn\\model_selection\\_search.py:813: DeprecationWarning: The default of the `iid` parameter will change from True to False in version 0.22 and will be removed in 0.24. This will change numeric results when test-set sizes are unequal.\n",
      "  DeprecationWarning)\n"
     ]
    },
    {
     "name": "stdout",
     "output_type": "stream",
     "text": [
      "San Juan Test  MAE error : 29.818181818181817\n",
      "San Juan Train MAE error : 26.734375\n"
     ]
    },
    {
     "name": "stderr",
     "output_type": "stream",
     "text": [
      "C:\\Users\\Resmi\\Anaconda3\\lib\\site-packages\\sklearn\\model_selection\\_search.py:813: DeprecationWarning: The default of the `iid` parameter will change from True to False in version 0.22 and will be removed in 0.24. This will change numeric results when test-set sizes are unequal.\n",
      "  DeprecationWarning)\n"
     ]
    },
    {
     "name": "stdout",
     "output_type": "stream",
     "text": [
      "San Juan Test  MAE error : 36.22222222222222\n",
      "San Juan Train MAE error : 27.22222222222222\n",
      "San Juan Test  MAE error : 24.38888888888889\n",
      "San Juan Train MAE error : 18.462962962962962\n"
     ]
    },
    {
     "name": "stderr",
     "output_type": "stream",
     "text": [
      "C:\\Users\\Resmi\\Anaconda3\\lib\\site-packages\\sklearn\\model_selection\\_search.py:813: DeprecationWarning: The default of the `iid` parameter will change from True to False in version 0.22 and will be removed in 0.24. This will change numeric results when test-set sizes are unequal.\n",
      "  DeprecationWarning)\n"
     ]
    }
   ],
   "source": [
    "for month in range( 1, 13 ):\n",
    "    train_filename = ( './datasets/train_sj_month_' + str( month ) + '.pkl' )\n",
    "    test_filename  = ( './datasets/test_sj_month_' + str( month ) + '.pkl' )\n",
    "    dengue_train_sj_month = pd.read_pickle( train_filename )\n",
    "    dengue_test_sj_month  = pd.read_pickle( test_filename )\n",
    "    X = pd.DataFrame( dengue_train_sj_month )\n",
    "    X.drop( columns = ['city','year','total_cases','month'], inplace = True )\n",
    "    y = dengue_train_sj_month.total_cases\n",
    "    X_sj_Full_train, X_sj_Full_test, Y_sj_Full_train, Y_sj_Full_test = train_test_split( X, y, shuffle = False)\n",
    "    param_grid = { \n",
    "        \"n_estimators\"      : [160,220,150],\n",
    "        \"max_features\"      : [\"sqrt\"],\n",
    "        \"min_samples_split\" : [10,12,18],\n",
    "        \"bootstrap\"         : [True],\n",
    "        \"max_depth\"         : [2,4,5,8]\n",
    "        }\n",
    "    estimator = RandomForestRegressor( criterion='mae', oob_score=True)\n",
    "    rf_est = GridSearchCV(estimator, param_grid, n_jobs=-1, cv=5, verbose=0).fit( X_sj_Full_train, Y_sj_Full_train)\n",
    "    Y_sj_test_pred = rf_est.best_estimator_.predict(X_sj_Full_test).astype(int)\n",
    "    print (\"San Juan Test  MAE error :\", mean_absolute_error(Y_sj_test_pred, Y_sj_Full_test))\n",
    "    Y_sj_train_pred = rf_est.best_estimator_.predict(X_sj_Full_train).astype(int)\n",
    "    print (\"San Juan Train MAE error :\", mean_absolute_error(Y_sj_train_pred, Y_sj_Full_train))\n",
    "    X_test = pd.DataFrame( dengue_test_sj_month, columns = X.columns )\n",
    "    submit_pred_sj = pd.DataFrame( dengue_test_sj_month, columns = ['city','week_start_date'])\n",
    "    submit_pred_sj['total_cases'] = rf_est.best_estimator_.predict(X_test).astype( 'int')\n",
    "    sub_sj = sub_sj.append( submit_pred_sj )\n",
    "sub_sj = sub_sj.drop( columns=['week_start_date'])\n",
    "sub_sj.reset_index( inplace = True )\n",
    "sub_sj['year'] = sub_sj['week_start_date'].dt.year\n",
    "sub_sj['weekofyear'] = sub_sj['week_start_date'].dt.weekofyear\n",
    "sub_sj.drop( columns = ['week_start_date'], inplace = True )"
   ]
  },
  {
   "cell_type": "code",
   "execution_count": 4,
   "metadata": {
    "scrolled": false
   },
   "outputs": [
    {
     "name": "stderr",
     "output_type": "stream",
     "text": [
      "C:\\Users\\Resmi\\Anaconda3\\lib\\site-packages\\sklearn\\model_selection\\_search.py:813: DeprecationWarning: The default of the `iid` parameter will change from True to False in version 0.22 and will be removed in 0.24. This will change numeric results when test-set sizes are unequal.\n",
      "  DeprecationWarning)\n"
     ]
    },
    {
     "name": "stdout",
     "output_type": "stream",
     "text": [
      "Iquitos Test  MAE error : 11.461538461538462\n",
      "Iquitos Train MAE error : 4.972972972972973\n",
      "Iquitos Test  MAE error : 11.8\n",
      "Iquitos Train MAE error : 6.633333333333334\n",
      "Iquitos Test  MAE error : 4.0\n",
      "Iquitos Train MAE error : 3.7333333333333334\n"
     ]
    },
    {
     "name": "stderr",
     "output_type": "stream",
     "text": [
      "C:\\Users\\Resmi\\Anaconda3\\lib\\site-packages\\sklearn\\model_selection\\_search.py:813: DeprecationWarning: The default of the `iid` parameter will change from True to False in version 0.22 and will be removed in 0.24. This will change numeric results when test-set sizes are unequal.\n",
      "  DeprecationWarning)\n"
     ]
    },
    {
     "name": "stdout",
     "output_type": "stream",
     "text": [
      "Iquitos Test  MAE error : 2.1538461538461537\n",
      "Iquitos Train MAE error : 2.4054054054054053\n",
      "Iquitos Test  MAE error : 2.3\n",
      "Iquitos Train MAE error : 2.433333333333333\n",
      "Iquitos Test  MAE error : 1.8\n",
      "Iquitos Train MAE error : 2.2333333333333334\n"
     ]
    },
    {
     "name": "stderr",
     "output_type": "stream",
     "text": [
      "C:\\Users\\Resmi\\Anaconda3\\lib\\site-packages\\sklearn\\model_selection\\_search.py:813: DeprecationWarning: The default of the `iid` parameter will change from True to False in version 0.22 and will be removed in 0.24. This will change numeric results when test-set sizes are unequal.\n",
      "  DeprecationWarning)\n"
     ]
    },
    {
     "name": "stdout",
     "output_type": "stream",
     "text": [
      "Iquitos Test  MAE error : 1.9166666666666667\n",
      "Iquitos Train MAE error : 1.4411764705882353\n",
      "Iquitos Test  MAE error : 2.5\n",
      "Iquitos Train MAE error : 1.3\n"
     ]
    },
    {
     "name": "stderr",
     "output_type": "stream",
     "text": [
      "C:\\Users\\Resmi\\Anaconda3\\lib\\site-packages\\sklearn\\model_selection\\_search.py:813: DeprecationWarning: The default of the `iid` parameter will change from True to False in version 0.22 and will be removed in 0.24. This will change numeric results when test-set sizes are unequal.\n",
      "  DeprecationWarning)\n"
     ]
    },
    {
     "name": "stdout",
     "output_type": "stream",
     "text": [
      "Iquitos Test  MAE error : 11.0\n",
      "Iquitos Train MAE error : 3.1875\n",
      "Iquitos Test  MAE error : 17.916666666666668\n",
      "Iquitos Train MAE error : 4.285714285714286\n",
      "Iquitos Test  MAE error : 7.0\n",
      "Iquitos Train MAE error : 3.2666666666666666\n",
      "Iquitos Test  MAE error : 5.5\n",
      "Iquitos Train MAE error : 11.633333333333333\n"
     ]
    }
   ],
   "source": [
    "for month in range( 1, 13 ):\n",
    "    train_filename = ( './datasets/train_iq_month_' + str( month ) + '.pkl' )\n",
    "    test_filename  = ( './datasets/test_iq_month_' + str( month ) + '.pkl' )\n",
    "    dengue_train_iq_month = pd.read_pickle( train_filename )\n",
    "    dengue_test_iq_month  = pd.read_pickle( test_filename )\n",
    "    X = pd.DataFrame( dengue_train_iq_month )\n",
    "    X.drop( columns = ['city','year','total_cases','month'], inplace = True )\n",
    "    y = dengue_train_iq_month.total_cases\n",
    "    X_iq_train, X_iq_test, Y_iq_train, Y_iq_test = train_test_split( X, y, shuffle = False)\n",
    "    param_grid = { \n",
    "        \"n_estimators\"      : [160,220,100],\n",
    "        \"max_features\"      : [\"sqrt\"],\n",
    "        \"min_samples_split\" : [10,16,20],\n",
    "        \"bootstrap\"         : [True],\n",
    "        \"max_depth\"         : [2,4,5,8]\n",
    "        }\n",
    "    estimator = RandomForestRegressor( criterion='mae', oob_score=True)\n",
    "    rf_est = GridSearchCV(estimator, param_grid, n_jobs=-1, cv=5, verbose=0).fit( X_iq_train, Y_iq_train )\n",
    "    Y_iq_pred = rf_est.best_estimator_.predict(X_iq_test).astype(int)\n",
    "    print (\"Iquitos Test  MAE error :\", mean_absolute_error(Y_iq_pred, Y_iq_test))\n",
    "    pred_train_iq = rf_est.best_estimator_.predict(X_iq_train).astype(int)\n",
    "    print (\"Iquitos Train MAE error :\", mean_absolute_error(pred_train_iq, Y_iq_train))\n",
    "    X_test = pd.DataFrame( dengue_test_iq_month, columns = X.columns )\n",
    "    submit_pred_iq = pd.DataFrame( dengue_test_iq_month, columns = ['city', 'week_start_date'])\n",
    "    submit_pred_iq['total_cases'] = rf_est.best_estimator_.predict(X_test).astype( 'int')\n",
    "    sub_iq = sub_iq.append( submit_pred_iq )\n",
    "sub_iq = sub_iq.drop( columns=['week_start_date'])\n",
    "sub_iq.reset_index( inplace = True )\n",
    "sub_iq['year'] = sub_iq['week_start_date'].dt.year\n",
    "sub_iq['weekofyear'] = sub_iq['week_start_date'].dt.weekofyear\n",
    "sub_iq.drop( columns = ['week_start_date'], inplace = True )"
   ]
  },
  {
   "cell_type": "code",
   "execution_count": 5,
   "metadata": {},
   "outputs": [],
   "source": [
    "submit = sub_sj.append( sub_iq, sort=True )"
   ]
  },
  {
   "cell_type": "code",
   "execution_count": 6,
   "metadata": {},
   "outputs": [],
   "source": [
    "submission_RF = pd.merge( submission, submit, on=['city','year','weekofyear'], how='left' )"
   ]
  },
  {
   "cell_type": "code",
   "execution_count": 7,
   "metadata": {},
   "outputs": [],
   "source": [
    "submission_RF.columns = ['city','year','weekofyear','total_cases']\n",
    "submission_RF.to_excel(\"data/submission_month_RF.xlsx\", index = False)"
   ]
  },
  {
   "cell_type": "code",
   "execution_count": 8,
   "metadata": {},
   "outputs": [],
   "source": [
    "submission_RF.to_csv(\"data/submission_month_RF.csv\", index = False)"
   ]
  },
  {
   "cell_type": "code",
   "execution_count": null,
   "metadata": {},
   "outputs": [],
   "source": []
  }
 ],
 "metadata": {
  "kernelspec": {
   "display_name": "Python 3",
   "language": "python",
   "name": "python3"
  },
  "language_info": {
   "codemirror_mode": {
    "name": "ipython",
    "version": 3
   },
   "file_extension": ".py",
   "mimetype": "text/x-python",
   "name": "python",
   "nbconvert_exporter": "python",
   "pygments_lexer": "ipython3",
   "version": "3.7.3"
  }
 },
 "nbformat": 4,
 "nbformat_minor": 2
}
