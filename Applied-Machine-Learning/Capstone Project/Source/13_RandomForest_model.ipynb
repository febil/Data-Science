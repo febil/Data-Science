{
 "cells": [
  {
   "cell_type": "code",
   "execution_count": 6,
   "metadata": {},
   "outputs": [],
   "source": [
    "import pandas as pd\n",
    "import numpy as np\n",
    "\n",
    "from sklearn.model_selection import GridSearchCV\n",
    "from sklearn.ensemble import RandomForestRegressor\n",
    "from sklearn.model_selection import train_test_split\n",
    "from sklearn.metrics import mean_absolute_error\n"
   ]
  },
  {
   "cell_type": "code",
   "execution_count": 7,
   "metadata": {
    "scrolled": true
   },
   "outputs": [],
   "source": [
    "train_filename_iq = ( './../datasets/dengue_test_iq.pkl' )\n",
    "dengue_test_iq = pd.read_pickle( train_filename_iq )\n",
    "\n",
    "test_filename_sj = ( './../datasets/dengue_test_sj.pkl' )\n",
    "dengue_test_sj = pd.read_pickle( test_filename_sj )\n",
    "\n",
    "submission_sj = pd.DataFrame( dengue_test_sj, columns = ['city'])\n",
    "submission_iq = pd.DataFrame( dengue_test_iq, columns = ['city'])\n",
    "submission_sj.reset_index( inplace = True)\n",
    "submission_sj['year'] = submission_sj['week_start_date'].dt.year\n",
    "submission_sj['weekofyear'] = submission_sj['week_start_date'].dt.weekofyear\n",
    "submission_iq.reset_index( inplace = True)\n",
    "submission_iq['year'] = submission_iq['week_start_date'].dt.year\n",
    "submission_iq['weekofyear'] = submission_iq['week_start_date'].dt.weekofyear\n",
    "submission = submission_sj.append( submission_iq )\n",
    "submission.drop( columns = ['week_start_date'], inplace = True )\n",
    "sub_sj = pd.DataFrame()\n",
    "sub_iq = pd.DataFrame()"
   ]
  },
  {
   "cell_type": "code",
   "execution_count": 16,
   "metadata": {
    "scrolled": false
   },
   "outputs": [
    {
     "name": "stdout",
     "output_type": "stream",
     "text": [
      "San Juan Test  MAE error : 17.782608695652176\n",
      "San Juan Train MAE error : 12.537313432835822\n",
      "San Juan Test  MAE error : 13.166666666666666\n",
      "San Juan Train MAE error : 8.74074074074074\n",
      "San Juan Test  MAE error : 8.222222222222221\n",
      "San Juan Train MAE error : 6.574074074074074\n",
      "San Juan Test  MAE error : 7.260869565217392\n",
      "San Juan Train MAE error : 4.924242424242424\n",
      "San Juan Test  MAE error : 6.944444444444445\n",
      "San Juan Train MAE error : 5.403846153846154\n",
      "San Juan Test  MAE error : 10.222222222222221\n",
      "San Juan Train MAE error : 7.314814814814815\n",
      "San Juan Test  MAE error : 28.82608695652174\n",
      "San Juan Train MAE error : 15.462686567164178\n",
      "San Juan Test  MAE error : 33.388888888888886\n",
      "San Juan Train MAE error : 23.25925925925926\n",
      "San Juan Test  MAE error : 37.8421052631579\n",
      "San Juan Train MAE error : 22.31578947368421\n",
      "San Juan Test  MAE error : 38.04545454545455\n",
      "San Juan Train MAE error : 28.0\n",
      "San Juan Test  MAE error : 36.111111111111114\n",
      "San Juan Train MAE error : 26.85185185185185\n",
      "San Juan Test  MAE error : 26.77777777777778\n",
      "San Juan Train MAE error : 19.444444444444443\n"
     ]
    },
    {
     "ename": "ValueError",
     "evalue": "cannot insert level_0, already exists",
     "output_type": "error",
     "traceback": [
      "\u001b[1;31m---------------------------------------------------------------------------\u001b[0m",
      "\u001b[1;31mValueError\u001b[0m                                Traceback (most recent call last)",
      "\u001b[1;32m<ipython-input-16-4f0c029903ec>\u001b[0m in \u001b[0;36m<module>\u001b[1;34m\u001b[0m\n\u001b[0;32m     29\u001b[0m     \u001b[0msub_sj\u001b[0m \u001b[1;33m=\u001b[0m \u001b[0msub_sj\u001b[0m\u001b[1;33m.\u001b[0m\u001b[0mappend\u001b[0m\u001b[1;33m(\u001b[0m \u001b[0msubmit_pred_sj\u001b[0m\u001b[1;33m,\u001b[0m \u001b[0msort\u001b[0m \u001b[1;33m=\u001b[0m \u001b[1;32mFalse\u001b[0m \u001b[1;33m)\u001b[0m\u001b[1;33m\u001b[0m\u001b[1;33m\u001b[0m\u001b[0m\n\u001b[0;32m     30\u001b[0m \u001b[0msub_sj\u001b[0m \u001b[1;33m=\u001b[0m \u001b[0msub_sj\u001b[0m\u001b[1;33m.\u001b[0m\u001b[0mdrop\u001b[0m\u001b[1;33m(\u001b[0m \u001b[0mcolumns\u001b[0m\u001b[1;33m=\u001b[0m\u001b[1;33m[\u001b[0m\u001b[1;34m'week_start_date'\u001b[0m\u001b[1;33m]\u001b[0m\u001b[1;33m)\u001b[0m\u001b[1;33m\u001b[0m\u001b[1;33m\u001b[0m\u001b[0m\n\u001b[1;32m---> 31\u001b[1;33m \u001b[0msub_sj\u001b[0m\u001b[1;33m.\u001b[0m\u001b[0mreset_index\u001b[0m\u001b[1;33m(\u001b[0m \u001b[0minplace\u001b[0m \u001b[1;33m=\u001b[0m \u001b[1;32mTrue\u001b[0m \u001b[1;33m)\u001b[0m\u001b[1;33m\u001b[0m\u001b[1;33m\u001b[0m\u001b[0m\n\u001b[0m\u001b[0;32m     32\u001b[0m \u001b[0msub_sj\u001b[0m\u001b[1;33m[\u001b[0m\u001b[1;34m'year'\u001b[0m\u001b[1;33m]\u001b[0m \u001b[1;33m=\u001b[0m \u001b[0msub_sj\u001b[0m\u001b[1;33m[\u001b[0m\u001b[1;34m'week_start_date'\u001b[0m\u001b[1;33m]\u001b[0m\u001b[1;33m.\u001b[0m\u001b[0mdt\u001b[0m\u001b[1;33m.\u001b[0m\u001b[0myear\u001b[0m\u001b[1;33m\u001b[0m\u001b[1;33m\u001b[0m\u001b[0m\n\u001b[0;32m     33\u001b[0m \u001b[0msub_sj\u001b[0m\u001b[1;33m[\u001b[0m\u001b[1;34m'weekofyear'\u001b[0m\u001b[1;33m]\u001b[0m \u001b[1;33m=\u001b[0m \u001b[0msub_sj\u001b[0m\u001b[1;33m[\u001b[0m\u001b[1;34m'week_start_date'\u001b[0m\u001b[1;33m]\u001b[0m\u001b[1;33m.\u001b[0m\u001b[0mdt\u001b[0m\u001b[1;33m.\u001b[0m\u001b[0mweekofyear\u001b[0m\u001b[1;33m\u001b[0m\u001b[1;33m\u001b[0m\u001b[0m\n",
      "\u001b[1;32m~\\Anaconda3\\lib\\site-packages\\pandas\\core\\frame.py\u001b[0m in \u001b[0;36mreset_index\u001b[1;34m(self, level, drop, inplace, col_level, col_fill)\u001b[0m\n\u001b[0;32m   4429\u001b[0m                 \u001b[1;31m# to ndarray and maybe infer different dtype\u001b[0m\u001b[1;33m\u001b[0m\u001b[1;33m\u001b[0m\u001b[1;33m\u001b[0m\u001b[0m\n\u001b[0;32m   4430\u001b[0m                 \u001b[0mlevel_values\u001b[0m \u001b[1;33m=\u001b[0m \u001b[0m_maybe_casted_values\u001b[0m\u001b[1;33m(\u001b[0m\u001b[0mlev\u001b[0m\u001b[1;33m,\u001b[0m \u001b[0mlab\u001b[0m\u001b[1;33m)\u001b[0m\u001b[1;33m\u001b[0m\u001b[1;33m\u001b[0m\u001b[0m\n\u001b[1;32m-> 4431\u001b[1;33m                 \u001b[0mnew_obj\u001b[0m\u001b[1;33m.\u001b[0m\u001b[0minsert\u001b[0m\u001b[1;33m(\u001b[0m\u001b[1;36m0\u001b[0m\u001b[1;33m,\u001b[0m \u001b[0mname\u001b[0m\u001b[1;33m,\u001b[0m \u001b[0mlevel_values\u001b[0m\u001b[1;33m)\u001b[0m\u001b[1;33m\u001b[0m\u001b[1;33m\u001b[0m\u001b[0m\n\u001b[0m\u001b[0;32m   4432\u001b[0m \u001b[1;33m\u001b[0m\u001b[0m\n\u001b[0;32m   4433\u001b[0m         \u001b[0mnew_obj\u001b[0m\u001b[1;33m.\u001b[0m\u001b[0mindex\u001b[0m \u001b[1;33m=\u001b[0m \u001b[0mnew_index\u001b[0m\u001b[1;33m\u001b[0m\u001b[1;33m\u001b[0m\u001b[0m\n",
      "\u001b[1;32m~\\Anaconda3\\lib\\site-packages\\pandas\\core\\frame.py\u001b[0m in \u001b[0;36minsert\u001b[1;34m(self, loc, column, value, allow_duplicates)\u001b[0m\n\u001b[0;32m   3471\u001b[0m         \u001b[0mvalue\u001b[0m \u001b[1;33m=\u001b[0m \u001b[0mself\u001b[0m\u001b[1;33m.\u001b[0m\u001b[0m_sanitize_column\u001b[0m\u001b[1;33m(\u001b[0m\u001b[0mcolumn\u001b[0m\u001b[1;33m,\u001b[0m \u001b[0mvalue\u001b[0m\u001b[1;33m,\u001b[0m \u001b[0mbroadcast\u001b[0m\u001b[1;33m=\u001b[0m\u001b[1;32mFalse\u001b[0m\u001b[1;33m)\u001b[0m\u001b[1;33m\u001b[0m\u001b[1;33m\u001b[0m\u001b[0m\n\u001b[0;32m   3472\u001b[0m         self._data.insert(loc, column, value,\n\u001b[1;32m-> 3473\u001b[1;33m                           allow_duplicates=allow_duplicates)\n\u001b[0m\u001b[0;32m   3474\u001b[0m \u001b[1;33m\u001b[0m\u001b[0m\n\u001b[0;32m   3475\u001b[0m     \u001b[1;32mdef\u001b[0m \u001b[0massign\u001b[0m\u001b[1;33m(\u001b[0m\u001b[0mself\u001b[0m\u001b[1;33m,\u001b[0m \u001b[1;33m**\u001b[0m\u001b[0mkwargs\u001b[0m\u001b[1;33m)\u001b[0m\u001b[1;33m:\u001b[0m\u001b[1;33m\u001b[0m\u001b[1;33m\u001b[0m\u001b[0m\n",
      "\u001b[1;32m~\\Anaconda3\\lib\\site-packages\\pandas\\core\\internals\\managers.py\u001b[0m in \u001b[0;36minsert\u001b[1;34m(self, loc, item, value, allow_duplicates)\u001b[0m\n\u001b[0;32m   1147\u001b[0m         \u001b[1;32mif\u001b[0m \u001b[1;32mnot\u001b[0m \u001b[0mallow_duplicates\u001b[0m \u001b[1;32mand\u001b[0m \u001b[0mitem\u001b[0m \u001b[1;32min\u001b[0m \u001b[0mself\u001b[0m\u001b[1;33m.\u001b[0m\u001b[0mitems\u001b[0m\u001b[1;33m:\u001b[0m\u001b[1;33m\u001b[0m\u001b[1;33m\u001b[0m\u001b[0m\n\u001b[0;32m   1148\u001b[0m             \u001b[1;31m# Should this be a different kind of error??\u001b[0m\u001b[1;33m\u001b[0m\u001b[1;33m\u001b[0m\u001b[1;33m\u001b[0m\u001b[0m\n\u001b[1;32m-> 1149\u001b[1;33m             \u001b[1;32mraise\u001b[0m \u001b[0mValueError\u001b[0m\u001b[1;33m(\u001b[0m\u001b[1;34m'cannot insert {}, already exists'\u001b[0m\u001b[1;33m.\u001b[0m\u001b[0mformat\u001b[0m\u001b[1;33m(\u001b[0m\u001b[0mitem\u001b[0m\u001b[1;33m)\u001b[0m\u001b[1;33m)\u001b[0m\u001b[1;33m\u001b[0m\u001b[1;33m\u001b[0m\u001b[0m\n\u001b[0m\u001b[0;32m   1150\u001b[0m \u001b[1;33m\u001b[0m\u001b[0m\n\u001b[0;32m   1151\u001b[0m         \u001b[1;32mif\u001b[0m \u001b[1;32mnot\u001b[0m \u001b[0misinstance\u001b[0m\u001b[1;33m(\u001b[0m\u001b[0mloc\u001b[0m\u001b[1;33m,\u001b[0m \u001b[0mint\u001b[0m\u001b[1;33m)\u001b[0m\u001b[1;33m:\u001b[0m\u001b[1;33m\u001b[0m\u001b[1;33m\u001b[0m\u001b[0m\n",
      "\u001b[1;31mValueError\u001b[0m: cannot insert level_0, already exists"
     ]
    }
   ],
   "source": [
    "for month in range( 1, 13 ):\n",
    "    train_filename = ( './../datasets/train_sj_month_' + str( month ) + '.pkl' )\n",
    "    test_filename  = ( './../datasets/test_sj_month_' + str( month ) + '.pkl' )\n",
    "    dengue_train_sj_month = pd.read_pickle( train_filename )\n",
    "    dengue_test_sj_month  = pd.read_pickle( test_filename )\n",
    "    X = pd.DataFrame( dengue_train_sj_month )\n",
    "    X.drop( columns = ['city','year','total_cases','month'], inplace = True )\n",
    "    y = dengue_train_sj_month.total_cases\n",
    "    X_sj_Full_train, X_sj_Full_test, Y_sj_Full_train, Y_sj_Full_test = train_test_split(\n",
    "                                                                    X, y, shuffle = False)\n",
    "    param_grid = { \n",
    "        \"n_estimators\"      : [160,220,150],\n",
    "        \"max_features\"      : [\"sqrt\"],\n",
    "        \"min_samples_split\" : [10,12,18],\n",
    "        \"bootstrap\"         : [True],\n",
    "        \"max_depth\"         : [2,4,5,8]\n",
    "        }\n",
    "    estimator = RandomForestRegressor( criterion='mae', oob_score=True)\n",
    "    rf_est = GridSearchCV(estimator, param_grid,\n",
    "                          n_jobs=-1, cv=5, verbose=0,\n",
    "                          iid=True ).fit( X_sj_Full_train, Y_sj_Full_train)\n",
    "    Y_sj_test_pred = rf_est.best_estimator_.predict(X_sj_Full_test).astype(int)\n",
    "    print (\"San Juan Test  MAE error :\", mean_absolute_error(Y_sj_test_pred, Y_sj_Full_test))\n",
    "    Y_sj_train_pred = rf_est.best_estimator_.predict(X_sj_Full_train).astype(int)\n",
    "    print (\"San Juan Train MAE error :\", mean_absolute_error(Y_sj_train_pred, Y_sj_Full_train))\n",
    "    X_test = pd.DataFrame( dengue_test_sj_month, columns = X.columns )\n",
    "    submit_pred_sj = pd.DataFrame( dengue_test_sj_month, columns = ['city','week_start_date'])\n",
    "    submit_pred_sj['total_cases'] = rf_est.best_estimator_.predict(X_test).astype( 'int')\n",
    "    sub_sj = sub_sj.append( submit_pred_sj, sort = False )\n",
    "sub_sj = sub_sj.drop( columns=['week_start_date'])\n",
    "sub_sj.reset_index( inplace = True )\n",
    "sub_sj['year'] = sub_sj['week_start_date'].dt.year\n",
    "sub_sj['weekofyear'] = sub_sj['week_start_date'].dt.weekofyear\n",
    "sub_sj.drop( columns = ['week_start_date'], inplace = True )"
   ]
  },
  {
   "cell_type": "code",
   "execution_count": null,
   "metadata": {
    "scrolled": false
   },
   "outputs": [],
   "source": [
    "for month in range( 1, 13 ):\n",
    "    train_filename = ( './../datasets/train_iq_month_' + str( month ) + '.pkl' )\n",
    "    test_filename  = ( './../datasets/test_iq_month_' + str( month ) + '.pkl' )\n",
    "    dengue_train_iq_month = pd.read_pickle( train_filename )\n",
    "    dengue_test_iq_month  = pd.read_pickle( test_filename )\n",
    "    X = pd.DataFrame( dengue_train_iq_month )\n",
    "    X.drop( columns = ['city','year','total_cases','month'], inplace = True )\n",
    "    y = dengue_train_iq_month.total_cases\n",
    "    X_iq_train, X_iq_test, Y_iq_train, Y_iq_test = train_test_split( X, y, shuffle = False)\n",
    "    param_grid = { \n",
    "        \"n_estimators\"      : [160,220,100],\n",
    "        \"max_features\"      : [\"sqrt\"],\n",
    "        \"min_samples_split\" : [10,16,20],\n",
    "        \"bootstrap\"         : [True],\n",
    "        \"max_depth\"         : [2,4,5,8]\n",
    "        }\n",
    "    estimator = RandomForestRegressor( criterion='mae', oob_score=True)\n",
    "    rf_est = GridSearchCV(estimator, param_grid,\n",
    "                          n_jobs=-1, cv=5, verbose=0, iid=True).fit( X_iq_train, Y_iq_train )\n",
    "    Y_iq_pred = rf_est.best_estimator_.predict(X_iq_test).astype(int)\n",
    "    print (\"Iquitos Test  MAE error :\", mean_absolute_error(Y_iq_pred, Y_iq_test))\n",
    "    pred_train_iq = rf_est.best_estimator_.predict(X_iq_train).astype(int)\n",
    "    print (\"Iquitos Train MAE error :\", mean_absolute_error(pred_train_iq, Y_iq_train))\n",
    "    X_test = pd.DataFrame( dengue_test_iq_month, columns = X.columns )\n",
    "    submit_pred_iq = pd.DataFrame( dengue_test_iq_month, columns = ['city', 'week_start_date'])\n",
    "    submit_pred_iq['total_cases'] = rf_est.best_estimator_.predict(X_test).astype( 'int')\n",
    "    sub_iq = sub_iq.append( submit_pred_iq, sort = False )\n",
    "sub_iq.drop( columns=['week_start_date'], inplace = True)\n",
    "sub_iq.reset_index( inplace = True )\n",
    "sub_iq['year'] = sub_iq['week_start_date'].dt.year\n",
    "sub_iq['weekofyear'] = sub_iq['week_start_date'].dt.weekofyear\n",
    "sub_iq.drop( columns = ['week_start_date'], inplace = True )"
   ]
  },
  {
   "cell_type": "code",
   "execution_count": null,
   "metadata": {},
   "outputs": [],
   "source": [
    "submit = sub_sj.append( sub_iq, sort=True )"
   ]
  },
  {
   "cell_type": "code",
   "execution_count": null,
   "metadata": {},
   "outputs": [],
   "source": [
    "submission_RF = pd.merge( submission, submit, on=['city','year','weekofyear'], how='left' )"
   ]
  },
  {
   "cell_type": "code",
   "execution_count": null,
   "metadata": {},
   "outputs": [],
   "source": [
    "submission_RF.columns = ['city','year','weekofyear','total_cases']\n",
    "submission_RF.to_excel(\"data/submission_month_RF.xlsx\", index = False)"
   ]
  },
  {
   "cell_type": "code",
   "execution_count": null,
   "metadata": {},
   "outputs": [],
   "source": [
    "submission_RF.to_csv(\"data/submission_month_RF.csv\", index = False)"
   ]
  },
  {
   "cell_type": "code",
   "execution_count": null,
   "metadata": {},
   "outputs": [],
   "source": []
  }
 ],
 "metadata": {
  "kernelspec": {
   "display_name": "Python 3",
   "language": "python",
   "name": "python3"
  },
  "language_info": {
   "codemirror_mode": {
    "name": "ipython",
    "version": 3
   },
   "file_extension": ".py",
   "mimetype": "text/x-python",
   "name": "python",
   "nbconvert_exporter": "python",
   "pygments_lexer": "ipython3",
   "version": "3.7.3"
  }
 },
 "nbformat": 4,
 "nbformat_minor": 2
}
