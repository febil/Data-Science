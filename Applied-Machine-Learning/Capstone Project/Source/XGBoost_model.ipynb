{
 "cells": [
  {
   "cell_type": "code",
   "execution_count": 5,
   "metadata": {},
   "outputs": [],
   "source": [
    "import pandas as pd\n",
    "import numpy as np\n",
    "\n",
    "#from xgboost.sklearn import XGBRegressor\n",
    "import xgboost as xgb\n",
    "from sklearn.model_selection import GridSearchCV\n",
    "from sklearn.model_selection import train_test_split\n",
    "from sklearn.metrics import mean_absolute_error"
   ]
  },
  {
   "cell_type": "code",
   "execution_count": 2,
   "metadata": {},
   "outputs": [],
   "source": [
    "train_filename_iq = ( './datasets/dengue_test_iq.pkl' )\n",
    "dengue_test_iq = pd.read_pickle( train_filename_iq )\n",
    "\n",
    "test_filename_sj = ( './datasets/dengue_test_sj.pkl' )\n",
    "dengue_test_sj = pd.read_pickle( test_filename_sj )\n",
    "\n",
    "submission_sj = pd.DataFrame( dengue_test_sj, columns = ['city'])\n",
    "submission_iq = pd.DataFrame( dengue_test_iq, columns = ['city'])\n",
    "submission_sj.reset_index( inplace = True)\n",
    "submission_sj['year'] = submission_sj['week_start_date'].dt.year\n",
    "submission_sj['weekofyear'] = submission_sj['week_start_date'].dt.weekofyear\n",
    "submission_iq.reset_index( inplace = True)\n",
    "submission_iq['year'] = submission_iq['week_start_date'].dt.year\n",
    "submission_iq['weekofyear'] = submission_iq['week_start_date'].dt.weekofyear\n",
    "submission = submission_sj.append( submission_iq )\n",
    "submission.drop( columns = ['week_start_date'], inplace = True )"
   ]
  },
  {
   "cell_type": "code",
   "execution_count": 6,
   "metadata": {
    "scrolled": true
   },
   "outputs": [],
   "source": [
    "sub_sj = pd.DataFrame()\n",
    "sub_iq = pd.DataFrame()"
   ]
  },
  {
   "cell_type": "code",
   "execution_count": 8,
   "metadata": {
    "scrolled": false
   },
   "outputs": [
    {
     "name": "stdout",
     "output_type": "stream",
     "text": [
      "Fitting 5 folds for each of 216 candidates, totalling 1080 fits\n"
     ]
    },
    {
     "name": "stderr",
     "output_type": "stream",
     "text": [
      "[Parallel(n_jobs=4)]: Using backend LokyBackend with 4 concurrent workers.\n",
      "[Parallel(n_jobs=4)]: Done  42 tasks      | elapsed:    5.0s\n",
      "[Parallel(n_jobs=4)]: Done 192 tasks      | elapsed:   23.0s\n",
      "[Parallel(n_jobs=4)]: Done 442 tasks      | elapsed:   50.5s\n",
      "[Parallel(n_jobs=4)]: Done 792 tasks      | elapsed:  1.5min\n",
      "[Parallel(n_jobs=4)]: Done 1080 out of 1080 | elapsed:  2.3min finished\n",
      "C:\\Users\\Resmi\\Anaconda3\\lib\\site-packages\\xgboost\\core.py:587: FutureWarning: Series.base is deprecated and will be removed in a future version\n",
      "  if getattr(data, 'base', None) is not None and \\\n",
      "C:\\Users\\Resmi\\Anaconda3\\lib\\site-packages\\xgboost\\core.py:588: FutureWarning: Series.base is deprecated and will be removed in a future version\n",
      "  data.base is not None and isinstance(data, np.ndarray) \\\n"
     ]
    },
    {
     "name": "stdout",
     "output_type": "stream",
     "text": [
      "[20:15:43] WARNING: C:/Jenkins/workspace/xgboost-win64_release_0.90/src/objective/regression_obj.cu:152: reg:linear is now deprecated in favor of reg:squarederror.\n",
      "San Juan Test  MAE error : 1.9565217391304348\n",
      "San Juan Train MAE error : 3.5970149253731343\n",
      "Fitting 5 folds for each of 216 candidates, totalling 1080 fits\n"
     ]
    },
    {
     "name": "stderr",
     "output_type": "stream",
     "text": [
      "[Parallel(n_jobs=4)]: Using backend LokyBackend with 4 concurrent workers.\n",
      "[Parallel(n_jobs=4)]: Done  42 tasks      | elapsed:    4.2s\n",
      "[Parallel(n_jobs=4)]: Done 192 tasks      | elapsed:   19.1s\n",
      "[Parallel(n_jobs=4)]: Done 442 tasks      | elapsed:   44.2s\n",
      "[Parallel(n_jobs=4)]: Done 792 tasks      | elapsed:  1.3min\n",
      "[Parallel(n_jobs=4)]: Done 1080 out of 1080 | elapsed:  1.8min finished\n",
      "C:\\Users\\Resmi\\Anaconda3\\lib\\site-packages\\xgboost\\core.py:587: FutureWarning: Series.base is deprecated and will be removed in a future version\n",
      "  if getattr(data, 'base', None) is not None and \\\n",
      "C:\\Users\\Resmi\\Anaconda3\\lib\\site-packages\\xgboost\\core.py:588: FutureWarning: Series.base is deprecated and will be removed in a future version\n",
      "  data.base is not None and isinstance(data, np.ndarray) \\\n"
     ]
    },
    {
     "name": "stdout",
     "output_type": "stream",
     "text": [
      "[20:17:30] WARNING: C:/Jenkins/workspace/xgboost-win64_release_0.90/src/objective/regression_obj.cu:152: reg:linear is now deprecated in favor of reg:squarederror.\n",
      "San Juan Test  MAE error : 2.4444444444444446\n",
      "San Juan Train MAE error : 5.314814814814815\n",
      "Fitting 5 folds for each of 216 candidates, totalling 1080 fits\n"
     ]
    },
    {
     "name": "stderr",
     "output_type": "stream",
     "text": [
      "[Parallel(n_jobs=4)]: Using backend LokyBackend with 4 concurrent workers.\n",
      "[Parallel(n_jobs=4)]: Done  42 tasks      | elapsed:    4.1s\n",
      "[Parallel(n_jobs=4)]: Done 192 tasks      | elapsed:   18.4s\n",
      "[Parallel(n_jobs=4)]: Done 442 tasks      | elapsed:   41.9s\n",
      "[Parallel(n_jobs=4)]: Done 792 tasks      | elapsed:  1.3min\n",
      "[Parallel(n_jobs=4)]: Done 1080 out of 1080 | elapsed:  1.8min finished\n",
      "C:\\Users\\Resmi\\Anaconda3\\lib\\site-packages\\xgboost\\core.py:587: FutureWarning: Series.base is deprecated and will be removed in a future version\n",
      "  if getattr(data, 'base', None) is not None and \\\n",
      "C:\\Users\\Resmi\\Anaconda3\\lib\\site-packages\\xgboost\\core.py:588: FutureWarning: Series.base is deprecated and will be removed in a future version\n",
      "  data.base is not None and isinstance(data, np.ndarray) \\\n"
     ]
    },
    {
     "name": "stdout",
     "output_type": "stream",
     "text": [
      "[20:19:21] WARNING: C:/Jenkins/workspace/xgboost-win64_release_0.90/src/objective/regression_obj.cu:152: reg:linear is now deprecated in favor of reg:squarederror.\n",
      "San Juan Test  MAE error : 2.2777777777777777\n",
      "San Juan Train MAE error : 4.685185185185185\n",
      "Fitting 5 folds for each of 216 candidates, totalling 1080 fits\n"
     ]
    },
    {
     "name": "stderr",
     "output_type": "stream",
     "text": [
      "[Parallel(n_jobs=4)]: Using backend LokyBackend with 4 concurrent workers.\n",
      "[Parallel(n_jobs=4)]: Done  42 tasks      | elapsed:    5.3s\n",
      "[Parallel(n_jobs=4)]: Done 192 tasks      | elapsed:   23.6s\n",
      "[Parallel(n_jobs=4)]: Done 442 tasks      | elapsed:   55.7s\n",
      "[Parallel(n_jobs=4)]: Done 792 tasks      | elapsed:  1.6min\n",
      "[Parallel(n_jobs=4)]: Done 1080 out of 1080 | elapsed:  2.2min finished\n",
      "C:\\Users\\Resmi\\Anaconda3\\lib\\site-packages\\xgboost\\core.py:587: FutureWarning: Series.base is deprecated and will be removed in a future version\n",
      "  if getattr(data, 'base', None) is not None and \\\n",
      "C:\\Users\\Resmi\\Anaconda3\\lib\\site-packages\\xgboost\\core.py:588: FutureWarning: Series.base is deprecated and will be removed in a future version\n",
      "  data.base is not None and isinstance(data, np.ndarray) \\\n"
     ]
    },
    {
     "name": "stdout",
     "output_type": "stream",
     "text": [
      "[20:21:34] WARNING: C:/Jenkins/workspace/xgboost-win64_release_0.90/src/objective/regression_obj.cu:152: reg:linear is now deprecated in favor of reg:squarederror.\n",
      "San Juan Test  MAE error : 0.43478260869565216\n",
      "San Juan Train MAE error : 0.4090909090909091\n",
      "Fitting 5 folds for each of 216 candidates, totalling 1080 fits\n"
     ]
    },
    {
     "name": "stderr",
     "output_type": "stream",
     "text": [
      "[Parallel(n_jobs=4)]: Using backend LokyBackend with 4 concurrent workers.\n",
      "[Parallel(n_jobs=4)]: Done  42 tasks      | elapsed:    4.2s\n",
      "[Parallel(n_jobs=4)]: Done 192 tasks      | elapsed:   18.2s\n",
      "[Parallel(n_jobs=4)]: Done 442 tasks      | elapsed:   41.7s\n",
      "[Parallel(n_jobs=4)]: Done 792 tasks      | elapsed:  1.2min\n",
      "[Parallel(n_jobs=4)]: Done 1080 out of 1080 | elapsed:  1.7min finished\n",
      "C:\\Users\\Resmi\\Anaconda3\\lib\\site-packages\\xgboost\\core.py:587: FutureWarning: Series.base is deprecated and will be removed in a future version\n",
      "  if getattr(data, 'base', None) is not None and \\\n",
      "C:\\Users\\Resmi\\Anaconda3\\lib\\site-packages\\xgboost\\core.py:588: FutureWarning: Series.base is deprecated and will be removed in a future version\n",
      "  data.base is not None and isinstance(data, np.ndarray) \\\n"
     ]
    },
    {
     "name": "stdout",
     "output_type": "stream",
     "text": [
      "[20:23:16] WARNING: C:/Jenkins/workspace/xgboost-win64_release_0.90/src/objective/regression_obj.cu:152: reg:linear is now deprecated in favor of reg:squarederror.\n",
      "San Juan Test  MAE error : 0.5\n",
      "San Juan Train MAE error : 0.5\n",
      "Fitting 5 folds for each of 216 candidates, totalling 1080 fits\n"
     ]
    },
    {
     "name": "stderr",
     "output_type": "stream",
     "text": [
      "[Parallel(n_jobs=4)]: Using backend LokyBackend with 4 concurrent workers.\n",
      "[Parallel(n_jobs=4)]: Done  42 tasks      | elapsed:    4.0s\n",
      "[Parallel(n_jobs=4)]: Done 192 tasks      | elapsed:   18.5s\n",
      "[Parallel(n_jobs=4)]: Done 442 tasks      | elapsed:   41.3s\n",
      "[Parallel(n_jobs=4)]: Done 792 tasks      | elapsed:  1.2min\n",
      "[Parallel(n_jobs=4)]: Done 1080 out of 1080 | elapsed:  1.7min finished\n",
      "C:\\Users\\Resmi\\Anaconda3\\lib\\site-packages\\xgboost\\core.py:587: FutureWarning: Series.base is deprecated and will be removed in a future version\n",
      "  if getattr(data, 'base', None) is not None and \\\n",
      "C:\\Users\\Resmi\\Anaconda3\\lib\\site-packages\\xgboost\\core.py:588: FutureWarning: Series.base is deprecated and will be removed in a future version\n",
      "  data.base is not None and isinstance(data, np.ndarray) \\\n",
      "[Parallel(n_jobs=4)]: Using backend LokyBackend with 4 concurrent workers.\n"
     ]
    },
    {
     "name": "stdout",
     "output_type": "stream",
     "text": [
      "[20:25:01] WARNING: C:/Jenkins/workspace/xgboost-win64_release_0.90/src/objective/regression_obj.cu:152: reg:linear is now deprecated in favor of reg:squarederror.\n",
      "San Juan Test  MAE error : 3.4444444444444446\n",
      "San Juan Train MAE error : 6.425925925925926\n",
      "Fitting 5 folds for each of 216 candidates, totalling 1080 fits\n"
     ]
    },
    {
     "name": "stderr",
     "output_type": "stream",
     "text": [
      "[Parallel(n_jobs=4)]: Done  42 tasks      | elapsed:    5.0s\n",
      "[Parallel(n_jobs=4)]: Done 192 tasks      | elapsed:   22.8s\n",
      "[Parallel(n_jobs=4)]: Done 442 tasks      | elapsed:   51.9s\n",
      "[Parallel(n_jobs=4)]: Done 792 tasks      | elapsed:  1.5min\n",
      "[Parallel(n_jobs=4)]: Done 1080 out of 1080 | elapsed:  2.2min finished\n",
      "C:\\Users\\Resmi\\Anaconda3\\lib\\site-packages\\xgboost\\core.py:587: FutureWarning: Series.base is deprecated and will be removed in a future version\n",
      "  if getattr(data, 'base', None) is not None and \\\n",
      "C:\\Users\\Resmi\\Anaconda3\\lib\\site-packages\\xgboost\\core.py:588: FutureWarning: Series.base is deprecated and will be removed in a future version\n",
      "  data.base is not None and isinstance(data, np.ndarray) \\\n"
     ]
    },
    {
     "name": "stdout",
     "output_type": "stream",
     "text": [
      "[20:27:12] WARNING: C:/Jenkins/workspace/xgboost-win64_release_0.90/src/objective/regression_obj.cu:152: reg:linear is now deprecated in favor of reg:squarederror.\n",
      "San Juan Test  MAE error : 8.695652173913043\n",
      "San Juan Train MAE error : 12.253731343283581\n",
      "Fitting 5 folds for each of 216 candidates, totalling 1080 fits\n"
     ]
    },
    {
     "name": "stderr",
     "output_type": "stream",
     "text": [
      "[Parallel(n_jobs=4)]: Using backend LokyBackend with 4 concurrent workers.\n",
      "[Parallel(n_jobs=4)]: Done  42 tasks      | elapsed:    4.5s\n",
      "[Parallel(n_jobs=4)]: Done 192 tasks      | elapsed:   19.2s\n",
      "[Parallel(n_jobs=4)]: Done 442 tasks      | elapsed:   44.2s\n",
      "[Parallel(n_jobs=4)]: Done 792 tasks      | elapsed:  1.3min\n",
      "[Parallel(n_jobs=4)]: Done 1080 out of 1080 | elapsed:  1.8min finished\n",
      "C:\\Users\\Resmi\\Anaconda3\\lib\\site-packages\\xgboost\\core.py:587: FutureWarning: Series.base is deprecated and will be removed in a future version\n",
      "  if getattr(data, 'base', None) is not None and \\\n",
      "C:\\Users\\Resmi\\Anaconda3\\lib\\site-packages\\xgboost\\core.py:588: FutureWarning: Series.base is deprecated and will be removed in a future version\n",
      "  data.base is not None and isinstance(data, np.ndarray) \\\n"
     ]
    },
    {
     "name": "stdout",
     "output_type": "stream",
     "text": [
      "[20:29:01] WARNING: C:/Jenkins/workspace/xgboost-win64_release_0.90/src/objective/regression_obj.cu:152: reg:linear is now deprecated in favor of reg:squarederror.\n",
      "San Juan Test  MAE error : 21.333333333333332\n",
      "San Juan Train MAE error : 21.87037037037037\n",
      "Fitting 5 folds for each of 216 candidates, totalling 1080 fits"
     ]
    },
    {
     "name": "stderr",
     "output_type": "stream",
     "text": [
      "[Parallel(n_jobs=4)]: Using backend LokyBackend with 4 concurrent workers.\n",
      "[Parallel(n_jobs=4)]: Done  42 tasks      | elapsed:    4.2s\n",
      "[Parallel(n_jobs=4)]: Done 192 tasks      | elapsed:   18.9s\n",
      "[Parallel(n_jobs=4)]: Done 442 tasks      | elapsed:   42.6s\n",
      "[Parallel(n_jobs=4)]: Done 792 tasks      | elapsed:  1.3min\n",
      "[Parallel(n_jobs=4)]: Done 1080 out of 1080 | elapsed:  1.8min finished\n",
      "C:\\Users\\Resmi\\Anaconda3\\lib\\site-packages\\xgboost\\core.py:587: FutureWarning: Series.base is deprecated and will be removed in a future version\n",
      "  if getattr(data, 'base', None) is not None and \\\n",
      "C:\\Users\\Resmi\\Anaconda3\\lib\\site-packages\\xgboost\\core.py:588: FutureWarning: Series.base is deprecated and will be removed in a future version\n",
      "  data.base is not None and isinstance(data, np.ndarray) \\\n"
     ]
    },
    {
     "name": "stdout",
     "output_type": "stream",
     "text": [
      "\n",
      "[20:30:50] WARNING: C:/Jenkins/workspace/xgboost-win64_release_0.90/src/objective/regression_obj.cu:152: reg:linear is now deprecated in favor of reg:squarederror.\n",
      "San Juan Test  MAE error : 10.736842105263158\n",
      "San Juan Train MAE error : 18.50877192982456\n",
      "Fitting 5 folds for each of 216 candidates, totalling 1080 fits\n"
     ]
    },
    {
     "name": "stderr",
     "output_type": "stream",
     "text": [
      "[Parallel(n_jobs=4)]: Using backend LokyBackend with 4 concurrent workers.\n",
      "[Parallel(n_jobs=4)]: Done  42 tasks      | elapsed:    5.2s\n",
      "[Parallel(n_jobs=4)]: Done 192 tasks      | elapsed:   23.7s\n",
      "[Parallel(n_jobs=4)]: Done 442 tasks      | elapsed:   52.1s\n",
      "[Parallel(n_jobs=4)]: Done 792 tasks      | elapsed:  1.5min\n",
      "[Parallel(n_jobs=4)]: Done 1080 out of 1080 | elapsed:  2.2min finished\n",
      "C:\\Users\\Resmi\\Anaconda3\\lib\\site-packages\\xgboost\\core.py:587: FutureWarning: Series.base is deprecated and will be removed in a future version\n",
      "  if getattr(data, 'base', None) is not None and \\\n",
      "C:\\Users\\Resmi\\Anaconda3\\lib\\site-packages\\xgboost\\core.py:588: FutureWarning: Series.base is deprecated and will be removed in a future version\n",
      "  data.base is not None and isinstance(data, np.ndarray) \\\n"
     ]
    },
    {
     "name": "stdout",
     "output_type": "stream",
     "text": [
      "[20:33:00] WARNING: C:/Jenkins/workspace/xgboost-win64_release_0.90/src/objective/regression_obj.cu:152: reg:linear is now deprecated in favor of reg:squarederror.\n",
      "San Juan Test  MAE error : 0.5\n",
      "San Juan Train MAE error : 0.5625\n",
      "Fitting 5 folds for each of 216 candidates, totalling 1080 fits\n"
     ]
    },
    {
     "name": "stderr",
     "output_type": "stream",
     "text": [
      "[Parallel(n_jobs=4)]: Using backend LokyBackend with 4 concurrent workers.\n",
      "[Parallel(n_jobs=4)]: Done  42 tasks      | elapsed:    4.2s\n",
      "[Parallel(n_jobs=4)]: Done 192 tasks      | elapsed:   20.0s\n",
      "[Parallel(n_jobs=4)]: Done 442 tasks      | elapsed:   45.2s\n",
      "[Parallel(n_jobs=4)]: Done 792 tasks      | elapsed:  1.3min\n",
      "[Parallel(n_jobs=4)]: Done 1080 out of 1080 | elapsed:  1.8min finished\n",
      "C:\\Users\\Resmi\\Anaconda3\\lib\\site-packages\\xgboost\\core.py:587: FutureWarning: Series.base is deprecated and will be removed in a future version\n",
      "  if getattr(data, 'base', None) is not None and \\\n",
      "C:\\Users\\Resmi\\Anaconda3\\lib\\site-packages\\xgboost\\core.py:588: FutureWarning: Series.base is deprecated and will be removed in a future version\n",
      "  data.base is not None and isinstance(data, np.ndarray) \\\n"
     ]
    },
    {
     "name": "stdout",
     "output_type": "stream",
     "text": [
      "[20:34:47] WARNING: C:/Jenkins/workspace/xgboost-win64_release_0.90/src/objective/regression_obj.cu:152: reg:linear is now deprecated in favor of reg:squarederror.\n",
      "San Juan Test  MAE error : 0.5555555555555556\n",
      "San Juan Train MAE error : 0.46296296296296297\n",
      "Fitting 5 folds for each of 216 candidates, totalling 1080 fits\n"
     ]
    },
    {
     "name": "stderr",
     "output_type": "stream",
     "text": [
      "[Parallel(n_jobs=4)]: Using backend LokyBackend with 4 concurrent workers.\n",
      "[Parallel(n_jobs=4)]: Done  42 tasks      | elapsed:    3.9s\n",
      "[Parallel(n_jobs=4)]: Done 192 tasks      | elapsed:   18.0s\n",
      "[Parallel(n_jobs=4)]: Done 442 tasks      | elapsed:   40.8s\n",
      "[Parallel(n_jobs=4)]: Done 792 tasks      | elapsed:  1.2min\n",
      "[Parallel(n_jobs=4)]: Done 1080 out of 1080 | elapsed:  1.7min finished\n",
      "C:\\Users\\Resmi\\Anaconda3\\lib\\site-packages\\xgboost\\core.py:587: FutureWarning: Series.base is deprecated and will be removed in a future version\n",
      "  if getattr(data, 'base', None) is not None and \\\n",
      "C:\\Users\\Resmi\\Anaconda3\\lib\\site-packages\\xgboost\\core.py:588: FutureWarning: Series.base is deprecated and will be removed in a future version\n",
      "  data.base is not None and isinstance(data, np.ndarray) \\\n"
     ]
    },
    {
     "name": "stdout",
     "output_type": "stream",
     "text": [
      "[20:36:30] WARNING: C:/Jenkins/workspace/xgboost-win64_release_0.90/src/objective/regression_obj.cu:152: reg:linear is now deprecated in favor of reg:squarederror.\n",
      "San Juan Test  MAE error : 7.388888888888889\n",
      "San Juan Train MAE error : 16.90740740740741\n"
     ]
    }
   ],
   "source": [
    "for month in range( 1, 13 ):\n",
    "    train_filename = ( './datasets/train_sj_month_' + str( month ) + '.pkl' )\n",
    "    test_filename  = ( './datasets/test_sj_month_' + str( month ) + '.pkl' )\n",
    "    dengue_train_sj_month = pd.read_pickle( train_filename )\n",
    "    dengue_test_sj_month  = pd.read_pickle( test_filename )\n",
    "    X = pd.DataFrame( dengue_train_sj_month )\n",
    "    X.drop( columns = ['city','year','total_cases','month'], inplace = True )\n",
    "    y = dengue_train_sj_month.total_cases\n",
    "    parameters_for_testing = { 'learning_rate':[0.1,0.01],\n",
    "                               'max_depth':[2,3,4],\n",
    "                               'n_estimators':[1000,500],\n",
    "                               'gamma':[0,0.01],\n",
    "                               'min_child_weight':[12,15,20],\n",
    "                               'colsample_bytree':[0.5,0.4,0.6],\n",
    "                               'reg_alpha':[0.01],\n",
    "                               'reg_lambda':[1e-5],\n",
    "                               'subsample':[0.95]\n",
    "                             }\n",
    "    xgb_model = xgb.XGBRegressor()\n",
    "    gs_xg = GridSearchCV( estimator = xgb_model, param_grid = parameters_for_testing,\n",
    "                             n_jobs=4,iid=False, verbose=1,scoring='neg_mean_squared_error', cv= 5).fit(X,y, eval_metric='rmse')\n",
    "    X_sj_train, X_sj_test, Y_sj_train, Y_sj_test = train_test_split( X, y, shuffle = False)\n",
    "    Y_sj_pred = gs_xg.best_estimator_.predict(X_sj_test).astype(int)\n",
    "    print (\"San Juan Test  MAE error :\", mean_absolute_error(Y_sj_pred, Y_sj_test))\n",
    "    pred_train_sj = gs_xg.best_estimator_.predict(X_sj_train).astype(int)\n",
    "    print (\"San Juan Train MAE error :\", mean_absolute_error(pred_train_sj, Y_sj_train))\n",
    "    X_test = pd.DataFrame( dengue_test_sj_month, columns = X.columns )\n",
    "    submit_pred_sj = pd.DataFrame( dengue_test_sj_month, columns = ['city','week_start_date'])\n",
    "    submit_pred_sj['total_cases'] = gs_xg.predict(X_test).astype( 'int')\n",
    "    sub_sj = sub_sj.append( submit_pred_sj )\n",
    "sub_sj = sub_sj.drop( columns=['week_start_date'])\n",
    "sub_sj.reset_index( inplace = True )\n",
    "sub_sj['year'] = sub_sj['week_start_date'].dt.year\n",
    "sub_sj['weekofyear'] = sub_sj['week_start_date'].dt.weekofyear\n",
    "sub_sj.drop( columns = ['week_start_date'], inplace = True )"
   ]
  },
  {
   "cell_type": "code",
   "execution_count": null,
   "metadata": {
    "scrolled": false
   },
   "outputs": [
    {
     "name": "stdout",
     "output_type": "stream",
     "text": [
      "Fitting 5 folds for each of 1152 candidates, totalling 5760 fits\n"
     ]
    },
    {
     "name": "stderr",
     "output_type": "stream",
     "text": [
      "[Parallel(n_jobs=4)]: Using backend LokyBackend with 4 concurrent workers.\n",
      "[Parallel(n_jobs=4)]: Done  42 tasks      | elapsed:    2.4s\n",
      "[Parallel(n_jobs=4)]: Done 205 tasks      | elapsed:    9.5s\n",
      "[Parallel(n_jobs=4)]: Done 705 tasks      | elapsed:   31.2s\n",
      "[Parallel(n_jobs=4)]: Done 1405 tasks      | elapsed:  1.1min\n",
      "[Parallel(n_jobs=4)]: Done 2305 tasks      | elapsed:  1.7min\n",
      "[Parallel(n_jobs=4)]: Done 3405 tasks      | elapsed:  2.5min\n",
      "[Parallel(n_jobs=4)]: Done 4705 tasks      | elapsed:  3.5min\n",
      "[Parallel(n_jobs=4)]: Done 5753 out of 5760 | elapsed:  4.5min remaining:    0.2s\n",
      "[Parallel(n_jobs=4)]: Done 5760 out of 5760 | elapsed:  4.5min finished\n",
      "C:\\Users\\Resmi\\Anaconda3\\lib\\site-packages\\xgboost\\core.py:587: FutureWarning: Series.base is deprecated and will be removed in a future version\n",
      "  if getattr(data, 'base', None) is not None and \\\n",
      "C:\\Users\\Resmi\\Anaconda3\\lib\\site-packages\\xgboost\\core.py:588: FutureWarning: Series.base is deprecated and will be removed in a future version\n",
      "  data.base is not None and isinstance(data, np.ndarray) \\\n"
     ]
    },
    {
     "name": "stdout",
     "output_type": "stream",
     "text": [
      "[20:40:58] WARNING: C:/Jenkins/workspace/xgboost-win64_release_0.90/src/objective/regression_obj.cu:152: reg:linear is now deprecated in favor of reg:squarederror.\n",
      "[20:40:58] WARNING: C:/Jenkins/workspace/xgboost-win64_release_0.90/src/objective/regression_obj.cu:152: reg:linear is now deprecated in favor of reg:squarederror.\n",
      "Iquitos Test  MAE error : 11.846153846153847\n",
      "Iquitos Train MAE error : 7.243243243243243\n",
      "Fitting 5 folds for each of 1152 candidates, totalling 5760 fits\n"
     ]
    },
    {
     "name": "stderr",
     "output_type": "stream",
     "text": [
      "[Parallel(n_jobs=4)]: Using backend LokyBackend with 4 concurrent workers.\n",
      "[Parallel(n_jobs=4)]: Done  42 tasks      | elapsed:    2.4s\n",
      "[Parallel(n_jobs=4)]: Done 210 tasks      | elapsed:    9.2s\n",
      "[Parallel(n_jobs=4)]: Done 710 tasks      | elapsed:   28.9s\n",
      "[Parallel(n_jobs=4)]: Done 1410 tasks      | elapsed:  1.0min\n",
      "[Parallel(n_jobs=4)]: Done 2310 tasks      | elapsed:  1.6min\n",
      "[Parallel(n_jobs=4)]: Done 3410 tasks      | elapsed:  2.2min\n",
      "[Parallel(n_jobs=4)]: Done 4710 tasks      | elapsed:  3.0min\n",
      "[Parallel(n_jobs=4)]: Done 5760 out of 5760 | elapsed:  3.7min finished\n",
      "C:\\Users\\Resmi\\Anaconda3\\lib\\site-packages\\xgboost\\core.py:587: FutureWarning: Series.base is deprecated and will be removed in a future version\n",
      "  if getattr(data, 'base', None) is not None and \\\n",
      "C:\\Users\\Resmi\\Anaconda3\\lib\\site-packages\\xgboost\\core.py:588: FutureWarning: Series.base is deprecated and will be removed in a future version\n",
      "  data.base is not None and isinstance(data, np.ndarray) \\\n"
     ]
    },
    {
     "name": "stdout",
     "output_type": "stream",
     "text": [
      "[20:44:41] WARNING: C:/Jenkins/workspace/xgboost-win64_release_0.90/src/objective/regression_obj.cu:152: reg:linear is now deprecated in favor of reg:squarederror.\n",
      "[20:44:42] WARNING: C:/Jenkins/workspace/xgboost-win64_release_0.90/src/objective/regression_obj.cu:152: reg:linear is now deprecated in favor of reg:squarederror.\n",
      "Iquitos Test  MAE error : 9.4\n",
      "Iquitos Train MAE error : 7.966666666666667\n",
      "Fitting 5 folds for each of 1152 candidates, totalling 5760 fits\n"
     ]
    },
    {
     "name": "stderr",
     "output_type": "stream",
     "text": [
      "[Parallel(n_jobs=4)]: Using backend LokyBackend with 4 concurrent workers.\n",
      "[Parallel(n_jobs=4)]: Done  42 tasks      | elapsed:    2.1s\n",
      "[Parallel(n_jobs=4)]: Done 262 tasks      | elapsed:   10.1s\n",
      "[Parallel(n_jobs=4)]: Done 762 tasks      | elapsed:   29.3s\n",
      "[Parallel(n_jobs=4)]: Done 1462 tasks      | elapsed:   55.7s\n",
      "[Parallel(n_jobs=4)]: Done 2362 tasks      | elapsed:  1.5min\n",
      "[Parallel(n_jobs=4)]: Done 3462 tasks      | elapsed:  2.1min\n",
      "[Parallel(n_jobs=4)]: Done 4762 tasks      | elapsed:  3.1min\n",
      "[Parallel(n_jobs=4)]: Done 5760 out of 5760 | elapsed:  3.8min finished\n",
      "C:\\Users\\Resmi\\Anaconda3\\lib\\site-packages\\xgboost\\core.py:587: FutureWarning: Series.base is deprecated and will be removed in a future version\n",
      "  if getattr(data, 'base', None) is not None and \\\n",
      "C:\\Users\\Resmi\\Anaconda3\\lib\\site-packages\\xgboost\\core.py:588: FutureWarning: Series.base is deprecated and will be removed in a future version\n",
      "  data.base is not None and isinstance(data, np.ndarray) \\\n"
     ]
    },
    {
     "name": "stdout",
     "output_type": "stream",
     "text": [
      "[20:48:32] WARNING: C:/Jenkins/workspace/xgboost-win64_release_0.90/src/objective/regression_obj.cu:152: reg:linear is now deprecated in favor of reg:squarederror.\n",
      "[20:48:33] WARNING: C:/Jenkins/workspace/xgboost-win64_release_0.90/src/objective/regression_obj.cu:152: reg:linear is now deprecated in favor of reg:squarederror.\n",
      "Iquitos Test  MAE error : 3.4\n",
      "Iquitos Train MAE error : 1.5333333333333334\n",
      "Fitting 5 folds for each of 1152 candidates, totalling 5760 fits\n"
     ]
    },
    {
     "name": "stderr",
     "output_type": "stream",
     "text": [
      "[Parallel(n_jobs=4)]: Using backend LokyBackend with 4 concurrent workers.\n",
      "[Parallel(n_jobs=4)]: Done  42 tasks      | elapsed:    2.5s\n",
      "[Parallel(n_jobs=4)]: Done 192 tasks      | elapsed:    9.0s\n",
      "[Parallel(n_jobs=4)]: Done 649 tasks      | elapsed:   29.4s\n",
      "[Parallel(n_jobs=4)]: Done 1349 tasks      | elapsed:  1.0min\n",
      "[Parallel(n_jobs=4)]: Done 2249 tasks      | elapsed:  1.8min\n",
      "[Parallel(n_jobs=4)]: Done 3349 tasks      | elapsed:  2.7min\n",
      "[Parallel(n_jobs=4)]: Done 4649 tasks      | elapsed:  3.8min\n",
      "[Parallel(n_jobs=4)]: Done 5753 out of 5760 | elapsed:  4.8min remaining:    0.3s\n",
      "[Parallel(n_jobs=4)]: Done 5760 out of 5760 | elapsed:  4.8min finished\n",
      "C:\\Users\\Resmi\\Anaconda3\\lib\\site-packages\\xgboost\\core.py:587: FutureWarning: Series.base is deprecated and will be removed in a future version\n",
      "  if getattr(data, 'base', None) is not None and \\\n",
      "C:\\Users\\Resmi\\Anaconda3\\lib\\site-packages\\xgboost\\core.py:588: FutureWarning: Series.base is deprecated and will be removed in a future version\n",
      "  data.base is not None and isinstance(data, np.ndarray) \\\n"
     ]
    },
    {
     "name": "stdout",
     "output_type": "stream",
     "text": [
      "[20:53:21] WARNING: C:/Jenkins/workspace/xgboost-win64_release_0.90/src/objective/regression_obj.cu:152: reg:linear is now deprecated in favor of reg:squarederror.\n",
      "[20:53:21] WARNING: C:/Jenkins/workspace/xgboost-win64_release_0.90/src/objective/regression_obj.cu:152: reg:linear is now deprecated in favor of reg:squarederror.\n",
      "Iquitos Test  MAE error : 2.230769230769231\n",
      "Iquitos Train MAE error : 4.216216216216216\n",
      "Fitting 5 folds for each of 1152 candidates, totalling 5760 fits"
     ]
    },
    {
     "name": "stderr",
     "output_type": "stream",
     "text": [
      "[Parallel(n_jobs=4)]: Using backend LokyBackend with 4 concurrent workers.\n",
      "[Parallel(n_jobs=4)]: Done  42 tasks      | elapsed:    2.8s\n",
      "[Parallel(n_jobs=4)]: Done 227 tasks      | elapsed:    9.4s\n",
      "[Parallel(n_jobs=4)]: Done 1011 tasks      | elapsed:   41.4s\n",
      "[Parallel(n_jobs=4)]: Done 1711 tasks      | elapsed:  1.2min\n",
      "[Parallel(n_jobs=4)]: Done 2611 tasks      | elapsed:  1.7min\n",
      "[Parallel(n_jobs=4)]: Done 3711 tasks      | elapsed:  2.4min\n",
      "[Parallel(n_jobs=4)]: Done 5011 tasks      | elapsed:  3.2min\n",
      "[Parallel(n_jobs=4)]: Done 5753 out of 5760 | elapsed:  3.7min remaining:    0.2s\n",
      "[Parallel(n_jobs=4)]: Done 5760 out of 5760 | elapsed:  3.7min finished\n",
      "C:\\Users\\Resmi\\Anaconda3\\lib\\site-packages\\xgboost\\core.py:587: FutureWarning: Series.base is deprecated and will be removed in a future version\n",
      "  if getattr(data, 'base', None) is not None and \\\n",
      "C:\\Users\\Resmi\\Anaconda3\\lib\\site-packages\\xgboost\\core.py:588: FutureWarning: Series.base is deprecated and will be removed in a future version\n",
      "  data.base is not None and isinstance(data, np.ndarray) \\\n"
     ]
    },
    {
     "name": "stdout",
     "output_type": "stream",
     "text": [
      "\n",
      "[20:57:05] WARNING: C:/Jenkins/workspace/xgboost-win64_release_0.90/src/objective/regression_obj.cu:152: reg:linear is now deprecated in favor of reg:squarederror.\n",
      "[20:57:06] WARNING: C:/Jenkins/workspace/xgboost-win64_release_0.90/src/objective/regression_obj.cu:152: reg:linear is now deprecated in favor of reg:squarederror.\n",
      "Iquitos Test  MAE error : 2.6\n",
      "Iquitos Train MAE error : 3.533333333333333\n",
      "Fitting 5 folds for each of 1152 candidates, totalling 5760 fits\n"
     ]
    },
    {
     "name": "stderr",
     "output_type": "stream",
     "text": [
      "[Parallel(n_jobs=4)]: Using backend LokyBackend with 4 concurrent workers.\n",
      "[Parallel(n_jobs=4)]: Done  42 tasks      | elapsed:    2.0s\n",
      "[Parallel(n_jobs=4)]: Done 233 tasks      | elapsed:    8.4s\n",
      "[Parallel(n_jobs=4)]: Done 1233 tasks      | elapsed:   46.9s\n",
      "[Parallel(n_jobs=4)]: Done 2633 tasks      | elapsed:  1.6min\n",
      "[Parallel(n_jobs=4)]: Done 4433 tasks      | elapsed:  2.7min\n",
      "[Parallel(n_jobs=4)]: Done 5625 tasks      | elapsed:  3.5min\n",
      "[Parallel(n_jobs=4)]: Done 5753 out of 5760 | elapsed:  3.6min remaining:    0.2s\n",
      "[Parallel(n_jobs=4)]: Done 5760 out of 5760 | elapsed:  3.6min finished\n",
      "C:\\Users\\Resmi\\Anaconda3\\lib\\site-packages\\xgboost\\core.py:587: FutureWarning: Series.base is deprecated and will be removed in a future version\n",
      "  if getattr(data, 'base', None) is not None and \\\n",
      "C:\\Users\\Resmi\\Anaconda3\\lib\\site-packages\\xgboost\\core.py:588: FutureWarning: Series.base is deprecated and will be removed in a future version\n",
      "  data.base is not None and isinstance(data, np.ndarray) \\\n",
      "[Parallel(n_jobs=4)]: Using backend LokyBackend with 4 concurrent workers.\n"
     ]
    },
    {
     "name": "stdout",
     "output_type": "stream",
     "text": [
      "[21:00:41] WARNING: C:/Jenkins/workspace/xgboost-win64_release_0.90/src/objective/regression_obj.cu:152: reg:linear is now deprecated in favor of reg:squarederror.\n",
      "[21:00:41] WARNING: C:/Jenkins/workspace/xgboost-win64_release_0.90/src/objective/regression_obj.cu:152: reg:linear is now deprecated in favor of reg:squarederror.\n",
      "Iquitos Test  MAE error : 1.8\n",
      "Iquitos Train MAE error : 2.433333333333333\n",
      "Fitting 5 folds for each of 1152 candidates, totalling 5760 fits\n"
     ]
    },
    {
     "name": "stderr",
     "output_type": "stream",
     "text": [
      "[Parallel(n_jobs=4)]: Done  42 tasks      | elapsed:    2.4s\n",
      "[Parallel(n_jobs=4)]: Done 208 tasks      | elapsed:    8.9s\n",
      "[Parallel(n_jobs=4)]: Done 708 tasks      | elapsed:   28.6s\n",
      "[Parallel(n_jobs=4)]: Done 1408 tasks      | elapsed:   58.4s\n",
      "[Parallel(n_jobs=4)]: Done 2308 tasks      | elapsed:  1.6min\n",
      "[Parallel(n_jobs=4)]: Done 3408 tasks      | elapsed:  2.2min\n",
      "[Parallel(n_jobs=4)]: Done 4708 tasks      | elapsed:  3.2min\n",
      "[Parallel(n_jobs=4)]: Done 5760 out of 5760 | elapsed:  3.9min finished\n",
      "C:\\Users\\Resmi\\Anaconda3\\lib\\site-packages\\xgboost\\core.py:587: FutureWarning: Series.base is deprecated and will be removed in a future version\n",
      "  if getattr(data, 'base', None) is not None and \\\n",
      "C:\\Users\\Resmi\\Anaconda3\\lib\\site-packages\\xgboost\\core.py:588: FutureWarning: Series.base is deprecated and will be removed in a future version\n",
      "  data.base is not None and isinstance(data, np.ndarray) \\\n"
     ]
    },
    {
     "name": "stdout",
     "output_type": "stream",
     "text": [
      "[21:04:37] WARNING: C:/Jenkins/workspace/xgboost-win64_release_0.90/src/objective/regression_obj.cu:152: reg:linear is now deprecated in favor of reg:squarederror.\n",
      "[21:04:37] WARNING: C:/Jenkins/workspace/xgboost-win64_release_0.90/src/objective/regression_obj.cu:152: reg:linear is now deprecated in favor of reg:squarederror.\n",
      "Iquitos Test  MAE error : 2.0833333333333335\n",
      "Iquitos Train MAE error : 0.4117647058823529\n",
      "Fitting 5 folds for each of 1152 candidates, totalling 5760 fits\n"
     ]
    },
    {
     "name": "stderr",
     "output_type": "stream",
     "text": [
      "[Parallel(n_jobs=4)]: Using backend LokyBackend with 4 concurrent workers.\n",
      "[Parallel(n_jobs=4)]: Done  42 tasks      | elapsed:    2.0s\n",
      "[Parallel(n_jobs=4)]: Done 263 tasks      | elapsed:    9.8s\n",
      "[Parallel(n_jobs=4)]: Done 763 tasks      | elapsed:   28.9s\n",
      "[Parallel(n_jobs=4)]: Done 1463 tasks      | elapsed:   54.4s\n",
      "[Parallel(n_jobs=4)]: Done 2363 tasks      | elapsed:  1.4min\n",
      "[Parallel(n_jobs=4)]: Done 3463 tasks      | elapsed:  2.1min\n",
      "[Parallel(n_jobs=4)]: Done 4763 tasks      | elapsed:  2.9min\n",
      "[Parallel(n_jobs=4)]: Done 5753 out of 5760 | elapsed:  3.6min remaining:    0.2s\n",
      "[Parallel(n_jobs=4)]: Done 5760 out of 5760 | elapsed:  3.6min finished\n",
      "C:\\Users\\Resmi\\Anaconda3\\lib\\site-packages\\xgboost\\core.py:587: FutureWarning: Series.base is deprecated and will be removed in a future version\n",
      "  if getattr(data, 'base', None) is not None and \\\n",
      "C:\\Users\\Resmi\\Anaconda3\\lib\\site-packages\\xgboost\\core.py:588: FutureWarning: Series.base is deprecated and will be removed in a future version\n",
      "  data.base is not None and isinstance(data, np.ndarray) \\\n"
     ]
    },
    {
     "name": "stdout",
     "output_type": "stream",
     "text": [
      "[21:08:11] WARNING: C:/Jenkins/workspace/xgboost-win64_release_0.90/src/objective/regression_obj.cu:152: reg:linear is now deprecated in favor of reg:squarederror.\n",
      "[21:08:11] WARNING: C:/Jenkins/workspace/xgboost-win64_release_0.90/src/objective/regression_obj.cu:152: reg:linear is now deprecated in favor of reg:squarederror.\n",
      "Iquitos Test  MAE error : 1.4\n",
      "Iquitos Train MAE error : 0.3\n",
      "Fitting 5 folds for each of 1152 candidates, totalling 5760 fits\n"
     ]
    },
    {
     "name": "stderr",
     "output_type": "stream",
     "text": [
      "[Parallel(n_jobs=4)]: Using backend LokyBackend with 4 concurrent workers.\n",
      "[Parallel(n_jobs=4)]: Done  42 tasks      | elapsed:    2.2s\n",
      "[Parallel(n_jobs=4)]: Done 205 tasks      | elapsed:    8.7s\n",
      "[Parallel(n_jobs=4)]: Done 705 tasks      | elapsed:   28.9s\n",
      "[Parallel(n_jobs=4)]: Done 1405 tasks      | elapsed:   57.1s\n",
      "[Parallel(n_jobs=4)]: Done 2305 tasks      | elapsed:  1.5min\n",
      "[Parallel(n_jobs=4)]: Done 3405 tasks      | elapsed:  2.2min\n",
      "[Parallel(n_jobs=4)]: Done 4705 tasks      | elapsed:  3.1min\n",
      "[Parallel(n_jobs=4)]: Done 5753 out of 5760 | elapsed:  3.9min remaining:    0.2s\n",
      "[Parallel(n_jobs=4)]: Done 5760 out of 5760 | elapsed:  3.9min finished\n",
      "C:\\Users\\Resmi\\Anaconda3\\lib\\site-packages\\xgboost\\core.py:587: FutureWarning: Series.base is deprecated and will be removed in a future version\n",
      "  if getattr(data, 'base', None) is not None and \\\n",
      "C:\\Users\\Resmi\\Anaconda3\\lib\\site-packages\\xgboost\\core.py:588: FutureWarning: Series.base is deprecated and will be removed in a future version\n",
      "  data.base is not None and isinstance(data, np.ndarray) \\\n"
     ]
    },
    {
     "name": "stdout",
     "output_type": "stream",
     "text": [
      "[21:12:06] WARNING: C:/Jenkins/workspace/xgboost-win64_release_0.90/src/objective/regression_obj.cu:152: reg:linear is now deprecated in favor of reg:squarederror.\n",
      "[21:12:06] WARNING: C:/Jenkins/workspace/xgboost-win64_release_0.90/src/objective/regression_obj.cu:152: reg:linear is now deprecated in favor of reg:squarederror.\n",
      "Iquitos Test  MAE error : 9.818181818181818\n",
      "Iquitos Train MAE error : 4.96875\n",
      "Fitting 5 folds for each of 1152 candidates, totalling 5760 fits\n"
     ]
    },
    {
     "name": "stderr",
     "output_type": "stream",
     "text": [
      "[Parallel(n_jobs=4)]: Using backend LokyBackend with 4 concurrent workers.\n",
      "[Parallel(n_jobs=4)]: Done  42 tasks      | elapsed:    2.7s\n",
      "[Parallel(n_jobs=4)]: Done 207 tasks      | elapsed:    9.3s\n",
      "[Parallel(n_jobs=4)]: Done 707 tasks      | elapsed:   30.5s\n",
      "[Parallel(n_jobs=4)]: Done 1407 tasks      | elapsed:  1.1min\n",
      "[Parallel(n_jobs=4)]: Done 2307 tasks      | elapsed:  1.7min\n"
     ]
    }
   ],
   "source": [
    "for month in range( 1, 13 ):\n",
    "    train_filename = ( './datasets/train_iq_month_' + str( month ) + '.pkl' )\n",
    "    test_filename  = ( './datasets/test_iq_month_' + str( month ) + '.pkl' )\n",
    "    dengue_train_iq_month = pd.read_pickle( train_filename )\n",
    "    dengue_test_iq_month  = pd.read_pickle( test_filename )\n",
    "    X = pd.DataFrame( dengue_train_iq_month )\n",
    "    X.drop( columns = ['city','year','total_cases','month'], inplace = True )\n",
    "    y = dengue_train_iq_month.total_cases\n",
    "    parameters_for_testing = { 'learning_rate':[0.1,0.01],#\n",
    "                               'max_depth':[2,4],\n",
    "                               'n_estimators':[700,500,250],\n",
    "                               'gamma':[0,0.01],\n",
    "                               'min_child_weight':[5,10,15,20],\n",
    "                               'colsample_bytree':[0.5,0.4,0.6],\n",
    "                               'reg_alpha':[0.01,0.75],\n",
    "                               'reg_lambda':[1e-5,1e-4],\n",
    "                               'subsample':[0.75]#,0.7,0.8\n",
    "                             }\n",
    "    xgb_model = xgb.XGBRegressor()\n",
    "    gs_xg = GridSearchCV( estimator = xgb_model, param_grid = parameters_for_testing,\n",
    "                             n_jobs=4,iid=False, verbose=1,scoring='neg_mean_squared_error', cv = 5).fit(X,y, eval_metric='rmse')\n",
    "    X_iq_train, X_iq_test, Y_iq_train, Y_iq_test = train_test_split( X, y, shuffle = False)\n",
    "    gs_xg.best_estimator_.fit( X_iq_train, Y_iq_train )\n",
    "    Y_iq_pred = gs_xg.best_estimator_.predict(X_iq_test).astype(int)\n",
    "    print (\"Iquitos Test  MAE error :\", mean_absolute_error(Y_iq_pred, Y_iq_test))\n",
    "    pred_train_iq = gs_xg.best_estimator_.predict(X_iq_train).astype(int)\n",
    "    print (\"Iquitos Train MAE error :\", mean_absolute_error(pred_train_iq, Y_iq_train))\n",
    "    X_test = pd.DataFrame( dengue_test_iq_month, columns = X.columns )\n",
    "    submit_pred_iq = pd.DataFrame( dengue_test_iq_month, columns = ['city', 'week_start_date'])\n",
    "    submit_pred_iq['total_cases'] = gs_xg.best_estimator_.predict(X_test).astype( 'int')\n",
    "    sub_iq = sub_iq.append( submit_pred_iq )\n",
    "    #submission = pd.merge( submission, submit_pred_iq, on =['city','year','weekofyear'])\n",
    "sub_iq = sub_iq.drop( columns=['week_start_date'])\n",
    "sub_iq.reset_index( inplace = True )\n",
    "sub_iq['year'] = sub_iq['week_start_date'].dt.year\n",
    "sub_iq['weekofyear'] = sub_iq['week_start_date'].dt.weekofyear\n",
    "sub_iq.drop( columns = ['week_start_date'], inplace = True )"
   ]
  },
  {
   "cell_type": "code",
   "execution_count": null,
   "metadata": {},
   "outputs": [],
   "source": [
    "submit = sub_sj.append( sub_iq, sort=True )"
   ]
  },
  {
   "cell_type": "code",
   "execution_count": null,
   "metadata": {},
   "outputs": [],
   "source": [
    "test = pd.merge( submission, submit, on =['city','year','weekofyear'], how='left')"
   ]
  },
  {
   "cell_type": "code",
   "execution_count": null,
   "metadata": {},
   "outputs": [],
   "source": [
    "test.to_csv(\"data/submission_xgb_monthwise.csv\", index = False)"
   ]
  },
  {
   "cell_type": "code",
   "execution_count": null,
   "metadata": {},
   "outputs": [],
   "source": []
  }
 ],
 "metadata": {
  "kernelspec": {
   "display_name": "Python 3",
   "language": "python",
   "name": "python3"
  },
  "language_info": {
   "codemirror_mode": {
    "name": "ipython",
    "version": 3
   },
   "file_extension": ".py",
   "mimetype": "text/x-python",
   "name": "python",
   "nbconvert_exporter": "python",
   "pygments_lexer": "ipython3",
   "version": "3.7.3"
  }
 },
 "nbformat": 4,
 "nbformat_minor": 2
}
