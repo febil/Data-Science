{
 "cells": [
  {
   "cell_type": "markdown",
   "metadata": {},
   "source": [
    "##### Neural Network Basics"
   ]
  },
  {
   "cell_type": "code",
   "execution_count": 1,
   "metadata": {},
   "outputs": [],
   "source": [
    "# Load data\n",
    "import numpy as np\n",
    "\n",
    "%matplotlib inline\n",
    "import matplotlib.pyplot as plt"
   ]
  },
  {
   "cell_type": "markdown",
   "metadata": {},
   "source": [
    "## Input data"
   ]
  },
  {
   "cell_type": "code",
   "execution_count": 2,
   "metadata": {},
   "outputs": [],
   "source": [
    "# Input array\n",
    "X = np.array([\n",
    "  [1, 0, 1, 0],\n",
    "  [1, 0, 1, 1],\n",
    "  [0, 1, 0, 1]\n",
    "])\n",
    "\n",
    "# Output\n",
    "y = np.array([\n",
    "  [1],\n",
    "  [1],\n",
    "  [0]\n",
    "])"
   ]
  },
  {
   "cell_type": "markdown",
   "metadata": {},
   "source": [
    "## Functions"
   ]
  },
  {
   "cell_type": "code",
   "execution_count": 3,
   "metadata": {},
   "outputs": [],
   "source": [
    "# Sigmoid Function\n",
    "def sigmoid(x):\n",
    "    return 1 / (1 + np.exp(-x))\n",
    "\n",
    "# Derivative of Sigmoid Function\n",
    "def sigmoid_derivative(x):\n",
    "    return x * (1 - x)\n",
    "\n",
    "# ReLU Function\n",
    "def relu(x):\n",
    "    return np.max(0, x)\n",
    "\n",
    "# Derivative of ReLU Function\n",
    "def relu_derivative(x):\n",
    "    return 0 if x < 0 else 1"
   ]
  },
  {
   "cell_type": "markdown",
   "metadata": {},
   "source": [
    "## Variable initialization"
   ]
  },
  {
   "cell_type": "code",
   "execution_count": 4,
   "metadata": {},
   "outputs": [],
   "source": [
    "# Setting training iterations\n",
    "epoch = 1000\n",
    "# Setting learning rate\n",
    "lr = 0.1\n",
    "# number of features in data set\n",
    "input_layer_size = X.shape[1]\n",
    "# number of hidden layers neurons\n",
    "hidden_layer_1_size = 3\n",
    "# number of neurons at output layer\n",
    "output_layer_size = 1"
   ]
  },
  {
   "cell_type": "markdown",
   "metadata": {},
   "source": [
    "### Weights and Bias"
   ]
  },
  {
   "cell_type": "code",
   "execution_count": 5,
   "metadata": {},
   "outputs": [],
   "source": [
    "# weight and bias initialization\n",
    "wh1 = np.random.uniform(size = (input_layer_size, hidden_layer_1_size))\n",
    "bh1 = np.random.uniform(size = (1, hidden_layer_1_size))\n",
    "wout = np.random.uniform(size = (hidden_layer_1_size, output_layer_size))\n",
    "bout = np.random.uniform(size = (1, output_layer_size))"
   ]
  },
  {
   "cell_type": "code",
   "execution_count": 6,
   "metadata": {},
   "outputs": [
    {
     "data": {
      "text/plain": [
       "array([[0.10858377],\n",
       "       [0.15986073],\n",
       "       [0.96834549]])"
      ]
     },
     "execution_count": 6,
     "metadata": {},
     "output_type": "execute_result"
    }
   ],
   "source": [
    "wout"
   ]
  },
  {
   "cell_type": "code",
   "execution_count": 7,
   "metadata": {},
   "outputs": [
    {
     "name": "stdout",
     "output_type": "stream",
     "text": [
      "index Expect Output Error Binary Correct\n",
      "----- ------ ------ ----- ------ -------\n",
      "   0     1    0.90   0.10    1     Yes\n",
      " ...\n",
      "\n",
      "Cost Minimum: 0.0701\n",
      "Accuracy    : 1.00\n"
     ]
    },
    {
     "data": {
      "image/png": "[encoded data removed]",
      "text/plain": [
       "<Figure size 1080x432 with 1 Axes>"
      ]
     },
     "metadata": {
      "needs_background": "light"
     },
     "output_type": "display_data"
    }
   ],
   "source": [
    "## Calculation\n",
    "\n",
    "cost = []\n",
    "for i in range(epoch):\n",
    "    # Forward Propogation\n",
    "    hidden_layer_1 = np.dot(X, wh1)\n",
    "    hidden_layer_1 = hidden_layer_1 + bh1\n",
    "    hidden_layer_1_activation = sigmoid(hidden_layer_1)\n",
    "    \n",
    "    output_layer = np.dot(hidden_layer_1_activation, wout)\n",
    "    output_layer = output_layer + bout\n",
    "    \n",
    "    output = sigmoid(output_layer)\n",
    "\n",
    "    # Backpropagation\n",
    "    E = y - output\n",
    "    cost.append(np.square(E).sum())\n",
    "    \n",
    "    slope_output_layer = sigmoid_derivative(output)\n",
    "    slope_hidden_layer_1 = sigmoid_derivative(hidden_layer_1_activation)\n",
    "    d_output = E * slope_output_layer\n",
    "    \n",
    "    error_hidden_layer_1 = d_output.dot(wout.T)\n",
    "    d_hidden_layer_1 = error_hidden_layer_1 * slope_hidden_layer_1\n",
    "    \n",
    "    wout += hidden_layer_1_activation.T.dot(d_output) * lr\n",
    "    bout += np.sum(d_output,  axis = 0, keepdims = True) * lr\n",
    "    wh1 += X.T.dot(d_hidden_layer_1) * lr\n",
    "    bh1 += np.sum(d_hidden_layer_1,  axis = 0, keepdims = True) * lr\n",
    "\n",
    "## Results\n",
    "\n",
    "ii = range(len(y))\n",
    "yy = y.flatten()\n",
    "oo = output.flatten()\n",
    "ab = np.abs(oo - yy)\n",
    "bo = np.array([0 if oi < 0.5 else 1 for oi in oo])\n",
    "tt = ['Yes' if ti else 'No' for ti in (yy == bo)]\n",
    "\n",
    "print('index Expect Output Error Binary Correct')\n",
    "print('----- ------ ------ ----- ------ -------')\n",
    "ima = int((0.9 * len(yy)))\n",
    "imi = len(yy) - ima\n",
    "dots = True\n",
    "for i, a, b, c, d, e in zip(ii, yy, oo, ab, bo, tt):\n",
    "    if (i < imi) | (i > ima):\n",
    "        print(' %3d     %d    %.2f   %.2f    %d     %s' % (i, a, b, c, d, e))\n",
    "    else:\n",
    "        if dots:\n",
    "            print(' ...')\n",
    "            dots = False\n",
    "aa = (yy == bo).sum() / len(yy)\n",
    "print('\\nCost Minimum: %.4f' % min(cost))\n",
    "print('Accuracy    : %.2f' % aa)\n",
    "\n",
    "plt.figure(figsize = (15, 6))\n",
    "plt.plot(cost)\n",
    "plt.hlines(min(cost), 0, epoch)\n",
    "plt.text(epoch - 150, max(cost), 'Cost Minimum: %.4f' % min(cost))\n",
    "plt.title('Cost by Epoch')\n",
    "plt.xlabel('Epoch')\n",
    "plt.ylabel('Cost')\n",
    "plt.show()"
   ]
  },
  {
   "cell_type": "code",
   "execution_count": null,
   "metadata": {},
   "outputs": [],
   "source": []
  }
 ],
 "metadata": {
  "kernelspec": {
   "display_name": "Python 3",
   "language": "python",
   "name": "python3"
  },
  "language_info": {
   "codemirror_mode": {
    "name": "ipython",
    "version": 3
   },
   "file_extension": ".py",
   "mimetype": "text/x-python",
   "name": "python",
   "nbconvert_exporter": "python",
   "pygments_lexer": "ipython3",
   "version": "3.7.3"
  }
 },
 "nbformat": 4,
 "nbformat_minor": 2
}
