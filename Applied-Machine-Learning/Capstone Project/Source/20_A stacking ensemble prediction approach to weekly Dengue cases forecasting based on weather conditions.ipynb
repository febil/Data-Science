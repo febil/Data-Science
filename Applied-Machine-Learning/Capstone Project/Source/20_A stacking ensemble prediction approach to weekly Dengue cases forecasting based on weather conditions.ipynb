{
 "cells": [
  {
   "cell_type": "markdown",
   "metadata": {},
   "source": [
    "## Stacking Ensemble Prediction Approach\n",
    "\n",
    "Finally after the feature engineering, data formatting and individual model analysis, creating  a Stacking ensemble model using the below models.\n",
    "    - Linear Regression\n",
    "    - Negative Binomial\n",
    "    - Random Forest\n",
    "    - XGBoost"
   ]
  },
  {
   "cell_type": "markdown",
   "metadata": {},
   "source": [
    "## Load packages"
   ]
  },
  {
   "cell_type": "code",
   "execution_count": 1,
   "metadata": {},
   "outputs": [],
   "source": [
    "import numpy as np    # fundamental package for scientific computing\n",
    "import pandas as pd   # Python Data Analysis Library\n",
    "from pandas import Series # one-dimensional labeled array capable of holding any data type \n",
    "import seaborn as sns # library for making statistical graphics in Python\n",
    "import os             # operating system dependent functionality, file descriptor..\n",
    "\n",
    "from sklearn.model_selection import train_test_split             # Split arrays or matrices into random train and test subsets\n",
    "\n",
    "from sklearn.metrics import mean_absolute_error                  # Mean absolute error regression loss\n",
    "from sklearn.metrics import median_absolute_error                # Median absolute error regression loss\n",
    "\n",
    "import warnings\n",
    "warnings.filterwarnings('ignore')                                # For warning control"
   ]
  },
  {
   "cell_type": "code",
   "execution_count": 2,
   "metadata": {},
   "outputs": [
    {
     "data": {
      "text/html": [
       "        <script type=\"text/javascript\">\n",
       "        window.PlotlyConfig = {MathJaxConfig: 'local'};\n",
       "        if (window.MathJax) {MathJax.Hub.Config({SVG: {font: \"STIX-Web\"}});}\n",
       "        if (typeof require !== 'undefined') {\n",
       "        require.undef(\"plotly\");\n",
       "        requirejs.config({\n",
       "            paths: {\n",
       "                'plotly': ['https://cdn.plot.ly/plotly-latest.min']\n",
       "            }\n",
       "        });\n",
       "        require(['plotly'], function(Plotly) {\n",
       "            window._Plotly = Plotly;\n",
       "        });\n",
       "        }\n",
       "        </script>\n",
       "        "
      ]
     },
     "metadata": {},
     "output_type": "display_data"
    }
   ],
   "source": [
    "# plotly library for visalization\n",
    "import plotly.offline as py\n",
    "py.init_notebook_mode(connected=True)\n",
    "import plotly.graph_objs as go\n",
    "import plotly.tools as tls\n",
    "\n",
    "%matplotlib inline    \n",
    "# Line magic command will make plot outputs appear and be stored within the notebook.\n",
    "import matplotlib.pyplot as plt   # matplotlib's plotting framework"
   ]
  },
  {
   "cell_type": "code",
   "execution_count": 81,
   "metadata": {},
   "outputs": [],
   "source": [
    "# Going to use these 4 base models for the stacking\n",
    "from sklearn.linear_model import LinearRegression   # base model for linear regression\n",
    "from sklearn.linear_model import Lasso              # least absolute shrinkage and selection operator\n",
    "from sklearn.linear_model import Ridge              # ridge regression\n",
    "import statsmodels.api as sm                        # Negative binomial regression\n",
    "import statsmodels.formula.api as smf               # statistical models formula APIs\n",
    "from sklearn.ensemble import RandomForestRegressor  # A random forest regressor\n",
    "import xgboost as xgb                               # Gradient Boosting for regression\n",
    "\n",
    "from sklearn.model_selection import KFold           # K-Folds cross-validator \n",
    "from sklearn.model_selection import GridSearchCV    # Grid Search for paramter tuning"
   ]
  },
  {
   "cell_type": "code",
   "execution_count": 4,
   "metadata": {},
   "outputs": [
    {
     "data": {
      "text/plain": [
       "['dengue_test_iq.pkl',\n",
       " 'dengue_test_sj.pkl',\n",
       " 'dengue_train_iq.pkl',\n",
       " 'dengue_train_sj.pkl',\n",
       " 'test_iq_month_1.pkl',\n",
       " 'test_iq_month_10.pkl',\n",
       " 'test_iq_month_11.pkl',\n",
       " 'test_iq_month_12.pkl',\n",
       " 'test_iq_month_2.pkl',\n",
       " 'test_iq_month_3.pkl',\n",
       " 'test_iq_month_4.pkl',\n",
       " 'test_iq_month_5.pkl',\n",
       " 'test_iq_month_6.pkl',\n",
       " 'test_iq_month_7.pkl',\n",
       " 'test_iq_month_8.pkl',\n",
       " 'test_iq_month_9.pkl',\n",
       " 'test_sj_month_1.pkl',\n",
       " 'test_sj_month_10.pkl',\n",
       " 'test_sj_month_11.pkl',\n",
       " 'test_sj_month_12.pkl',\n",
       " 'test_sj_month_2.pkl',\n",
       " 'test_sj_month_3.pkl',\n",
       " 'test_sj_month_4.pkl',\n",
       " 'test_sj_month_5.pkl',\n",
       " 'test_sj_month_6.pkl',\n",
       " 'test_sj_month_7.pkl',\n",
       " 'test_sj_month_8.pkl',\n",
       " 'test_sj_month_9.pkl',\n",
       " 'train_iq_month_1.pkl',\n",
       " 'train_iq_month_10.pkl',\n",
       " 'train_iq_month_11.pkl',\n",
       " 'train_iq_month_12.pkl',\n",
       " 'train_iq_month_2.pkl',\n",
       " 'train_iq_month_3.pkl',\n",
       " 'train_iq_month_4.pkl',\n",
       " 'train_iq_month_5.pkl',\n",
       " 'train_iq_month_6.pkl',\n",
       " 'train_iq_month_7.pkl',\n",
       " 'train_iq_month_8.pkl',\n",
       " 'train_iq_month_9.pkl',\n",
       " 'train_sj_month_1.pkl',\n",
       " 'train_sj_month_10.pkl',\n",
       " 'train_sj_month_11.pkl',\n",
       " 'train_sj_month_12.pkl',\n",
       " 'train_sj_month_2.pkl',\n",
       " 'train_sj_month_3.pkl',\n",
       " 'train_sj_month_4.pkl',\n",
       " 'train_sj_month_5.pkl',\n",
       " 'train_sj_month_6.pkl',\n",
       " 'train_sj_month_7.pkl',\n",
       " 'train_sj_month_8.pkl',\n",
       " 'train_sj_month_9.pkl']"
      ]
     },
     "execution_count": 4,
     "metadata": {},
     "output_type": "execute_result"
    }
   ],
   "source": [
    "# Let's check what data files are available.\n",
    "PATH=\"./../datasets/\"\n",
    "os.listdir(PATH)"
   ]
  },
  {
   "cell_type": "code",
   "execution_count": 5,
   "metadata": {},
   "outputs": [],
   "source": [
    "# let's load the train and test data\n",
    "train_filename_sj = ( './../datasets/dengue_train_sj.pkl' )\n",
    "train_filename_iq = ( './../datasets/dengue_train_iq.pkl' )\n",
    "test_filename_sj  = ( './../datasets/dengue_test_sj.pkl' )\n",
    "test_filename_iq  = ( './../datasets/dengue_test_iq.pkl' )\n",
    "\n",
    "dengue_train_sj = pd.read_pickle( train_filename_sj )\n",
    "dengue_train_iq = pd.read_pickle( train_filename_iq )\n",
    "dengue_test_sj  = pd.read_pickle( test_filename_sj )\n",
    "dengue_test_iq  = pd.read_pickle( test_filename_iq )"
   ]
  },
  {
   "cell_type": "code",
   "execution_count": 19,
   "metadata": {},
   "outputs": [],
   "source": [
    "# Class to extend the Sklearn classifier\n",
    "class SklearnHelper(object):\n",
    "    def __init__(self, reg, seed=0, params=None, NB=False,col=[],alpha=0.001):\n",
    "        self.NB = NB\n",
    "        self.col = col\n",
    "        self.alpha = alpha\n",
    "        if( self.NB == True ):\n",
    "            self.model = None\n",
    "        else:\n",
    "            self.model = reg(**params)\n",
    "            params['random_state'] = seed\n",
    "\n",
    "    def train(self, x_train, y_train):\n",
    "        if( self.NB == False ):\n",
    "            self.model.fit(x_train, y_train)\n",
    "        else:\n",
    "            formula = ' + '.join([ str(feature) for feature in list(self.col)])\n",
    "            formula = 'y ~ ' + formula\n",
    "            train      = pd.DataFrame( x_train )\n",
    "            print(train)\n",
    "            train['y'] = y_train\n",
    "            self.model = smf.glm( formula = formula,\n",
    "                                  data = train,\n",
    "                                  family = sm.families.NegativeBinomial(alpha=self.alpha)).fit()\n",
    "        \n",
    "\n",
    "    def predict(self, x):\n",
    "        return self.model.predict(x)\n",
    "    \n",
    "    def fit(self,x,y):\n",
    "        return self.model.fit(x,y)\n",
    "    \n",
    "    def feature_importances(self,x,y):\n",
    "        if( self.NB == False ):\n",
    "            return self.model.fit(x,y).feature_importances_\n",
    "        else\n",
    "            return self.model.feature_importances_"
   ]
  },
  {
   "cell_type": "markdown",
   "metadata": {
    "_cell_guid": "6f67620d-b531-a2fa-c297-e951970c3c28",
    "_uuid": "4d193c581df258e823aff2796bf015cf906aac99"
   },
   "source": [
    "### Out-of-Fold Predictions\n",
    "\n",
    "Stacking uses predictions of base regressor as input for training to a second-level model."
   ]
  },
  {
   "cell_type": "code",
   "execution_count": 33,
   "metadata": {
    "_cell_guid": "406d0494-1d0c-3126-19d9-bc53127c4249",
    "_uuid": "46a93dc062e973832cecd50246d0d7581aafb02b"
   },
   "outputs": [],
   "source": [
    "def get_OutOfFoldPredictions( model, x_train, y_train, x_test ):\n",
    "    oof_train = np.zeros((ntrain,))\n",
    "    oof_test = np.zeros((ntest,))\n",
    "    oof_test_skf = np.empty((NFOLDS, ntest))\n",
    "\n",
    "    for i, (train_index, test_index) in enumerate(kf.split(x_train)):\n",
    "        x_tr = x_train.iloc[train_index]\n",
    "        y_tr = y_train.iloc[train_index]\n",
    "        x_te = x_train.iloc[test_index]\n",
    "        model.train(x_tr, y_tr)\n",
    "        oof_train[test_index] = model.predict(x_te)\n",
    "        oof_test_skf[i, :] = model.predict(x_test)\n",
    "\n",
    "    oof_test[:] = oof_test_skf.mean(axis=0)\n",
    "    return oof_train.reshape(-1, 1), oof_test.reshape(-1, 1)"
   ]
  },
  {
   "cell_type": "markdown",
   "metadata": {
    "_cell_guid": "3cd92196-f7ba-4f14-0fc4-36520fbcb2ca",
    "_uuid": "7b1a7767ae61b6b217a3311e89190b05ab0a4891"
   },
   "source": [
    "# Generating Base First-Level Models \n",
    "\n",
    "So now let us prepare four learning models as our first level regression.\n",
    "- The models are listed as follows:\n",
    "    - Linear Regression\n",
    "    - Negative Binomial\n",
    "    - Random Forest\n",
    "    - XGBoost"
   ]
  },
  {
   "cell_type": "markdown",
   "metadata": {
    "_cell_guid": "0ef6862a-b5cc-6829-f040-d2b2b2c817f3",
    "_uuid": "12e3a5f76fb118ff6906431fc60e7010e33106ad"
   },
   "source": [
    "**Parameters**\n",
    "\n",
    "Just a quick summary of the parameters that we will be listing here for completeness,\n",
    "\n",
    "**n_jobs** : Number of cores used for the training process. If set to -1, all cores are used.\n",
    "\n",
    "**n_estimators** : Number of classification trees in your learning model ( set to 10 per default)\n",
    "\n",
    "**max_depth** : Maximum depth of tree, or how much a node should be expanded. Beware if set to too high  a number would run the risk of overfitting as one would be growing the tree too deep\n",
    "\n",
    "**verbose** : Controls whether you want to output any text during the learning process. A value of 0 suppresses all text while a value of 3 outputs the tree learning process at every iteration.\n",
    "\n",
    " Please check out the full description via the official Sklearn website. There you will find that there are a whole host of other useful parameters that you can play around with. "
   ]
  },
  {
   "cell_type": "code",
   "execution_count": 8,
   "metadata": {},
   "outputs": [],
   "source": [
    "# Put in our parameters for said classifiers\n",
    "# Random Forest parameters\n",
    "rf_params_sj = {\n",
    "    'n_estimators': 220,\n",
    "    'max_depth': 4,\n",
    "    'criterion': 'mae',\n",
    "    'min_samples_split': 10,\n",
    "    'max_features': 'sqrt',\n",
    "    'bootstrap': True,\n",
    "    'verbose': 0\n",
    "}\n",
    "        \n",
    "rf_params_iq = {\n",
    "    'n_estimators': 22,\n",
    "    'max_depth': 4,\n",
    "    'criterion': 'mae',\n",
    "    'min_samples_split': 16,\n",
    "    'max_features': 'sqrt',\n",
    "    'bootstrap': True,\n",
    "    'verbose': 0\n",
    "}\n",
    "\n",
    "# XGBoost parameters\n",
    "xgb_params_sj = {\n",
    "    'learning_rate': 0.01, \n",
    "    'n_estimators': 225,\n",
    "    'max_depth': 5,\n",
    "    'min_child_weight': 12,\n",
    "    'gamma': 0,\n",
    "    'subsample': 0.95,\n",
    "    'colsample_bytree': 0.5,\n",
    "    'reg_alpha': 0.01,\n",
    "    'reg_lambda': 1e-5,\n",
    "    'objective':'reg:squarederror',\n",
    "    'verbose': 0\n",
    "}\n",
    "xgb_params_iq = {\n",
    "    'learning_rate': 0.1, \n",
    "    'n_estimators': 17,\n",
    "    'max_depth': 8,\n",
    "    'min_child_weight': 5,\n",
    "    'gamma': 0.01,\n",
    "    'subsample': 0.75,\n",
    "    'colsample_bytree': 0.6,\n",
    "    'reg_alpha': 0.75,\n",
    "    'reg_lambda': 0.75,\n",
    "    'objective': 'reg:squarederror',\n",
    "    'verbose': 0\n",
    "}\n",
    "\n"
   ]
  },
  {
   "cell_type": "code",
   "execution_count": 9,
   "metadata": {},
   "outputs": [],
   "source": [
    "#  RFE selected features from Linear Regression\n",
    "col_RFE_sj = ['ndvi_ne', 'ndvi_nw', 'ndvi_se', 'ndvi_sw', 'reanalysis_air_temp_c',\n",
    "       'reanalysis_avg_temp_c', 'reanalysis_dew_point_temp_c',\n",
    "       'reanalysis_relative_humidity_percent',\n",
    "       'reanalysis_specific_humidity_g_per_kg', 'ndvi_mean',\n",
    "       'station_avg_temp_c_lagVar', 'reanalysis_max_air_temp_c_lagSum',\n",
    "       'reanalysis_air_temp_c_lagSum', 'reanalysis_air_temp_c_lagMean',\n",
    "       'reanalysis_air_temp_c_lagVar', 'reanalysis_avg_temp_c_lagSum',\n",
    "       'reanalysis_avg_temp_c_lagMean', 'reanalysis_avg_temp_c_lagVar',\n",
    "       'ndvi_ne_lagSum', 'ndvi_ne_lagMean', 'ndvi_ne_lagVar',\n",
    "       'reanalysis_tdtr_c_lagSum', 'reanalysis_tdtr_c_lagVar',\n",
    "       'ndvi_mean_lagVar', 'ndvi_nw_lagSum', 'ndvi_nw_lagVar',\n",
    "       'ndvi_se_lagSum', 'ndvi_se_lagMean', 'ndvi_se_lagVar', 'ndvi_sw_lagSum',\n",
    "       'ndvi_sw_lagMean', 'ndvi_sw_lagVar']\n",
    "col_RFE_iq = ['ndvi_nw', 'ndvi_sw', 'reanalysis_dew_point_temp_c',\n",
    "       'reanalysis_specific_humidity_g_per_kg',\n",
    "       'reanalysis_specific_humidity_g_per_kg_lagVar',\n",
    "       'reanalysis_dew_point_temp_c_lagVar', 'ndvi_se_lagVar',\n",
    "       'ndvi_sw_lagVar', 'ndvi_ne_lagVar', 'ndvi_nw_lagVar']"
   ]
  },
  {
   "cell_type": "code",
   "execution_count": 10,
   "metadata": {},
   "outputs": [],
   "source": [
    "SEED   = 1 # for reproducibility\n",
    "NFOLDS = 5 # set folds for out-of-fold prediction\n",
    "kf = KFold( n_splits = NFOLDS, random_state=SEED)"
   ]
  },
  {
   "cell_type": "code",
   "execution_count": 11,
   "metadata": {},
   "outputs": [],
   "source": [
    "# Create objects that represent our models\n",
    "\n",
    "# For san Juan\n",
    "rf_sj = SklearnHelper(reg=RandomForestRegressor, seed=SEED, params=rf_params_sj)\n",
    "gb_sj = SklearnHelper(reg=xgb.XGBRegressor, seed=SEED, params=xgb_params_sj)\n",
    "nb_sj = SklearnHelper(reg=None, seed=SEED, params=None, NB=True, col=col_RFE_sj, alpha=1.18 )\n",
    "\n",
    "# For Iquitos\n",
    "rf_iq = SklearnHelper(reg=RandomForestRegressor, seed=SEED, params=rf_params_iq)\n",
    "gb_iq = SklearnHelper(reg=xgb.XGBRegressor, seed=SEED, params=xgb_params_iq)\n",
    "nb_iq = SklearnHelper(reg=None, seed=SEED, params=None, NB=True, col=col_RFE_iq, alpha=0.001 )\n"
   ]
  },
  {
   "cell_type": "code",
   "execution_count": 21,
   "metadata": {},
   "outputs": [],
   "source": [
    "x_train_sj = pd.DataFrame( dengue_train_sj )\n",
    "x_train_sj.drop( columns = ['city','year','total_cases'], inplace = True )\n",
    "y_train_sj = dengue_train_sj.total_cases\n",
    "x_test_sj = pd.DataFrame( dengue_test_sj, columns = x_train_sj.columns )\n",
    "ntrain = x_train_sj.shape[0]\n",
    "ntest = x_test_sj.shape[0]"
   ]
  },
  {
   "cell_type": "code",
   "execution_count": 34,
   "metadata": {},
   "outputs": [],
   "source": [
    "rf_oof_train_sj, rf_oof_test_sj = get_OutOfFoldPredictions( rf_sj,\n",
    "                                                            x_train_sj,\n",
    "                                                            y_train_sj,\n",
    "                                                            x_test_sj ) # Random Forest\n",
    "gb_oof_train_sj, gb_oof_test_sj = get_OutOfFoldPredictions( gb_sj,\n",
    "                                                            x_train_sj,\n",
    "                                                            y_train_sj,\n",
    "                                                            x_test_sj ) # Gradient Boost\n",
    "x_train_sj = x_train_sj[col_RFE_sj]\n",
    "x_test_sj  = x_test_sj[col_RFE_sj]\n",
    "nb_oof_train_sj, nb_oof_test_sj = get_OutOfFoldPredictions( nb_sj,\n",
    "                                                            x_train_sj,\n",
    "                                                            y_train_sj,\n",
    "                                                            x_test_sj )  # Negative Binomial"
   ]
  },
  {
   "cell_type": "code",
   "execution_count": 85,
   "metadata": {},
   "outputs": [],
   "source": [
    "x_train_iq = pd.DataFrame( dengue_train_iq )\n",
    "x_train_iq.drop( columns = ['city','year','total_cases'], inplace = True )\n",
    "y_train_iq = dengue_train_iq.total_cases\n",
    "x_test_iq = pd.DataFrame( dengue_test_iq, columns = x_train_iq.columns )\n",
    "ntrain = x_train_iq.shape[0]\n",
    "ntest  = x_test_iq.shape[0]"
   ]
  },
  {
   "cell_type": "code",
   "execution_count": 86,
   "metadata": {},
   "outputs": [],
   "source": [
    "rf_oof_train_iq, rf_oof_test_iq = get_OutOfFoldPredictions( rf_iq,\n",
    "                                                            x_train_iq,\n",
    "                                                            y_train_iq,\n",
    "                                                            x_test_iq ) # Random Forest\n",
    "gb_oof_train_iq, gb_oof_test_iq = get_OutOfFoldPredictions( gb_iq,\n",
    "                                                            x_train_iq,\n",
    "                                                            y_train_iq,\n",
    "                                                            x_test_iq ) # Gradient Boost\n",
    "x_train_iq = x_train_iq[col_RFE_iq]\n",
    "x_test_iq  = x_test_iq[col_RFE_iq]\n",
    "nb_oof_train_iq, nb_oof_test_iq = get_OutOfFoldPredictions( nb_iq,\n",
    "                                                            x_train_iq,\n",
    "                                                            y_train_iq,\n",
    "                                                            x_test_iq )  # Negative Binomial"
   ]
  },
  {
   "cell_type": "code",
   "execution_count": 87,
   "metadata": {},
   "outputs": [
    {
     "name": "stdout",
     "output_type": "stream",
     "text": [
      "[0.00644359 0.01510076 0.00758349 0.00497379 0.01436924 0.01415707\n",
      " 0.01815332 0.01596558 0.02517232 0.00853181 0.00331829 0.03345881\n",
      " 0.05791077 0.03899551 0.00395463 0.04145806 0.03117509 0.00476751\n",
      " 0.01819894 0.01857979 0.01069877 0.05297248 0.00940716 0.07258634\n",
      " 0.05933908 0.20330589 0.01208244 0.01320407 0.04408255 0.00728822\n",
      " 0.01148669 0.12127794]\n",
      "[0.00934986 0.00927348 0.0154     0.01016222 0.00865264 0.00767919\n",
      " 0.01794899 0.01064    0.01876744 0.01068679 0.02116974 0.03579723\n",
      " 0.01893968 0.02444226 0.00603216 0.03013143 0.02269513 0.00952023\n",
      " 0.0159846  0.01545951 0.05508079 0.01915999 0.01028542 0.04356719\n",
      " 0.02216302 0.16475454 0.02418447 0.01679084 0.05603883 0.01806889\n",
      " 0.01852562 0.23264776]\n",
      "[0.06144757 0.06644634 0.29610823 0.13234999 0.0944076  0.10261989\n",
      " 0.07181884 0.08078204 0.04158592 0.05243359]\n",
      "[0.07176472 0.09631506 0.07714727 0.14798443 0.0782735  0.0950506\n",
      " 0.15163308 0.10270847 0.07302786 0.10609501]\n"
     ]
    }
   ],
   "source": [
    "rf_sj_features = rf_sj.feature_importances( x_train_sj, y_train_sj )\n",
    "gb_sj_features = gb_sj.feature_importances( x_train_sj, y_train_sj )\n",
    "rf_iq_features = rf_iq.feature_importances( x_train_iq, y_train_iq )\n",
    "gb_iq_features = gb_iq.feature_importances( x_train_iq, y_train_iq )"
   ]
  },
  {
   "cell_type": "code",
   "execution_count": 69,
   "metadata": {
    "scrolled": false
   },
   "outputs": [],
   "source": [
    "#nb_feature = nb_sj.feature_importances(x_train_sj, y_train_sj)"
   ]
  },
  {
   "cell_type": "code",
   "execution_count": 91,
   "metadata": {},
   "outputs": [],
   "source": [
    "rf_sj_features = [0.00644359, 0.01510076, 0.00758349, 0.00497379, 0.01436924, 0.01415707,\n",
    "                  0.01815332, 0.01596558, 0.02517232, 0.00853181, 0.00331829, 0.03345881,\n",
    "                  0.05791077, 0.03899551, 0.00395463, 0.04145806, 0.03117509, 0.00476751,\n",
    "                  0.01819894, 0.01857979, 0.01069877, 0.05297248, 0.00940716, 0.07258634,\n",
    "                  0.05933908, 0.20330589, 0.01208244, 0.01320407, 0.04408255, 0.00728822,\n",
    "                  0.01148669, 0.12127794]\n",
    "gb_sj_features = [0.00934986, 0.00927348, 0.0154    , 0.01016222, 0.00865264, 0.00767919,\n",
    "                  0.01794899, 0.01064   , 0.01876744, 0.01068679, 0.02116974, 0.03579723,\n",
    "                  0.01893968, 0.02444226, 0.00603216, 0.03013143, 0.02269513, 0.00952023,\n",
    "                  0.0159846 , 0.01545951, 0.05508079, 0.01915999, 0.01028542, 0.04356719,\n",
    "                  0.02216302, 0.16475454, 0.02418447, 0.01679084, 0.05603883, 0.01806889,\n",
    "                  0.01852562, 0.23264776]\n",
    "rf_iq_features = [0.06144757, 0.06644634, 0.29610823, 0.13234999, 0.0944076,  0.10261989,\n",
    "                  0.07181884, 0.08078204, 0.04158592, 0.05243359]\n",
    "gb_iq_features = [0.07176472, 0.09631506, 0.07714727, 0.14798443, 0.0782735,  0.0950506,\n",
    "                  0.15163308, 0.10270847, 0.07302786, 0.10609501]"
   ]
  },
  {
   "cell_type": "code",
   "execution_count": 92,
   "metadata": {},
   "outputs": [],
   "source": [
    "cols = x_train_sj.columns.values\n",
    "# Create a dataframe with features\n",
    "feature_dataframe_sj = pd.DataFrame( { 'features': cols,\n",
    "                                    'Random Forest feature importances': rf_sj_features,\n",
    "                                    'Gradient Boost feature importances': gb_sj_features\n",
    "                                    })\n",
    "cols = x_train_iq.columns.values\n",
    "feature_dataframe_iq = pd.DataFrame( { 'features': cols,\n",
    "                                    'Random Forest feature importances': rf_iq_features,\n",
    "                                    'Gradient Boost feature importances': gb_iq_features\n",
    "                                    })"
   ]
  },
  {
   "cell_type": "code",
   "execution_count": 95,
   "metadata": {
    "scrolled": false
   },
   "outputs": [
    {
     "data": {
      "application/vnd.plotly.v1+json": {
       "config": {
        "linkText": "Export to plot.ly",
        "plotlyServerURL": "https://plot.ly",
        "showLink": false
       },
       "data": [
        {
         "marker": {
          "color": [
           0.00644359,
           0.01510076,
           0.00758349,
           0.00497379,
           0.01436924,
           0.01415707,
           0.01815332,
           0.01596558,
           0.02517232,
           0.00853181,
           0.00331829,
           0.03345881,
           0.05791077,
           0.03899551,
           0.00395463,
           0.04145806,
           0.03117509,
           0.00476751,
           0.01819894,
           0.01857979,
           0.01069877,
           0.05297248,
           0.00940716,
           0.07258634,
           0.05933908,
           0.20330589,
           0.01208244,
           0.01320407,
           0.04408255,
           0.00728822,
           0.01148669,
           0.12127794
          ],
          "colorscale": "Portland",
          "showscale": true,
          "size": 25,
          "sizemode": "diameter",
          "sizeref": 1
         },
         "mode": "markers",
         "text": [
          "ndvi_ne",
          "ndvi_nw",
          "ndvi_se",
          "ndvi_sw",
          "reanalysis_air_temp_c",
          "reanalysis_avg_temp_c",
          "reanalysis_dew_point_temp_c",
          "reanalysis_relative_humidity_percent",
          "reanalysis_specific_humidity_g_per_kg",
          "ndvi_mean",
          "station_avg_temp_c_lagVar",
          "reanalysis_max_air_temp_c_lagSum",
          "reanalysis_air_temp_c_lagSum",
          "reanalysis_air_temp_c_lagMean",
          "reanalysis_air_temp_c_lagVar",
          "reanalysis_avg_temp_c_lagSum",
          "reanalysis_avg_temp_c_lagMean",
          "reanalysis_avg_temp_c_lagVar",
          "ndvi_ne_lagSum",
          "ndvi_ne_lagMean",
          "ndvi_ne_lagVar",
          "reanalysis_tdtr_c_lagSum",
          "reanalysis_tdtr_c_lagVar",
          "ndvi_mean_lagVar",
          "ndvi_nw_lagSum",
          "ndvi_nw_lagVar",
          "ndvi_se_lagSum",
          "ndvi_se_lagMean",
          "ndvi_se_lagVar",
          "ndvi_sw_lagSum",
          "ndvi_sw_lagMean",
          "ndvi_sw_lagVar"
         ],
         "type": "scatter",
         "uid": "fc2d329b-afc4-4287-84fb-c1b3186b64df",
         "x": [
          "ndvi_ne",
          "ndvi_nw",
          "ndvi_se",
          "ndvi_sw",
          "reanalysis_air_temp_c",
          "reanalysis_avg_temp_c",
          "reanalysis_dew_point_temp_c",
          "reanalysis_relative_humidity_percent",
          "reanalysis_specific_humidity_g_per_kg",
          "ndvi_mean",
          "station_avg_temp_c_lagVar",
          "reanalysis_max_air_temp_c_lagSum",
          "reanalysis_air_temp_c_lagSum",
          "reanalysis_air_temp_c_lagMean",
          "reanalysis_air_temp_c_lagVar",
          "reanalysis_avg_temp_c_lagSum",
          "reanalysis_avg_temp_c_lagMean",
          "reanalysis_avg_temp_c_lagVar",
          "ndvi_ne_lagSum",
          "ndvi_ne_lagMean",
          "ndvi_ne_lagVar",
          "reanalysis_tdtr_c_lagSum",
          "reanalysis_tdtr_c_lagVar",
          "ndvi_mean_lagVar",
          "ndvi_nw_lagSum",
          "ndvi_nw_lagVar",
          "ndvi_se_lagSum",
          "ndvi_se_lagMean",
          "ndvi_se_lagVar",
          "ndvi_sw_lagSum",
          "ndvi_sw_lagMean",
          "ndvi_sw_lagVar"
         ],
         "y": [
          0.00644359,
          0.01510076,
          0.00758349,
          0.00497379,
          0.01436924,
          0.01415707,
          0.01815332,
          0.01596558,
          0.02517232,
          0.00853181,
          0.00331829,
          0.03345881,
          0.05791077,
          0.03899551,
          0.00395463,
          0.04145806,
          0.03117509,
          0.00476751,
          0.01819894,
          0.01857979,
          0.01069877,
          0.05297248,
          0.00940716,
          0.07258634,
          0.05933908,
          0.20330589,
          0.01208244,
          0.01320407,
          0.04408255,
          0.00728822,
          0.01148669,
          0.12127794
         ]
        }
       ],
       "layout": {
        "autosize": true,
        "hovermode": "closest",
        "showlegend": false,
        "title": {
         "text": "Random Forest Feature Importance (City - San Juan)"
        },
        "xaxis": {
         "automargin": true
        },
        "yaxis": {
         "gridwidth": 2,
         "ticklen": 5,
         "title": {
          "text": "Feature Importance"
         }
        }
       }
      },
      "text/html": [
       "<div>\n",
       "        \n",
       "        \n",
       "            <div id=\"e147c773-9865-488b-b44b-794d2450409e\" class=\"plotly-graph-div\" style=\"height:525px; width:100%;\"></div>\n",
       "            <script type=\"text/javascript\">\n",
       "                require([\"plotly\"], function(Plotly) {\n",
       "                    window.PLOTLYENV=window.PLOTLYENV || {};\n",
       "                    window.PLOTLYENV.BASE_URL='https://plot.ly';\n",
       "                    \n",
       "                if (document.getElementById(\"e147c773-9865-488b-b44b-794d2450409e\")) {\n",
       "                    Plotly.newPlot(\n",
       "                        'e147c773-9865-488b-b44b-794d2450409e',\n",
       "                        [{\"marker\": {\"color\": [0.00644359, 0.01510076, 0.00758349, 0.00497379, 0.01436924, 0.01415707, 0.01815332, 0.01596558, 0.02517232, 0.00853181, 0.00331829, 0.03345881, 0.05791077, 0.03899551, 0.00395463, 0.04145806, 0.03117509, 0.00476751, 0.01819894, 0.01857979, 0.01069877, 0.05297248, 0.00940716, 0.07258634, 0.05933908, 0.20330589, 0.01208244, 0.01320407, 0.04408255, 0.00728822, 0.01148669, 0.12127794], \"colorscale\": \"Portland\", \"showscale\": true, \"size\": 25, \"sizemode\": \"diameter\", \"sizeref\": 1}, \"mode\": \"markers\", \"text\": [\"ndvi_ne\", \"ndvi_nw\", \"ndvi_se\", \"ndvi_sw\", \"reanalysis_air_temp_c\", \"reanalysis_avg_temp_c\", \"reanalysis_dew_point_temp_c\", \"reanalysis_relative_humidity_percent\", \"reanalysis_specific_humidity_g_per_kg\", \"ndvi_mean\", \"station_avg_temp_c_lagVar\", \"reanalysis_max_air_temp_c_lagSum\", \"reanalysis_air_temp_c_lagSum\", \"reanalysis_air_temp_c_lagMean\", \"reanalysis_air_temp_c_lagVar\", \"reanalysis_avg_temp_c_lagSum\", \"reanalysis_avg_temp_c_lagMean\", \"reanalysis_avg_temp_c_lagVar\", \"ndvi_ne_lagSum\", \"ndvi_ne_lagMean\", \"ndvi_ne_lagVar\", \"reanalysis_tdtr_c_lagSum\", \"reanalysis_tdtr_c_lagVar\", \"ndvi_mean_lagVar\", \"ndvi_nw_lagSum\", \"ndvi_nw_lagVar\", \"ndvi_se_lagSum\", \"ndvi_se_lagMean\", \"ndvi_se_lagVar\", \"ndvi_sw_lagSum\", \"ndvi_sw_lagMean\", \"ndvi_sw_lagVar\"], \"type\": \"scatter\", \"uid\": \"fc2d329b-afc4-4287-84fb-c1b3186b64df\", \"x\": [\"ndvi_ne\", \"ndvi_nw\", \"ndvi_se\", \"ndvi_sw\", \"reanalysis_air_temp_c\", \"reanalysis_avg_temp_c\", \"reanalysis_dew_point_temp_c\", \"reanalysis_relative_humidity_percent\", \"reanalysis_specific_humidity_g_per_kg\", \"ndvi_mean\", \"station_avg_temp_c_lagVar\", \"reanalysis_max_air_temp_c_lagSum\", \"reanalysis_air_temp_c_lagSum\", \"reanalysis_air_temp_c_lagMean\", \"reanalysis_air_temp_c_lagVar\", \"reanalysis_avg_temp_c_lagSum\", \"reanalysis_avg_temp_c_lagMean\", \"reanalysis_avg_temp_c_lagVar\", \"ndvi_ne_lagSum\", \"ndvi_ne_lagMean\", \"ndvi_ne_lagVar\", \"reanalysis_tdtr_c_lagSum\", \"reanalysis_tdtr_c_lagVar\", \"ndvi_mean_lagVar\", \"ndvi_nw_lagSum\", \"ndvi_nw_lagVar\", \"ndvi_se_lagSum\", \"ndvi_se_lagMean\", \"ndvi_se_lagVar\", \"ndvi_sw_lagSum\", \"ndvi_sw_lagMean\", \"ndvi_sw_lagVar\"], \"y\": [0.00644359, 0.01510076, 0.00758349, 0.00497379, 0.01436924, 0.01415707, 0.01815332, 0.01596558, 0.02517232, 0.00853181, 0.00331829, 0.03345881, 0.05791077, 0.03899551, 0.00395463, 0.04145806, 0.03117509, 0.00476751, 0.01819894, 0.01857979, 0.01069877, 0.05297248, 0.00940716, 0.07258634, 0.05933908, 0.20330589, 0.01208244, 0.01320407, 0.04408255, 0.00728822, 0.01148669, 0.12127794]}],\n",
       "                        {\"autosize\": true, \"hovermode\": \"closest\", \"showlegend\": false, \"title\": {\"text\": \"Random Forest Feature Importance (City - San Juan)\"}, \"xaxis\": {\"automargin\": true}, \"yaxis\": {\"gridwidth\": 2, \"ticklen\": 5, \"title\": {\"text\": \"Feature Importance\"}}},\n",
       "                        {\"showLink\": false, \"linkText\": \"Export to plot.ly\", \"plotlyServerURL\": \"https://plot.ly\", \"responsive\": true}\n",
       "                    ).then(function(){\n",
       "                            \n",
       "var gd = document.getElementById('e147c773-9865-488b-b44b-794d2450409e');\n",
       "var x = new MutationObserver(function (mutations, observer) {{\n",
       "        var display = window.getComputedStyle(gd).display;\n",
       "        if (!display || display === 'none') {{\n",
       "            console.log([gd, 'removed!']);\n",
       "            Plotly.purge(gd);\n",
       "            observer.disconnect();\n",
       "        }}\n",
       "}});\n",
       "\n",
       "// Listen for the removal of the full notebook cells\n",
       "var notebookContainer = gd.closest('#notebook-container');\n",
       "if (notebookContainer) {{\n",
       "    x.observe(notebookContainer, {childList: true});\n",
       "}}\n",
       "\n",
       "// Listen for the clearing of the current output cell\n",
       "var outputEl = gd.closest('.output');\n",
       "if (outputEl) {{\n",
       "    x.observe(outputEl, {childList: true});\n",
       "}}\n",
       "\n",
       "                        })\n",
       "                };\n",
       "                });\n",
       "            </script>\n",
       "        </div>"
      ]
     },
     "metadata": {},
     "output_type": "display_data"
    },
    {
     "data": {
      "application/vnd.plotly.v1+json": {
       "config": {
        "linkText": "Export to plot.ly",
        "plotlyServerURL": "https://plot.ly",
        "showLink": false
       },
       "data": [
        {
         "marker": {
          "color": [
           0.00934986,
           0.00927348,
           0.0154,
           0.01016222,
           0.00865264,
           0.00767919,
           0.01794899,
           0.01064,
           0.01876744,
           0.01068679,
           0.02116974,
           0.03579723,
           0.01893968,
           0.02444226,
           0.00603216,
           0.03013143,
           0.02269513,
           0.00952023,
           0.0159846,
           0.01545951,
           0.05508079,
           0.01915999,
           0.01028542,
           0.04356719,
           0.02216302,
           0.16475454,
           0.02418447,
           0.01679084,
           0.05603883,
           0.01806889,
           0.01852562,
           0.23264776
          ],
          "colorscale": "Portland",
          "showscale": true,
          "size": 25,
          "sizemode": "diameter",
          "sizeref": 1
         },
         "mode": "markers",
         "text": [
          "ndvi_ne",
          "ndvi_nw",
          "ndvi_se",
          "ndvi_sw",
          "reanalysis_air_temp_c",
          "reanalysis_avg_temp_c",
          "reanalysis_dew_point_temp_c",
          "reanalysis_relative_humidity_percent",
          "reanalysis_specific_humidity_g_per_kg",
          "ndvi_mean",
          "station_avg_temp_c_lagVar",
          "reanalysis_max_air_temp_c_lagSum",
          "reanalysis_air_temp_c_lagSum",
          "reanalysis_air_temp_c_lagMean",
          "reanalysis_air_temp_c_lagVar",
          "reanalysis_avg_temp_c_lagSum",
          "reanalysis_avg_temp_c_lagMean",
          "reanalysis_avg_temp_c_lagVar",
          "ndvi_ne_lagSum",
          "ndvi_ne_lagMean",
          "ndvi_ne_lagVar",
          "reanalysis_tdtr_c_lagSum",
          "reanalysis_tdtr_c_lagVar",
          "ndvi_mean_lagVar",
          "ndvi_nw_lagSum",
          "ndvi_nw_lagVar",
          "ndvi_se_lagSum",
          "ndvi_se_lagMean",
          "ndvi_se_lagVar",
          "ndvi_sw_lagSum",
          "ndvi_sw_lagMean",
          "ndvi_sw_lagVar"
         ],
         "type": "scatter",
         "uid": "fde83e12-d08d-4764-bbe2-01f1caffa761",
         "x": [
          "ndvi_ne",
          "ndvi_nw",
          "ndvi_se",
          "ndvi_sw",
          "reanalysis_air_temp_c",
          "reanalysis_avg_temp_c",
          "reanalysis_dew_point_temp_c",
          "reanalysis_relative_humidity_percent",
          "reanalysis_specific_humidity_g_per_kg",
          "ndvi_mean",
          "station_avg_temp_c_lagVar",
          "reanalysis_max_air_temp_c_lagSum",
          "reanalysis_air_temp_c_lagSum",
          "reanalysis_air_temp_c_lagMean",
          "reanalysis_air_temp_c_lagVar",
          "reanalysis_avg_temp_c_lagSum",
          "reanalysis_avg_temp_c_lagMean",
          "reanalysis_avg_temp_c_lagVar",
          "ndvi_ne_lagSum",
          "ndvi_ne_lagMean",
          "ndvi_ne_lagVar",
          "reanalysis_tdtr_c_lagSum",
          "reanalysis_tdtr_c_lagVar",
          "ndvi_mean_lagVar",
          "ndvi_nw_lagSum",
          "ndvi_nw_lagVar",
          "ndvi_se_lagSum",
          "ndvi_se_lagMean",
          "ndvi_se_lagVar",
          "ndvi_sw_lagSum",
          "ndvi_sw_lagMean",
          "ndvi_sw_lagVar"
         ],
         "y": [
          0.00934986,
          0.00927348,
          0.0154,
          0.01016222,
          0.00865264,
          0.00767919,
          0.01794899,
          0.01064,
          0.01876744,
          0.01068679,
          0.02116974,
          0.03579723,
          0.01893968,
          0.02444226,
          0.00603216,
          0.03013143,
          0.02269513,
          0.00952023,
          0.0159846,
          0.01545951,
          0.05508079,
          0.01915999,
          0.01028542,
          0.04356719,
          0.02216302,
          0.16475454,
          0.02418447,
          0.01679084,
          0.05603883,
          0.01806889,
          0.01852562,
          0.23264776
         ]
        }
       ],
       "layout": {
        "autosize": true,
        "hovermode": "closest",
        "showlegend": false,
        "title": {
         "text": "Gradient Boosting Feature Importance (City-San Juan)"
        },
        "xaxis": {
         "automargin": true
        },
        "yaxis": {
         "automargin": true,
         "gridwidth": 2,
         "ticklen": 5,
         "title": {
          "text": "Feature Importance"
         }
        }
       }
      },
      "text/html": [
       "<div>\n",
       "        \n",
       "        \n",
       "            <div id=\"b132f32d-cb24-4459-8521-acc60000efb9\" class=\"plotly-graph-div\" style=\"height:525px; width:100%;\"></div>\n",
       "            <script type=\"text/javascript\">\n",
       "                require([\"plotly\"], function(Plotly) {\n",
       "                    window.PLOTLYENV=window.PLOTLYENV || {};\n",
       "                    window.PLOTLYENV.BASE_URL='https://plot.ly';\n",
       "                    \n",
       "                if (document.getElementById(\"b132f32d-cb24-4459-8521-acc60000efb9\")) {\n",
       "                    Plotly.newPlot(\n",
       "                        'b132f32d-cb24-4459-8521-acc60000efb9',\n",
       "                        [{\"marker\": {\"color\": [0.00934986, 0.00927348, 0.0154, 0.01016222, 0.00865264, 0.00767919, 0.01794899, 0.01064, 0.01876744, 0.01068679, 0.02116974, 0.03579723, 0.01893968, 0.02444226, 0.00603216, 0.03013143, 0.02269513, 0.00952023, 0.0159846, 0.01545951, 0.05508079, 0.01915999, 0.01028542, 0.04356719, 0.02216302, 0.16475454, 0.02418447, 0.01679084, 0.05603883, 0.01806889, 0.01852562, 0.23264776], \"colorscale\": \"Portland\", \"showscale\": true, \"size\": 25, \"sizemode\": \"diameter\", \"sizeref\": 1}, \"mode\": \"markers\", \"text\": [\"ndvi_ne\", \"ndvi_nw\", \"ndvi_se\", \"ndvi_sw\", \"reanalysis_air_temp_c\", \"reanalysis_avg_temp_c\", \"reanalysis_dew_point_temp_c\", \"reanalysis_relative_humidity_percent\", \"reanalysis_specific_humidity_g_per_kg\", \"ndvi_mean\", \"station_avg_temp_c_lagVar\", \"reanalysis_max_air_temp_c_lagSum\", \"reanalysis_air_temp_c_lagSum\", \"reanalysis_air_temp_c_lagMean\", \"reanalysis_air_temp_c_lagVar\", \"reanalysis_avg_temp_c_lagSum\", \"reanalysis_avg_temp_c_lagMean\", \"reanalysis_avg_temp_c_lagVar\", \"ndvi_ne_lagSum\", \"ndvi_ne_lagMean\", \"ndvi_ne_lagVar\", \"reanalysis_tdtr_c_lagSum\", \"reanalysis_tdtr_c_lagVar\", \"ndvi_mean_lagVar\", \"ndvi_nw_lagSum\", \"ndvi_nw_lagVar\", \"ndvi_se_lagSum\", \"ndvi_se_lagMean\", \"ndvi_se_lagVar\", \"ndvi_sw_lagSum\", \"ndvi_sw_lagMean\", \"ndvi_sw_lagVar\"], \"type\": \"scatter\", \"uid\": \"fde83e12-d08d-4764-bbe2-01f1caffa761\", \"x\": [\"ndvi_ne\", \"ndvi_nw\", \"ndvi_se\", \"ndvi_sw\", \"reanalysis_air_temp_c\", \"reanalysis_avg_temp_c\", \"reanalysis_dew_point_temp_c\", \"reanalysis_relative_humidity_percent\", \"reanalysis_specific_humidity_g_per_kg\", \"ndvi_mean\", \"station_avg_temp_c_lagVar\", \"reanalysis_max_air_temp_c_lagSum\", \"reanalysis_air_temp_c_lagSum\", \"reanalysis_air_temp_c_lagMean\", \"reanalysis_air_temp_c_lagVar\", \"reanalysis_avg_temp_c_lagSum\", \"reanalysis_avg_temp_c_lagMean\", \"reanalysis_avg_temp_c_lagVar\", \"ndvi_ne_lagSum\", \"ndvi_ne_lagMean\", \"ndvi_ne_lagVar\", \"reanalysis_tdtr_c_lagSum\", \"reanalysis_tdtr_c_lagVar\", \"ndvi_mean_lagVar\", \"ndvi_nw_lagSum\", \"ndvi_nw_lagVar\", \"ndvi_se_lagSum\", \"ndvi_se_lagMean\", \"ndvi_se_lagVar\", \"ndvi_sw_lagSum\", \"ndvi_sw_lagMean\", \"ndvi_sw_lagVar\"], \"y\": [0.00934986, 0.00927348, 0.0154, 0.01016222, 0.00865264, 0.00767919, 0.01794899, 0.01064, 0.01876744, 0.01068679, 0.02116974, 0.03579723, 0.01893968, 0.02444226, 0.00603216, 0.03013143, 0.02269513, 0.00952023, 0.0159846, 0.01545951, 0.05508079, 0.01915999, 0.01028542, 0.04356719, 0.02216302, 0.16475454, 0.02418447, 0.01679084, 0.05603883, 0.01806889, 0.01852562, 0.23264776]}],\n",
       "                        {\"autosize\": true, \"hovermode\": \"closest\", \"showlegend\": false, \"title\": {\"text\": \"Gradient Boosting Feature Importance (City-San Juan)\"}, \"xaxis\": {\"automargin\": true}, \"yaxis\": {\"automargin\": true, \"gridwidth\": 2, \"ticklen\": 5, \"title\": {\"text\": \"Feature Importance\"}}},\n",
       "                        {\"showLink\": false, \"linkText\": \"Export to plot.ly\", \"plotlyServerURL\": \"https://plot.ly\", \"responsive\": true}\n",
       "                    ).then(function(){\n",
       "                            \n",
       "var gd = document.getElementById('b132f32d-cb24-4459-8521-acc60000efb9');\n",
       "var x = new MutationObserver(function (mutations, observer) {{\n",
       "        var display = window.getComputedStyle(gd).display;\n",
       "        if (!display || display === 'none') {{\n",
       "            console.log([gd, 'removed!']);\n",
       "            Plotly.purge(gd);\n",
       "            observer.disconnect();\n",
       "        }}\n",
       "}});\n",
       "\n",
       "// Listen for the removal of the full notebook cells\n",
       "var notebookContainer = gd.closest('#notebook-container');\n",
       "if (notebookContainer) {{\n",
       "    x.observe(notebookContainer, {childList: true});\n",
       "}}\n",
       "\n",
       "// Listen for the clearing of the current output cell\n",
       "var outputEl = gd.closest('.output');\n",
       "if (outputEl) {{\n",
       "    x.observe(outputEl, {childList: true});\n",
       "}}\n",
       "\n",
       "                        })\n",
       "                };\n",
       "                });\n",
       "            </script>\n",
       "        </div>"
      ]
     },
     "metadata": {},
     "output_type": "display_data"
    },
    {
     "data": {
      "application/vnd.plotly.v1+json": {
       "config": {
        "linkText": "Export to plot.ly",
        "plotlyServerURL": "https://plot.ly",
        "showLink": false
       },
       "data": [
        {
         "marker": {
          "color": [
           0.00644359,
           0.01510076,
           0.00758349,
           0.00497379,
           0.01436924,
           0.01415707,
           0.01815332,
           0.01596558,
           0.02517232,
           0.00853181,
           0.00331829,
           0.03345881,
           0.05791077,
           0.03899551,
           0.00395463,
           0.04145806,
           0.03117509,
           0.00476751,
           0.01819894,
           0.01857979,
           0.01069877,
           0.05297248,
           0.00940716,
           0.07258634,
           0.05933908,
           0.20330589,
           0.01208244,
           0.01320407,
           0.04408255,
           0.00728822,
           0.01148669,
           0.12127794
          ],
          "colorscale": "Portland",
          "showscale": true,
          "size": 25,
          "sizemode": "diameter",
          "sizeref": 1
         },
         "mode": "markers",
         "text": [
          "ndvi_ne",
          "ndvi_nw",
          "ndvi_se",
          "ndvi_sw",
          "reanalysis_air_temp_c",
          "reanalysis_avg_temp_c",
          "reanalysis_dew_point_temp_c",
          "reanalysis_relative_humidity_percent",
          "reanalysis_specific_humidity_g_per_kg",
          "ndvi_mean",
          "station_avg_temp_c_lagVar",
          "reanalysis_max_air_temp_c_lagSum",
          "reanalysis_air_temp_c_lagSum",
          "reanalysis_air_temp_c_lagMean",
          "reanalysis_air_temp_c_lagVar",
          "reanalysis_avg_temp_c_lagSum",
          "reanalysis_avg_temp_c_lagMean",
          "reanalysis_avg_temp_c_lagVar",
          "ndvi_ne_lagSum",
          "ndvi_ne_lagMean",
          "ndvi_ne_lagVar",
          "reanalysis_tdtr_c_lagSum",
          "reanalysis_tdtr_c_lagVar",
          "ndvi_mean_lagVar",
          "ndvi_nw_lagSum",
          "ndvi_nw_lagVar",
          "ndvi_se_lagSum",
          "ndvi_se_lagMean",
          "ndvi_se_lagVar",
          "ndvi_sw_lagSum",
          "ndvi_sw_lagMean",
          "ndvi_sw_lagVar"
         ],
         "type": "scatter",
         "uid": "2da49119-f04b-40ef-8bdd-05aeb96f8a2f",
         "x": [
          "ndvi_ne",
          "ndvi_nw",
          "ndvi_se",
          "ndvi_sw",
          "reanalysis_air_temp_c",
          "reanalysis_avg_temp_c",
          "reanalysis_dew_point_temp_c",
          "reanalysis_relative_humidity_percent",
          "reanalysis_specific_humidity_g_per_kg",
          "ndvi_mean",
          "station_avg_temp_c_lagVar",
          "reanalysis_max_air_temp_c_lagSum",
          "reanalysis_air_temp_c_lagSum",
          "reanalysis_air_temp_c_lagMean",
          "reanalysis_air_temp_c_lagVar",
          "reanalysis_avg_temp_c_lagSum",
          "reanalysis_avg_temp_c_lagMean",
          "reanalysis_avg_temp_c_lagVar",
          "ndvi_ne_lagSum",
          "ndvi_ne_lagMean",
          "ndvi_ne_lagVar",
          "reanalysis_tdtr_c_lagSum",
          "reanalysis_tdtr_c_lagVar",
          "ndvi_mean_lagVar",
          "ndvi_nw_lagSum",
          "ndvi_nw_lagVar",
          "ndvi_se_lagSum",
          "ndvi_se_lagMean",
          "ndvi_se_lagVar",
          "ndvi_sw_lagSum",
          "ndvi_sw_lagMean",
          "ndvi_sw_lagVar"
         ],
         "y": [
          0.00644359,
          0.01510076,
          0.00758349,
          0.00497379,
          0.01436924,
          0.01415707,
          0.01815332,
          0.01596558,
          0.02517232,
          0.00853181,
          0.00331829,
          0.03345881,
          0.05791077,
          0.03899551,
          0.00395463,
          0.04145806,
          0.03117509,
          0.00476751,
          0.01819894,
          0.01857979,
          0.01069877,
          0.05297248,
          0.00940716,
          0.07258634,
          0.05933908,
          0.20330589,
          0.01208244,
          0.01320407,
          0.04408255,
          0.00728822,
          0.01148669,
          0.12127794
         ]
        }
       ],
       "layout": {
        "autosize": true,
        "hovermode": "closest",
        "showlegend": false,
        "title": {
         "text": "Random Forest Feature Importance (City - Iquitos)"
        },
        "xaxis": {
         "automargin": true
        },
        "yaxis": {
         "gridwidth": 2,
         "ticklen": 5,
         "title": {
          "text": "Feature Importance"
         }
        }
       }
      },
      "text/html": [
       "<div>\n",
       "        \n",
       "        \n",
       "            <div id=\"5015adb7-4ffc-43e2-934a-80998e57a4b5\" class=\"plotly-graph-div\" style=\"height:525px; width:100%;\"></div>\n",
       "            <script type=\"text/javascript\">\n",
       "                require([\"plotly\"], function(Plotly) {\n",
       "                    window.PLOTLYENV=window.PLOTLYENV || {};\n",
       "                    window.PLOTLYENV.BASE_URL='https://plot.ly';\n",
       "                    \n",
       "                if (document.getElementById(\"5015adb7-4ffc-43e2-934a-80998e57a4b5\")) {\n",
       "                    Plotly.newPlot(\n",
       "                        '5015adb7-4ffc-43e2-934a-80998e57a4b5',\n",
       "                        [{\"marker\": {\"color\": [0.00644359, 0.01510076, 0.00758349, 0.00497379, 0.01436924, 0.01415707, 0.01815332, 0.01596558, 0.02517232, 0.00853181, 0.00331829, 0.03345881, 0.05791077, 0.03899551, 0.00395463, 0.04145806, 0.03117509, 0.00476751, 0.01819894, 0.01857979, 0.01069877, 0.05297248, 0.00940716, 0.07258634, 0.05933908, 0.20330589, 0.01208244, 0.01320407, 0.04408255, 0.00728822, 0.01148669, 0.12127794], \"colorscale\": \"Portland\", \"showscale\": true, \"size\": 25, \"sizemode\": \"diameter\", \"sizeref\": 1}, \"mode\": \"markers\", \"text\": [\"ndvi_ne\", \"ndvi_nw\", \"ndvi_se\", \"ndvi_sw\", \"reanalysis_air_temp_c\", \"reanalysis_avg_temp_c\", \"reanalysis_dew_point_temp_c\", \"reanalysis_relative_humidity_percent\", \"reanalysis_specific_humidity_g_per_kg\", \"ndvi_mean\", \"station_avg_temp_c_lagVar\", \"reanalysis_max_air_temp_c_lagSum\", \"reanalysis_air_temp_c_lagSum\", \"reanalysis_air_temp_c_lagMean\", \"reanalysis_air_temp_c_lagVar\", \"reanalysis_avg_temp_c_lagSum\", \"reanalysis_avg_temp_c_lagMean\", \"reanalysis_avg_temp_c_lagVar\", \"ndvi_ne_lagSum\", \"ndvi_ne_lagMean\", \"ndvi_ne_lagVar\", \"reanalysis_tdtr_c_lagSum\", \"reanalysis_tdtr_c_lagVar\", \"ndvi_mean_lagVar\", \"ndvi_nw_lagSum\", \"ndvi_nw_lagVar\", \"ndvi_se_lagSum\", \"ndvi_se_lagMean\", \"ndvi_se_lagVar\", \"ndvi_sw_lagSum\", \"ndvi_sw_lagMean\", \"ndvi_sw_lagVar\"], \"type\": \"scatter\", \"uid\": \"2da49119-f04b-40ef-8bdd-05aeb96f8a2f\", \"x\": [\"ndvi_ne\", \"ndvi_nw\", \"ndvi_se\", \"ndvi_sw\", \"reanalysis_air_temp_c\", \"reanalysis_avg_temp_c\", \"reanalysis_dew_point_temp_c\", \"reanalysis_relative_humidity_percent\", \"reanalysis_specific_humidity_g_per_kg\", \"ndvi_mean\", \"station_avg_temp_c_lagVar\", \"reanalysis_max_air_temp_c_lagSum\", \"reanalysis_air_temp_c_lagSum\", \"reanalysis_air_temp_c_lagMean\", \"reanalysis_air_temp_c_lagVar\", \"reanalysis_avg_temp_c_lagSum\", \"reanalysis_avg_temp_c_lagMean\", \"reanalysis_avg_temp_c_lagVar\", \"ndvi_ne_lagSum\", \"ndvi_ne_lagMean\", \"ndvi_ne_lagVar\", \"reanalysis_tdtr_c_lagSum\", \"reanalysis_tdtr_c_lagVar\", \"ndvi_mean_lagVar\", \"ndvi_nw_lagSum\", \"ndvi_nw_lagVar\", \"ndvi_se_lagSum\", \"ndvi_se_lagMean\", \"ndvi_se_lagVar\", \"ndvi_sw_lagSum\", \"ndvi_sw_lagMean\", \"ndvi_sw_lagVar\"], \"y\": [0.00644359, 0.01510076, 0.00758349, 0.00497379, 0.01436924, 0.01415707, 0.01815332, 0.01596558, 0.02517232, 0.00853181, 0.00331829, 0.03345881, 0.05791077, 0.03899551, 0.00395463, 0.04145806, 0.03117509, 0.00476751, 0.01819894, 0.01857979, 0.01069877, 0.05297248, 0.00940716, 0.07258634, 0.05933908, 0.20330589, 0.01208244, 0.01320407, 0.04408255, 0.00728822, 0.01148669, 0.12127794]}],\n",
       "                        {\"autosize\": true, \"hovermode\": \"closest\", \"showlegend\": false, \"title\": {\"text\": \"Random Forest Feature Importance (City - Iquitos)\"}, \"xaxis\": {\"automargin\": true}, \"yaxis\": {\"gridwidth\": 2, \"ticklen\": 5, \"title\": {\"text\": \"Feature Importance\"}}},\n",
       "                        {\"showLink\": false, \"linkText\": \"Export to plot.ly\", \"plotlyServerURL\": \"https://plot.ly\", \"responsive\": true}\n",
       "                    ).then(function(){\n",
       "                            \n",
       "var gd = document.getElementById('5015adb7-4ffc-43e2-934a-80998e57a4b5');\n",
       "var x = new MutationObserver(function (mutations, observer) {{\n",
       "        var display = window.getComputedStyle(gd).display;\n",
       "        if (!display || display === 'none') {{\n",
       "            console.log([gd, 'removed!']);\n",
       "            Plotly.purge(gd);\n",
       "            observer.disconnect();\n",
       "        }}\n",
       "}});\n",
       "\n",
       "// Listen for the removal of the full notebook cells\n",
       "var notebookContainer = gd.closest('#notebook-container');\n",
       "if (notebookContainer) {{\n",
       "    x.observe(notebookContainer, {childList: true});\n",
       "}}\n",
       "\n",
       "// Listen for the clearing of the current output cell\n",
       "var outputEl = gd.closest('.output');\n",
       "if (outputEl) {{\n",
       "    x.observe(outputEl, {childList: true});\n",
       "}}\n",
       "\n",
       "                        })\n",
       "                };\n",
       "                });\n",
       "            </script>\n",
       "        </div>"
      ]
     },
     "metadata": {},
     "output_type": "display_data"
    },
    {
     "data": {
      "application/vnd.plotly.v1+json": {
       "config": {
        "linkText": "Export to plot.ly",
        "plotlyServerURL": "https://plot.ly",
        "showLink": false
       },
       "data": [
        {
         "marker": {
          "color": [
           0.00934986,
           0.00927348,
           0.0154,
           0.01016222,
           0.00865264,
           0.00767919,
           0.01794899,
           0.01064,
           0.01876744,
           0.01068679,
           0.02116974,
           0.03579723,
           0.01893968,
           0.02444226,
           0.00603216,
           0.03013143,
           0.02269513,
           0.00952023,
           0.0159846,
           0.01545951,
           0.05508079,
           0.01915999,
           0.01028542,
           0.04356719,
           0.02216302,
           0.16475454,
           0.02418447,
           0.01679084,
           0.05603883,
           0.01806889,
           0.01852562,
           0.23264776
          ],
          "colorscale": "Portland",
          "showscale": true,
          "size": 25,
          "sizemode": "diameter",
          "sizeref": 1
         },
         "mode": "markers",
         "text": [
          "ndvi_ne",
          "ndvi_nw",
          "ndvi_se",
          "ndvi_sw",
          "reanalysis_air_temp_c",
          "reanalysis_avg_temp_c",
          "reanalysis_dew_point_temp_c",
          "reanalysis_relative_humidity_percent",
          "reanalysis_specific_humidity_g_per_kg",
          "ndvi_mean",
          "station_avg_temp_c_lagVar",
          "reanalysis_max_air_temp_c_lagSum",
          "reanalysis_air_temp_c_lagSum",
          "reanalysis_air_temp_c_lagMean",
          "reanalysis_air_temp_c_lagVar",
          "reanalysis_avg_temp_c_lagSum",
          "reanalysis_avg_temp_c_lagMean",
          "reanalysis_avg_temp_c_lagVar",
          "ndvi_ne_lagSum",
          "ndvi_ne_lagMean",
          "ndvi_ne_lagVar",
          "reanalysis_tdtr_c_lagSum",
          "reanalysis_tdtr_c_lagVar",
          "ndvi_mean_lagVar",
          "ndvi_nw_lagSum",
          "ndvi_nw_lagVar",
          "ndvi_se_lagSum",
          "ndvi_se_lagMean",
          "ndvi_se_lagVar",
          "ndvi_sw_lagSum",
          "ndvi_sw_lagMean",
          "ndvi_sw_lagVar"
         ],
         "type": "scatter",
         "uid": "80e18bcb-ef80-4b4c-9294-db828ca8b5cc",
         "x": [
          "ndvi_ne",
          "ndvi_nw",
          "ndvi_se",
          "ndvi_sw",
          "reanalysis_air_temp_c",
          "reanalysis_avg_temp_c",
          "reanalysis_dew_point_temp_c",
          "reanalysis_relative_humidity_percent",
          "reanalysis_specific_humidity_g_per_kg",
          "ndvi_mean",
          "station_avg_temp_c_lagVar",
          "reanalysis_max_air_temp_c_lagSum",
          "reanalysis_air_temp_c_lagSum",
          "reanalysis_air_temp_c_lagMean",
          "reanalysis_air_temp_c_lagVar",
          "reanalysis_avg_temp_c_lagSum",
          "reanalysis_avg_temp_c_lagMean",
          "reanalysis_avg_temp_c_lagVar",
          "ndvi_ne_lagSum",
          "ndvi_ne_lagMean",
          "ndvi_ne_lagVar",
          "reanalysis_tdtr_c_lagSum",
          "reanalysis_tdtr_c_lagVar",
          "ndvi_mean_lagVar",
          "ndvi_nw_lagSum",
          "ndvi_nw_lagVar",
          "ndvi_se_lagSum",
          "ndvi_se_lagMean",
          "ndvi_se_lagVar",
          "ndvi_sw_lagSum",
          "ndvi_sw_lagMean",
          "ndvi_sw_lagVar"
         ],
         "y": [
          0.00934986,
          0.00927348,
          0.0154,
          0.01016222,
          0.00865264,
          0.00767919,
          0.01794899,
          0.01064,
          0.01876744,
          0.01068679,
          0.02116974,
          0.03579723,
          0.01893968,
          0.02444226,
          0.00603216,
          0.03013143,
          0.02269513,
          0.00952023,
          0.0159846,
          0.01545951,
          0.05508079,
          0.01915999,
          0.01028542,
          0.04356719,
          0.02216302,
          0.16475454,
          0.02418447,
          0.01679084,
          0.05603883,
          0.01806889,
          0.01852562,
          0.23264776
         ]
        }
       ],
       "layout": {
        "autosize": true,
        "hovermode": "closest",
        "showlegend": false,
        "title": {
         "text": "Gradient Boosting Feature Importance (City- Iquitos)"
        },
        "xaxis": {
         "automargin": true
        },
        "yaxis": {
         "automargin": true,
         "gridwidth": 2,
         "ticklen": 5,
         "title": {
          "text": "Feature Importance"
         }
        }
       }
      },
      "text/html": [
       "<div>\n",
       "        \n",
       "        \n",
       "            <div id=\"e537b369-0e5b-44fb-af53-f7dd4d4ce4ca\" class=\"plotly-graph-div\" style=\"height:525px; width:100%;\"></div>\n",
       "            <script type=\"text/javascript\">\n",
       "                require([\"plotly\"], function(Plotly) {\n",
       "                    window.PLOTLYENV=window.PLOTLYENV || {};\n",
       "                    window.PLOTLYENV.BASE_URL='https://plot.ly';\n",
       "                    \n",
       "                if (document.getElementById(\"e537b369-0e5b-44fb-af53-f7dd4d4ce4ca\")) {\n",
       "                    Plotly.newPlot(\n",
       "                        'e537b369-0e5b-44fb-af53-f7dd4d4ce4ca',\n",
       "                        [{\"marker\": {\"color\": [0.00934986, 0.00927348, 0.0154, 0.01016222, 0.00865264, 0.00767919, 0.01794899, 0.01064, 0.01876744, 0.01068679, 0.02116974, 0.03579723, 0.01893968, 0.02444226, 0.00603216, 0.03013143, 0.02269513, 0.00952023, 0.0159846, 0.01545951, 0.05508079, 0.01915999, 0.01028542, 0.04356719, 0.02216302, 0.16475454, 0.02418447, 0.01679084, 0.05603883, 0.01806889, 0.01852562, 0.23264776], \"colorscale\": \"Portland\", \"showscale\": true, \"size\": 25, \"sizemode\": \"diameter\", \"sizeref\": 1}, \"mode\": \"markers\", \"text\": [\"ndvi_ne\", \"ndvi_nw\", \"ndvi_se\", \"ndvi_sw\", \"reanalysis_air_temp_c\", \"reanalysis_avg_temp_c\", \"reanalysis_dew_point_temp_c\", \"reanalysis_relative_humidity_percent\", \"reanalysis_specific_humidity_g_per_kg\", \"ndvi_mean\", \"station_avg_temp_c_lagVar\", \"reanalysis_max_air_temp_c_lagSum\", \"reanalysis_air_temp_c_lagSum\", \"reanalysis_air_temp_c_lagMean\", \"reanalysis_air_temp_c_lagVar\", \"reanalysis_avg_temp_c_lagSum\", \"reanalysis_avg_temp_c_lagMean\", \"reanalysis_avg_temp_c_lagVar\", \"ndvi_ne_lagSum\", \"ndvi_ne_lagMean\", \"ndvi_ne_lagVar\", \"reanalysis_tdtr_c_lagSum\", \"reanalysis_tdtr_c_lagVar\", \"ndvi_mean_lagVar\", \"ndvi_nw_lagSum\", \"ndvi_nw_lagVar\", \"ndvi_se_lagSum\", \"ndvi_se_lagMean\", \"ndvi_se_lagVar\", \"ndvi_sw_lagSum\", \"ndvi_sw_lagMean\", \"ndvi_sw_lagVar\"], \"type\": \"scatter\", \"uid\": \"80e18bcb-ef80-4b4c-9294-db828ca8b5cc\", \"x\": [\"ndvi_ne\", \"ndvi_nw\", \"ndvi_se\", \"ndvi_sw\", \"reanalysis_air_temp_c\", \"reanalysis_avg_temp_c\", \"reanalysis_dew_point_temp_c\", \"reanalysis_relative_humidity_percent\", \"reanalysis_specific_humidity_g_per_kg\", \"ndvi_mean\", \"station_avg_temp_c_lagVar\", \"reanalysis_max_air_temp_c_lagSum\", \"reanalysis_air_temp_c_lagSum\", \"reanalysis_air_temp_c_lagMean\", \"reanalysis_air_temp_c_lagVar\", \"reanalysis_avg_temp_c_lagSum\", \"reanalysis_avg_temp_c_lagMean\", \"reanalysis_avg_temp_c_lagVar\", \"ndvi_ne_lagSum\", \"ndvi_ne_lagMean\", \"ndvi_ne_lagVar\", \"reanalysis_tdtr_c_lagSum\", \"reanalysis_tdtr_c_lagVar\", \"ndvi_mean_lagVar\", \"ndvi_nw_lagSum\", \"ndvi_nw_lagVar\", \"ndvi_se_lagSum\", \"ndvi_se_lagMean\", \"ndvi_se_lagVar\", \"ndvi_sw_lagSum\", \"ndvi_sw_lagMean\", \"ndvi_sw_lagVar\"], \"y\": [0.00934986, 0.00927348, 0.0154, 0.01016222, 0.00865264, 0.00767919, 0.01794899, 0.01064, 0.01876744, 0.01068679, 0.02116974, 0.03579723, 0.01893968, 0.02444226, 0.00603216, 0.03013143, 0.02269513, 0.00952023, 0.0159846, 0.01545951, 0.05508079, 0.01915999, 0.01028542, 0.04356719, 0.02216302, 0.16475454, 0.02418447, 0.01679084, 0.05603883, 0.01806889, 0.01852562, 0.23264776]}],\n",
       "                        {\"autosize\": true, \"hovermode\": \"closest\", \"showlegend\": false, \"title\": {\"text\": \"Gradient Boosting Feature Importance (City- Iquitos)\"}, \"xaxis\": {\"automargin\": true}, \"yaxis\": {\"automargin\": true, \"gridwidth\": 2, \"ticklen\": 5, \"title\": {\"text\": \"Feature Importance\"}}},\n",
       "                        {\"showLink\": false, \"linkText\": \"Export to plot.ly\", \"plotlyServerURL\": \"https://plot.ly\", \"responsive\": true}\n",
       "                    ).then(function(){\n",
       "                            \n",
       "var gd = document.getElementById('e537b369-0e5b-44fb-af53-f7dd4d4ce4ca');\n",
       "var x = new MutationObserver(function (mutations, observer) {{\n",
       "        var display = window.getComputedStyle(gd).display;\n",
       "        if (!display || display === 'none') {{\n",
       "            console.log([gd, 'removed!']);\n",
       "            Plotly.purge(gd);\n",
       "            observer.disconnect();\n",
       "        }}\n",
       "}});\n",
       "\n",
       "// Listen for the removal of the full notebook cells\n",
       "var notebookContainer = gd.closest('#notebook-container');\n",
       "if (notebookContainer) {{\n",
       "    x.observe(notebookContainer, {childList: true});\n",
       "}}\n",
       "\n",
       "// Listen for the clearing of the current output cell\n",
       "var outputEl = gd.closest('.output');\n",
       "if (outputEl) {{\n",
       "    x.observe(outputEl, {childList: true});\n",
       "}}\n",
       "\n",
       "                        })\n",
       "                };\n",
       "                });\n",
       "            </script>\n",
       "        </div>"
      ]
     },
     "metadata": {},
     "output_type": "display_data"
    }
   ],
   "source": [
    "# Scatter plot \n",
    "trace = go.Scatter( y = feature_dataframe_sj['Random Forest feature importances'].values,\n",
    "                    x = feature_dataframe_sj['features'].values,\n",
    "                    mode='markers',\n",
    "                    marker=dict( sizemode = 'diameter',\n",
    "                                 sizeref = 1,\n",
    "                                 size = 25,\n",
    "                                 color = feature_dataframe_sj['Random Forest feature importances'].values,\n",
    "                                 colorscale='Portland',\n",
    "                                 showscale=True ),\n",
    "                    text = feature_dataframe_sj['features'].values )\n",
    "data = [trace]\n",
    "\n",
    "layout= go.Layout(  autosize= True,\n",
    "                    title= 'Random Forest Feature Importance (City - San Juan)',\n",
    "                    hovermode= 'closest',\n",
    "                    yaxis=dict( title= 'Feature Importance',\n",
    "                                ticklen= 5,\n",
    "                                gridwidth= 2 ),\n",
    "                    xaxis= dict( automargin= True),\n",
    "                    showlegend= False )\n",
    "fig = go.Figure( data=data, layout=layout )\n",
    "py.iplot( fig, filename='scatter2010' )\n",
    "\n",
    "# Scatter plot \n",
    "trace = go.Scatter( y = feature_dataframe_sj['Gradient Boost feature importances'].values,\n",
    "                    x = feature_dataframe_sj['features'].values,\n",
    "                    mode='markers',\n",
    "                    marker=dict( sizemode = 'diameter',\n",
    "                                 sizeref = 1,\n",
    "                                 size = 25,\n",
    "                                 color = feature_dataframe_sj['Gradient Boost feature importances'].values,\n",
    "                                 colorscale='Portland',\n",
    "                                 showscale=True ),\n",
    "                    text = feature_dataframe_sj['features'].values )\n",
    "data = [trace]\n",
    "\n",
    "layout= go.Layout(  autosize= True,\n",
    "                    title= 'Gradient Boosting Feature Importance (City-San Juan)',\n",
    "                    hovermode= 'closest',\n",
    "                    yaxis=dict( title= 'Feature Importance',\n",
    "                                ticklen= 5,\n",
    "                                gridwidth= 2,\n",
    "                              automargin= True),\n",
    "                    xaxis= dict( automargin= True),\n",
    "                    showlegend= False )\n",
    "fig = go.Figure( data=data, layout=layout)\n",
    "py.iplot( fig, filename='scatter2010' )\n",
    "\n",
    "# Scatter plot \n",
    "trace = go.Scatter( y = feature_dataframe_sj['Random Forest feature importances'].values,\n",
    "                    x = feature_dataframe_sj['features'].values,\n",
    "                    mode='markers',\n",
    "                    marker=dict( sizemode = 'diameter',\n",
    "                                 sizeref = 1,\n",
    "                                 size = 25,\n",
    "                                 color = feature_dataframe_sj['Random Forest feature importances'].values,\n",
    "                                 colorscale='Portland',\n",
    "                                 showscale=True ),\n",
    "                    text = feature_dataframe_sj['features'].values )\n",
    "data = [trace]\n",
    "\n",
    "layout= go.Layout(  autosize= True,\n",
    "                    title= 'Random Forest Feature Importance (City - Iquitos)',\n",
    "                    hovermode= 'closest',\n",
    "                    yaxis=dict( title= 'Feature Importance',\n",
    "                                ticklen= 5,\n",
    "                                gridwidth= 2 ),\n",
    "                    xaxis= dict( automargin= True),\n",
    "                    showlegend= False )\n",
    "fig = go.Figure( data=data, layout=layout )\n",
    "py.iplot( fig, filename='scatter2010' )\n",
    "\n",
    "# Scatter plot \n",
    "trace = go.Scatter( y = feature_dataframe_sj['Gradient Boost feature importances'].values,\n",
    "                    x = feature_dataframe_sj['features'].values,\n",
    "                    mode='markers',\n",
    "                    marker=dict( sizemode = 'diameter',\n",
    "                                 sizeref = 1,\n",
    "                                 size = 25,\n",
    "                                 color = feature_dataframe_sj['Gradient Boost feature importances'].values,\n",
    "                                 colorscale='Portland',\n",
    "                                 showscale=True ),\n",
    "                    text = feature_dataframe_sj['features'].values )\n",
    "data = [trace]\n",
    "\n",
    "layout= go.Layout(  autosize= True,\n",
    "                    title= 'Gradient Boosting Feature Importance (City- Iquitos)',\n",
    "                    hovermode= 'closest',\n",
    "                    yaxis=dict( title= 'Feature Importance',\n",
    "                                ticklen= 5,\n",
    "                                gridwidth= 2,\n",
    "                              automargin= True),\n",
    "                    xaxis= dict( automargin= True),\n",
    "                    showlegend= False )\n",
    "fig = go.Figure( data=data, layout=layout)\n",
    "py.iplot( fig, filename='scatter2010' )"
   ]
  },
  {
   "cell_type": "code",
   "execution_count": 96,
   "metadata": {},
   "outputs": [],
   "source": [
    "# Create the new column containing the average of values\n",
    "feature_dataframe_sj['mean'] = feature_dataframe_sj.mean(axis= 1) # axis = 1 computes the mean row-wise\n",
    "feature_dataframe_iq['mean'] = feature_dataframe_iq.mean(axis= 1) # axis = 1 computes the mean row-wise"
   ]
  },
  {
   "cell_type": "markdown",
   "metadata": {
    "_cell_guid": "5645e647-c517-7822-f881-b8d7e38ef5da",
    "_uuid": "1f0aff0896fef90b326fff7816393fef0e0cb992"
   },
   "source": [
    "**Plotly Barplot of Average Feature Importances**\n",
    "\n",
    "Having obtained the mean feature importance across all our models, we can plot them into a Plotly bar plot as follows:"
   ]
  },
  {
   "cell_type": "code",
   "execution_count": 98,
   "metadata": {
    "_cell_guid": "63d86121-8c29-4b7f-b2ad-12b0a593f1d6",
    "_uuid": "0bd069388b419fe45306c01825aa3e6f5466ba2b"
   },
   "outputs": [
    {
     "data": {
      "application/vnd.plotly.v1+json": {
       "config": {
        "linkText": "Export to plot.ly",
        "plotlyServerURL": "https://plot.ly",
        "showLink": false
       },
       "data": [
        {
         "marker": {
          "color": [
           0.007896725,
           0.01218712,
           0.011491745000000001,
           0.007568004999999999,
           0.01151094,
           0.01091813,
           0.018051155,
           0.01330279,
           0.02196988,
           0.009609300000000001,
           0.012244015,
           0.034628019999999995,
           0.038425225,
           0.031718885,
           0.004993394999999999,
           0.035794745,
           0.026935109999999998,
           0.00714387,
           0.01709177,
           0.017019649999999997,
           0.03288978,
           0.036066235,
           0.00984629,
           0.058076765,
           0.04075105,
           0.184030215,
           0.018133455,
           0.014997455,
           0.05006069,
           0.012678555000000001,
           0.015006155,
           0.17696285
          ],
          "colorscale": "Portland",
          "reversescale": false,
          "showscale": true
         },
         "opacity": 0.6,
         "type": "bar",
         "uid": "05bc3255-8197-4eea-8581-0c2819bdeca1",
         "width": 0.5,
         "x": [
          "ndvi_ne",
          "ndvi_nw",
          "ndvi_se",
          "ndvi_sw",
          "reanalysis_air_temp_c",
          "reanalysis_avg_temp_c",
          "reanalysis_dew_point_temp_c",
          "reanalysis_relative_humidity_percent",
          "reanalysis_specific_humidity_g_per_kg",
          "ndvi_mean",
          "station_avg_temp_c_lagVar",
          "reanalysis_max_air_temp_c_lagSum",
          "reanalysis_air_temp_c_lagSum",
          "reanalysis_air_temp_c_lagMean",
          "reanalysis_air_temp_c_lagVar",
          "reanalysis_avg_temp_c_lagSum",
          "reanalysis_avg_temp_c_lagMean",
          "reanalysis_avg_temp_c_lagVar",
          "ndvi_ne_lagSum",
          "ndvi_ne_lagMean",
          "ndvi_ne_lagVar",
          "reanalysis_tdtr_c_lagSum",
          "reanalysis_tdtr_c_lagVar",
          "ndvi_mean_lagVar",
          "ndvi_nw_lagSum",
          "ndvi_nw_lagVar",
          "ndvi_se_lagSum",
          "ndvi_se_lagMean",
          "ndvi_se_lagVar",
          "ndvi_sw_lagSum",
          "ndvi_sw_lagMean",
          "ndvi_sw_lagVar"
         ],
         "y": [
          0.007896725,
          0.01218712,
          0.011491745000000001,
          0.007568004999999999,
          0.01151094,
          0.01091813,
          0.018051155,
          0.01330279,
          0.02196988,
          0.009609300000000001,
          0.012244015,
          0.034628019999999995,
          0.038425225,
          0.031718885,
          0.004993394999999999,
          0.035794745,
          0.026935109999999998,
          0.00714387,
          0.01709177,
          0.017019649999999997,
          0.03288978,
          0.036066235,
          0.00984629,
          0.058076765,
          0.04075105,
          0.184030215,
          0.018133455,
          0.014997455,
          0.05006069,
          0.012678555000000001,
          0.015006155,
          0.17696285
         ]
        }
       ],
       "layout": {
        "autosize": true,
        "hovermode": "closest",
        "showlegend": false,
        "title": {
         "text": "Barplots of Mean Feature Importance ( City - San Juan )"
        },
        "xaxis": {
         "automargin": true
        },
        "yaxis": {
         "gridwidth": 2,
         "ticklen": 5,
         "title": {
          "text": "Feature Importance"
         }
        }
       }
      },
      "text/html": [
       "<div>\n",
       "        \n",
       "        \n",
       "            <div id=\"f24872af-10c0-4d02-be06-1e762066d526\" class=\"plotly-graph-div\" style=\"height:525px; width:100%;\"></div>\n",
       "            <script type=\"text/javascript\">\n",
       "                require([\"plotly\"], function(Plotly) {\n",
       "                    window.PLOTLYENV=window.PLOTLYENV || {};\n",
       "                    window.PLOTLYENV.BASE_URL='https://plot.ly';\n",
       "                    \n",
       "                if (document.getElementById(\"f24872af-10c0-4d02-be06-1e762066d526\")) {\n",
       "                    Plotly.newPlot(\n",
       "                        'f24872af-10c0-4d02-be06-1e762066d526',\n",
       "                        [{\"marker\": {\"color\": [0.007896725, 0.01218712, 0.011491745000000001, 0.007568004999999999, 0.01151094, 0.01091813, 0.018051155, 0.01330279, 0.02196988, 0.009609300000000001, 0.012244015, 0.034628019999999995, 0.038425225, 0.031718885, 0.004993394999999999, 0.035794745, 0.026935109999999998, 0.00714387, 0.01709177, 0.017019649999999997, 0.03288978, 0.036066235, 0.00984629, 0.058076765, 0.04075105, 0.184030215, 0.018133455, 0.014997455, 0.05006069, 0.012678555000000001, 0.015006155, 0.17696285], \"colorscale\": \"Portland\", \"reversescale\": false, \"showscale\": true}, \"opacity\": 0.6, \"type\": \"bar\", \"uid\": \"05bc3255-8197-4eea-8581-0c2819bdeca1\", \"width\": 0.5, \"x\": [\"ndvi_ne\", \"ndvi_nw\", \"ndvi_se\", \"ndvi_sw\", \"reanalysis_air_temp_c\", \"reanalysis_avg_temp_c\", \"reanalysis_dew_point_temp_c\", \"reanalysis_relative_humidity_percent\", \"reanalysis_specific_humidity_g_per_kg\", \"ndvi_mean\", \"station_avg_temp_c_lagVar\", \"reanalysis_max_air_temp_c_lagSum\", \"reanalysis_air_temp_c_lagSum\", \"reanalysis_air_temp_c_lagMean\", \"reanalysis_air_temp_c_lagVar\", \"reanalysis_avg_temp_c_lagSum\", \"reanalysis_avg_temp_c_lagMean\", \"reanalysis_avg_temp_c_lagVar\", \"ndvi_ne_lagSum\", \"ndvi_ne_lagMean\", \"ndvi_ne_lagVar\", \"reanalysis_tdtr_c_lagSum\", \"reanalysis_tdtr_c_lagVar\", \"ndvi_mean_lagVar\", \"ndvi_nw_lagSum\", \"ndvi_nw_lagVar\", \"ndvi_se_lagSum\", \"ndvi_se_lagMean\", \"ndvi_se_lagVar\", \"ndvi_sw_lagSum\", \"ndvi_sw_lagMean\", \"ndvi_sw_lagVar\"], \"y\": [0.007896725, 0.01218712, 0.011491745000000001, 0.007568004999999999, 0.01151094, 0.01091813, 0.018051155, 0.01330279, 0.02196988, 0.009609300000000001, 0.012244015, 0.034628019999999995, 0.038425225, 0.031718885, 0.004993394999999999, 0.035794745, 0.026935109999999998, 0.00714387, 0.01709177, 0.017019649999999997, 0.03288978, 0.036066235, 0.00984629, 0.058076765, 0.04075105, 0.184030215, 0.018133455, 0.014997455, 0.05006069, 0.012678555000000001, 0.015006155, 0.17696285]}],\n",
       "                        {\"autosize\": true, \"hovermode\": \"closest\", \"showlegend\": false, \"title\": {\"text\": \"Barplots of Mean Feature Importance ( City - San Juan )\"}, \"xaxis\": {\"automargin\": true}, \"yaxis\": {\"gridwidth\": 2, \"ticklen\": 5, \"title\": {\"text\": \"Feature Importance\"}}},\n",
       "                        {\"showLink\": false, \"linkText\": \"Export to plot.ly\", \"plotlyServerURL\": \"https://plot.ly\", \"responsive\": true}\n",
       "                    ).then(function(){\n",
       "                            \n",
       "var gd = document.getElementById('f24872af-10c0-4d02-be06-1e762066d526');\n",
       "var x = new MutationObserver(function (mutations, observer) {{\n",
       "        var display = window.getComputedStyle(gd).display;\n",
       "        if (!display || display === 'none') {{\n",
       "            console.log([gd, 'removed!']);\n",
       "            Plotly.purge(gd);\n",
       "            observer.disconnect();\n",
       "        }}\n",
       "}});\n",
       "\n",
       "// Listen for the removal of the full notebook cells\n",
       "var notebookContainer = gd.closest('#notebook-container');\n",
       "if (notebookContainer) {{\n",
       "    x.observe(notebookContainer, {childList: true});\n",
       "}}\n",
       "\n",
       "// Listen for the clearing of the current output cell\n",
       "var outputEl = gd.closest('.output');\n",
       "if (outputEl) {{\n",
       "    x.observe(outputEl, {childList: true});\n",
       "}}\n",
       "\n",
       "                        })\n",
       "                };\n",
       "                });\n",
       "            </script>\n",
       "        </div>"
      ]
     },
     "metadata": {},
     "output_type": "display_data"
    },
    {
     "data": {
      "application/vnd.plotly.v1+json": {
       "config": {
        "linkText": "Export to plot.ly",
        "plotlyServerURL": "https://plot.ly",
        "showLink": false
       },
       "data": [
        {
         "marker": {
          "color": [
           0.066606145,
           0.0813807,
           0.18662774999999998,
           0.14016721,
           0.08634054999999999,
           0.098835245,
           0.11172596,
           0.091745255,
           0.05730689,
           0.07926430000000001
          ],
          "colorscale": "Portland",
          "reversescale": false,
          "showscale": true
         },
         "opacity": 0.6,
         "type": "bar",
         "uid": "6ccf3318-2bdc-4eaa-8822-9fe72e3ab437",
         "width": 0.5,
         "x": [
          "ndvi_nw",
          "ndvi_sw",
          "reanalysis_dew_point_temp_c",
          "reanalysis_specific_humidity_g_per_kg",
          "reanalysis_specific_humidity_g_per_kg_lagVar",
          "reanalysis_dew_point_temp_c_lagVar",
          "ndvi_se_lagVar",
          "ndvi_sw_lagVar",
          "ndvi_ne_lagVar",
          "ndvi_nw_lagVar"
         ],
         "y": [
          0.066606145,
          0.0813807,
          0.18662774999999998,
          0.14016721,
          0.08634054999999999,
          0.098835245,
          0.11172596,
          0.091745255,
          0.05730689,
          0.07926430000000001
         ]
        }
       ],
       "layout": {
        "autosize": true,
        "hovermode": "closest",
        "showlegend": false,
        "title": {
         "text": "Barplots of Mean Feature Importance ( City - Iquitos )"
        },
        "xaxis": {
         "automargin": true
        },
        "yaxis": {
         "gridwidth": 2,
         "ticklen": 5,
         "title": {
          "text": "Feature Importance"
         }
        }
       }
      },
      "text/html": [
       "<div>\n",
       "        \n",
       "        \n",
       "            <div id=\"2dee4d8c-48d8-4851-9c64-6da4c91f92ae\" class=\"plotly-graph-div\" style=\"height:525px; width:100%;\"></div>\n",
       "            <script type=\"text/javascript\">\n",
       "                require([\"plotly\"], function(Plotly) {\n",
       "                    window.PLOTLYENV=window.PLOTLYENV || {};\n",
       "                    window.PLOTLYENV.BASE_URL='https://plot.ly';\n",
       "                    \n",
       "                if (document.getElementById(\"2dee4d8c-48d8-4851-9c64-6da4c91f92ae\")) {\n",
       "                    Plotly.newPlot(\n",
       "                        '2dee4d8c-48d8-4851-9c64-6da4c91f92ae',\n",
       "                        [{\"marker\": {\"color\": [0.066606145, 0.0813807, 0.18662774999999998, 0.14016721, 0.08634054999999999, 0.098835245, 0.11172596, 0.091745255, 0.05730689, 0.07926430000000001], \"colorscale\": \"Portland\", \"reversescale\": false, \"showscale\": true}, \"opacity\": 0.6, \"type\": \"bar\", \"uid\": \"6ccf3318-2bdc-4eaa-8822-9fe72e3ab437\", \"width\": 0.5, \"x\": [\"ndvi_nw\", \"ndvi_sw\", \"reanalysis_dew_point_temp_c\", \"reanalysis_specific_humidity_g_per_kg\", \"reanalysis_specific_humidity_g_per_kg_lagVar\", \"reanalysis_dew_point_temp_c_lagVar\", \"ndvi_se_lagVar\", \"ndvi_sw_lagVar\", \"ndvi_ne_lagVar\", \"ndvi_nw_lagVar\"], \"y\": [0.066606145, 0.0813807, 0.18662774999999998, 0.14016721, 0.08634054999999999, 0.098835245, 0.11172596, 0.091745255, 0.05730689, 0.07926430000000001]}],\n",
       "                        {\"autosize\": true, \"hovermode\": \"closest\", \"showlegend\": false, \"title\": {\"text\": \"Barplots of Mean Feature Importance ( City - Iquitos )\"}, \"xaxis\": {\"automargin\": true}, \"yaxis\": {\"gridwidth\": 2, \"ticklen\": 5, \"title\": {\"text\": \"Feature Importance\"}}},\n",
       "                        {\"showLink\": false, \"linkText\": \"Export to plot.ly\", \"plotlyServerURL\": \"https://plot.ly\", \"responsive\": true}\n",
       "                    ).then(function(){\n",
       "                            \n",
       "var gd = document.getElementById('2dee4d8c-48d8-4851-9c64-6da4c91f92ae');\n",
       "var x = new MutationObserver(function (mutations, observer) {{\n",
       "        var display = window.getComputedStyle(gd).display;\n",
       "        if (!display || display === 'none') {{\n",
       "            console.log([gd, 'removed!']);\n",
       "            Plotly.purge(gd);\n",
       "            observer.disconnect();\n",
       "        }}\n",
       "}});\n",
       "\n",
       "// Listen for the removal of the full notebook cells\n",
       "var notebookContainer = gd.closest('#notebook-container');\n",
       "if (notebookContainer) {{\n",
       "    x.observe(notebookContainer, {childList: true});\n",
       "}}\n",
       "\n",
       "// Listen for the clearing of the current output cell\n",
       "var outputEl = gd.closest('.output');\n",
       "if (outputEl) {{\n",
       "    x.observe(outputEl, {childList: true});\n",
       "}}\n",
       "\n",
       "                        })\n",
       "                };\n",
       "                });\n",
       "            </script>\n",
       "        </div>"
      ]
     },
     "metadata": {},
     "output_type": "display_data"
    }
   ],
   "source": [
    "y = feature_dataframe_sj['mean'].values\n",
    "x = feature_dataframe_sj['features'].values\n",
    "data = [go.Bar( x= x,\n",
    "                y= y,\n",
    "                width = 0.5,\n",
    "                marker=dict( color = feature_dataframe_sj['mean'].values,\n",
    "                             colorscale='Portland',\n",
    "                             showscale=True,\n",
    "                             reversescale = False\n",
    "                            ),\n",
    "                opacity=0.6 )]\n",
    "\n",
    "layout= go.Layout( autosize= True,\n",
    "                   title= 'Barplots of Mean Feature Importance ( City - San Juan )',\n",
    "                   hovermode= 'closest',\n",
    "                   yaxis=dict( title= 'Feature Importance',\n",
    "                               ticklen= 5,\n",
    "                               gridwidth= 2 ),\n",
    "                   xaxis = dict( automargin= True ),\n",
    "                   showlegend = False )\n",
    "fig = go.Figure( data=data, layout = layout )\n",
    "py.iplot(fig, filename='bar-direct-labels')\n",
    "\n",
    "y = feature_dataframe_iq['mean'].values\n",
    "x = feature_dataframe_iq['features'].values\n",
    "data = [go.Bar( x= x,\n",
    "                y= y,\n",
    "                width = 0.5,\n",
    "                marker=dict( color = feature_dataframe_iq['mean'].values,\n",
    "                             colorscale='Portland',\n",
    "                             showscale=True,\n",
    "                             reversescale = False\n",
    "                            ),\n",
    "                opacity=0.6 )]\n",
    "\n",
    "layout= go.Layout( autosize= True,\n",
    "                   title= 'Barplots of Mean Feature Importance ( City - Iquitos )',\n",
    "                   hovermode= 'closest',\n",
    "                   yaxis=dict( title= 'Feature Importance',\n",
    "                               ticklen= 5,\n",
    "                               gridwidth= 2 ),\n",
    "                   xaxis = dict( automargin= True ),\n",
    "                   showlegend = False )\n",
    "fig = go.Figure( data=data, layout = layout )\n",
    "py.iplot(fig, filename='bar-direct-labels')"
   ]
  },
  {
   "cell_type": "markdown",
   "metadata": {
    "_cell_guid": "c1201ecc-b07d-f8a1-0870-b8d78c89ebc0",
    "_uuid": "bbb76d189e8d03921caaacfa9545cef894348c7d"
   },
   "source": [
    "# Second-Level Predictions from the First-level Output"
   ]
  },
  {
   "cell_type": "markdown",
   "metadata": {
    "_cell_guid": "6b901750-ccdd-38ca-d8ea-1c361121ec4f",
    "_uuid": "fed132782b73dda8d265065867e7f57c0aed7f50"
   },
   "source": [
    "**First-level output as new features**\n",
    "\n",
    "Having now obtained our first-level predictions, one can think of it as essentially building a new set of features to be used as training data for the next regression. As per the code below, we are therefore having as our new columns the first-level predictions from our earlier regressors and we train the next regression on this."
   ]
  },
  {
   "cell_type": "code",
   "execution_count": 99,
   "metadata": {
    "_cell_guid": "7330a71c-0b71-87c2-1f4d-dd0f6d6fa586",
    "_uuid": "a5945e93337b87a1a8ee5580856768bbb14c07cd"
   },
   "outputs": [
    {
     "name": "stdout",
     "output_type": "stream",
     "text": [
      "   RandomForest  GradientBoost  NegativeBinomial\n",
      "0     14.547727      19.508806         13.574270\n",
      "1     13.150000      14.942312         14.361505\n",
      "2     14.200000      15.864154         23.484834\n",
      "3     15.706818      17.220106         34.883915\n",
      "4     19.361364      20.001890         38.960599\n",
      "   RandomForest  GradientBoost  NegativeBinomial\n",
      "0      3.818182       3.631974          7.936760\n",
      "1      4.590909       3.917861          7.359638\n",
      "2      5.863636       4.647056          6.815955\n",
      "3      4.045455       3.749698          6.367498\n",
      "4      4.454545       3.192487          3.443660\n"
     ]
    }
   ],
   "source": [
    "base_predictions_train_sj = pd.DataFrame({'RandomForest':     rf_oof_train_sj.ravel(),\n",
    "                                          'GradientBoost':    gb_oof_train_sj.ravel(),\n",
    "                                          'NegativeBinomial': nb_oof_train_sj.ravel() \n",
    "                                         })\n",
    "print( base_predictions_train_sj.head() )\n",
    "base_predictions_train_iq = pd.DataFrame({'RandomForest':     rf_oof_train_iq.ravel(),\n",
    "                                          'GradientBoost':    gb_oof_train_iq.ravel(),\n",
    "                                          'NegativeBinomial': nb_oof_train_iq.ravel() \n",
    "                                         })\n",
    "print( base_predictions_train_iq.head())"
   ]
  },
  {
   "cell_type": "markdown",
   "metadata": {
    "_cell_guid": "f69c11db-d84e-8536-4c7e-382fbe67483e",
    "_uuid": "2a6f987bd9b8ffc32a72e21cb8c43a6bc43ba200"
   },
   "source": [
    "**Correlation Heatmap of the Second Level Training set**"
   ]
  },
  {
   "cell_type": "code",
   "execution_count": 76,
   "metadata": {
    "_cell_guid": "4cf590ee-133f-6487-cf5a-53f346893d1c",
    "_uuid": "9714ecaedf7385c5b8ad346ab909215eb9f2abc6"
   },
   "outputs": [
    {
     "data": {
      "application/vnd.plotly.v1+json": {
       "config": {
        "linkText": "Export to plot.ly",
        "plotlyServerURL": "https://plot.ly",
        "showLink": false
       },
       "data": [
        {
         "colorscale": "Viridis",
         "reversescale": true,
         "showscale": true,
         "type": "heatmap",
         "uid": "b4c851ed-80f4-4f3e-9523-d736dd251eac",
         "x": [
          "RandomForest",
          "GradientBoost",
          "NegativeBinomial"
         ],
         "y": [
          "RandomForest",
          "GradientBoost",
          "NegativeBinomial"
         ],
         "z": [
          [
           1,
           0.7751969432014895,
           0.2751175720873196
          ],
          [
           0.7751969432014895,
           1,
           0.3863276681846263
          ],
          [
           0.2751175720873196,
           0.3863276681846263,
           1
          ]
         ]
        }
       ],
       "layout": {}
      },
      "text/html": [
       "<div>\n",
       "        \n",
       "        \n",
       "            <div id=\"1f9c7ee0-7e70-4ee5-b90c-ab895781a662\" class=\"plotly-graph-div\" style=\"height:525px; width:100%;\"></div>\n",
       "            <script type=\"text/javascript\">\n",
       "                require([\"plotly\"], function(Plotly) {\n",
       "                    window.PLOTLYENV=window.PLOTLYENV || {};\n",
       "                    window.PLOTLYENV.BASE_URL='https://plot.ly';\n",
       "                    \n",
       "                if (document.getElementById(\"1f9c7ee0-7e70-4ee5-b90c-ab895781a662\")) {\n",
       "                    Plotly.newPlot(\n",
       "                        '1f9c7ee0-7e70-4ee5-b90c-ab895781a662',\n",
       "                        [{\"colorscale\": \"Viridis\", \"reversescale\": true, \"showscale\": true, \"type\": \"heatmap\", \"uid\": \"b4c851ed-80f4-4f3e-9523-d736dd251eac\", \"x\": [\"RandomForest\", \"GradientBoost\", \"NegativeBinomial\"], \"y\": [\"RandomForest\", \"GradientBoost\", \"NegativeBinomial\"], \"z\": [[1.0, 0.7751969432014895, 0.2751175720873196], [0.7751969432014895, 1.0, 0.3863276681846263], [0.2751175720873196, 0.3863276681846263, 1.0]]}],\n",
       "                        {},\n",
       "                        {\"showLink\": false, \"linkText\": \"Export to plot.ly\", \"plotlyServerURL\": \"https://plot.ly\", \"responsive\": true}\n",
       "                    ).then(function(){\n",
       "                            \n",
       "var gd = document.getElementById('1f9c7ee0-7e70-4ee5-b90c-ab895781a662');\n",
       "var x = new MutationObserver(function (mutations, observer) {{\n",
       "        var display = window.getComputedStyle(gd).display;\n",
       "        if (!display || display === 'none') {{\n",
       "            console.log([gd, 'removed!']);\n",
       "            Plotly.purge(gd);\n",
       "            observer.disconnect();\n",
       "        }}\n",
       "}});\n",
       "\n",
       "// Listen for the removal of the full notebook cells\n",
       "var notebookContainer = gd.closest('#notebook-container');\n",
       "if (notebookContainer) {{\n",
       "    x.observe(notebookContainer, {childList: true});\n",
       "}}\n",
       "\n",
       "// Listen for the clearing of the current output cell\n",
       "var outputEl = gd.closest('.output');\n",
       "if (outputEl) {{\n",
       "    x.observe(outputEl, {childList: true});\n",
       "}}\n",
       "\n",
       "                        })\n",
       "                };\n",
       "                });\n",
       "            </script>\n",
       "        </div>"
      ]
     },
     "metadata": {},
     "output_type": "display_data"
    }
   ],
   "source": [
    "data = [ go.Heatmap( z = base_predictions_train_sj.astype( float ).corr().values,\n",
    "                     x = base_predictions_train_sj.columns.values,\n",
    "                     y = base_predictions_train_sj.columns.values,\n",
    "                     colorscale = 'Viridis',\n",
    "                     showscale = True,\n",
    "                     reversescale = True )]\n",
    "py.iplot( data, filename = 'labelled-heatmap' )"
   ]
  },
  {
   "cell_type": "code",
   "execution_count": 100,
   "metadata": {},
   "outputs": [
    {
     "data": {
      "application/vnd.plotly.v1+json": {
       "config": {
        "linkText": "Export to plot.ly",
        "plotlyServerURL": "https://plot.ly",
        "showLink": false
       },
       "data": [
        {
         "colorscale": "Viridis",
         "reversescale": true,
         "showscale": true,
         "type": "heatmap",
         "uid": "2d6140ef-e6fd-420b-94ed-6d0110f16e18",
         "x": [
          "RandomForest",
          "GradientBoost",
          "NegativeBinomial"
         ],
         "y": [
          "RandomForest",
          "GradientBoost",
          "NegativeBinomial"
         ],
         "z": [
          [
           1,
           0.5732977908369105,
           0.3856432084300712
          ],
          [
           0.5732977908369105,
           1,
           0.1286315663579069
          ],
          [
           0.3856432084300712,
           0.1286315663579069,
           1
          ]
         ]
        }
       ],
       "layout": {}
      },
      "text/html": [
       "<div>\n",
       "        \n",
       "        \n",
       "            <div id=\"1341dc28-6690-406d-83cd-3966e3688a2c\" class=\"plotly-graph-div\" style=\"height:525px; width:100%;\"></div>\n",
       "            <script type=\"text/javascript\">\n",
       "                require([\"plotly\"], function(Plotly) {\n",
       "                    window.PLOTLYENV=window.PLOTLYENV || {};\n",
       "                    window.PLOTLYENV.BASE_URL='https://plot.ly';\n",
       "                    \n",
       "                if (document.getElementById(\"1341dc28-6690-406d-83cd-3966e3688a2c\")) {\n",
       "                    Plotly.newPlot(\n",
       "                        '1341dc28-6690-406d-83cd-3966e3688a2c',\n",
       "                        [{\"colorscale\": \"Viridis\", \"reversescale\": true, \"showscale\": true, \"type\": \"heatmap\", \"uid\": \"2d6140ef-e6fd-420b-94ed-6d0110f16e18\", \"x\": [\"RandomForest\", \"GradientBoost\", \"NegativeBinomial\"], \"y\": [\"RandomForest\", \"GradientBoost\", \"NegativeBinomial\"], \"z\": [[1.0, 0.5732977908369105, 0.3856432084300712], [0.5732977908369105, 1.0, 0.1286315663579069], [0.3856432084300712, 0.1286315663579069, 1.0]]}],\n",
       "                        {},\n",
       "                        {\"showLink\": false, \"linkText\": \"Export to plot.ly\", \"plotlyServerURL\": \"https://plot.ly\", \"responsive\": true}\n",
       "                    ).then(function(){\n",
       "                            \n",
       "var gd = document.getElementById('1341dc28-6690-406d-83cd-3966e3688a2c');\n",
       "var x = new MutationObserver(function (mutations, observer) {{\n",
       "        var display = window.getComputedStyle(gd).display;\n",
       "        if (!display || display === 'none') {{\n",
       "            console.log([gd, 'removed!']);\n",
       "            Plotly.purge(gd);\n",
       "            observer.disconnect();\n",
       "        }}\n",
       "}});\n",
       "\n",
       "// Listen for the removal of the full notebook cells\n",
       "var notebookContainer = gd.closest('#notebook-container');\n",
       "if (notebookContainer) {{\n",
       "    x.observe(notebookContainer, {childList: true});\n",
       "}}\n",
       "\n",
       "// Listen for the clearing of the current output cell\n",
       "var outputEl = gd.closest('.output');\n",
       "if (outputEl) {{\n",
       "    x.observe(outputEl, {childList: true});\n",
       "}}\n",
       "\n",
       "                        })\n",
       "                };\n",
       "                });\n",
       "            </script>\n",
       "        </div>"
      ]
     },
     "metadata": {},
     "output_type": "display_data"
    }
   ],
   "source": [
    "data = [ go.Heatmap( z = base_predictions_train_iq.astype( float ).corr().values,\n",
    "                     x = base_predictions_train_iq.columns.values,\n",
    "                     y = base_predictions_train_iq.columns.values,\n",
    "                     colorscale = 'Viridis',\n",
    "                     showscale = True,\n",
    "                     reversescale = True )]\n",
    "py.iplot( data, filename = 'labelled-heatmap' )"
   ]
  },
  {
   "cell_type": "code",
   "execution_count": 101,
   "metadata": {},
   "outputs": [],
   "source": [
    "x_train_sec_sj = np.concatenate(( rf_oof_train_sj, gb_oof_train_sj, nb_oof_train_sj ), axis=1)\n",
    "x_test_sec_sj  = np.concatenate(( rf_oof_test_sj, gb_oof_test_sj, nb_oof_test_sj ), axis=1)\n",
    "x_train_sec_iq = np.concatenate(( rf_oof_train_iq, gb_oof_train_iq, nb_oof_train_iq ), axis=1)\n",
    "x_test_sec_iq  = np.concatenate(( rf_oof_test_iq, gb_oof_test_iq, nb_oof_test_iq ), axis=1)"
   ]
  },
  {
   "cell_type": "markdown",
   "metadata": {
    "_cell_guid": "a02a94ab-3c9c-a824-7168-e964c5a0f5d5",
    "_uuid": "65727ae393d3f7118215fde76e4fd5a9d0e9dd6c"
   },
   "source": [
    "Having now concatenated and joined both the first-level train and test predictions as x_train and x_test, we can now fit a second-level learning model."
   ]
  },
  {
   "cell_type": "markdown",
   "metadata": {
    "_cell_guid": "628a03ea-933c-7075-a589-0ff7af237dfd",
    "_uuid": "dc4a32e9a8e7c9e611124cba676e5d28240b38be"
   },
   "source": [
    "### Second level learning model via XGBoost\n",
    "\n",
    "Here we choose the eXtremely famous library for boosted tree learning model, XGBoost. It was built to optimize large-scale boosted tree algorithms. For further information about the algorithm, check out the [official documentation][1].\n",
    "\n",
    "  [1]: https://xgboost.readthedocs.io/en/latest/\n",
    "\n",
    "Anyways, we call an XGBClassifier and fit it to the first-level train and target data and use the learned model to predict the test data as follows:"
   ]
  },
  {
   "cell_type": "code",
   "execution_count": 111,
   "metadata": {},
   "outputs": [
    {
     "name": "stdout",
     "output_type": "stream",
     "text": [
      "Fitting 5 folds for each of 2304 candidates, totalling 11520 fits\n"
     ]
    },
    {
     "name": "stderr",
     "output_type": "stream",
     "text": [
      "[Parallel(n_jobs=4)]: Using backend LokyBackend with 4 concurrent workers.\n",
      "[Parallel(n_jobs=4)]: Done  42 tasks      | elapsed:    4.1s\n",
      "[Parallel(n_jobs=4)]: Done 279 tasks      | elapsed:   17.6s\n",
      "[Parallel(n_jobs=4)]: Done 779 tasks      | elapsed:   48.3s\n",
      "[Parallel(n_jobs=4)]: Done 1479 tasks      | elapsed:  1.5min\n",
      "[Parallel(n_jobs=4)]: Done 2373 tasks      | elapsed:  2.4min\n",
      "[Parallel(n_jobs=4)]: Done 3468 tasks      | elapsed:  3.6min\n",
      "[Parallel(n_jobs=4)]: Done 4500 tasks      | elapsed:  4.7min\n",
      "[Parallel(n_jobs=4)]: Done 5909 tasks      | elapsed:  6.2min\n",
      "[Parallel(n_jobs=4)]: Done 7519 tasks      | elapsed:  7.9min\n",
      "[Parallel(n_jobs=4)]: Done 9419 tasks      | elapsed:  9.9min\n",
      "[Parallel(n_jobs=4)]: Done 11432 tasks      | elapsed: 12.0min\n"
     ]
    },
    {
     "name": "stdout",
     "output_type": "stream",
     "text": [
      "[17:12:52] WARNING: C:/Jenkins/workspace/xgboost-win64_release_0.90/src/objective/regression_obj.cu:152: reg:linear is now deprecated in favor of reg:squarederror.\n"
     ]
    },
    {
     "name": "stderr",
     "output_type": "stream",
     "text": [
      "[Parallel(n_jobs=4)]: Done 11520 out of 11520 | elapsed: 12.1min finished\n"
     ]
    }
   ],
   "source": [
    "X = pd.DataFrame( x_train_sec_sj )\n",
    "y = y_train_sj\n",
    "parameters_for_testing = { 'learning_rate':[0.1,0.01],\n",
    "                           'max_depth':[4,5,6],\n",
    "                           'n_estimators':[100,200,500,1000],\n",
    "                           'gamma':[0,0.01],\n",
    "                           'min_child_weight':[5,8,12,15],\n",
    "                           'colsample_bytree':[0.5,0.4,0.6],\n",
    "                           'reg_alpha':[0.01],\n",
    "                           'reg_lambda':[1e-5,0.075],\n",
    "                           'subsample':[0.95,1e-5]\n",
    "                         }\n",
    "xgb_model = xgb.XGBRegressor()\n",
    "gs_xg_sj = GridSearchCV( estimator = xgb_model, param_grid = parameters_for_testing,\n",
    "                      n_jobs=4,iid=False, verbose=1, scoring ='neg_mean_squared_error',\n",
    "                      cv= 5).fit( X, y, eval_metric='rmse' )\n",
    "Y_sj_pred = gs_xg_sj.best_estimator_.predict( pd.DataFrame( x_test_sec_sj, columns = X.columns ) ).astype(int)"
   ]
  },
  {
   "cell_type": "code",
   "execution_count": 112,
   "metadata": {},
   "outputs": [
    {
     "data": {
      "text/plain": [
       "{'colsample_bytree': 0.5,\n",
       " 'gamma': 0,\n",
       " 'learning_rate': 0.01,\n",
       " 'max_depth': 4,\n",
       " 'min_child_weight': 15,\n",
       " 'n_estimators': 200,\n",
       " 'reg_alpha': 0.01,\n",
       " 'reg_lambda': 1e-05,\n",
       " 'subsample': 0.95}"
      ]
     },
     "execution_count": 112,
     "metadata": {},
     "output_type": "execute_result"
    }
   ],
   "source": [
    "gs_xg_sj.best_params_"
   ]
  },
  {
   "cell_type": "code",
   "execution_count": 113,
   "metadata": {},
   "outputs": [
    {
     "name": "stdout",
     "output_type": "stream",
     "text": [
      "Fitting 5 folds for each of 576 candidates, totalling 2880 fits\n"
     ]
    },
    {
     "name": "stderr",
     "output_type": "stream",
     "text": [
      "[Parallel(n_jobs=4)]: Using backend LokyBackend with 4 concurrent workers.\n",
      "[Parallel(n_jobs=4)]: Done 280 tasks      | elapsed:    6.9s\n",
      "[Parallel(n_jobs=4)]: Done 1044 tasks      | elapsed:   28.3s\n",
      "[Parallel(n_jobs=4)]: Done 2044 tasks      | elapsed:  1.0min\n"
     ]
    },
    {
     "name": "stdout",
     "output_type": "stream",
     "text": [
      "[17:14:16] WARNING: C:/Jenkins/workspace/xgboost-win64_release_0.90/src/objective/regression_obj.cu:152: reg:linear is now deprecated in favor of reg:squarederror.\n"
     ]
    },
    {
     "name": "stderr",
     "output_type": "stream",
     "text": [
      "[Parallel(n_jobs=4)]: Done 2880 out of 2880 | elapsed:  1.4min finished\n"
     ]
    }
   ],
   "source": [
    "X = pd.DataFrame( x_train_sec_iq )\n",
    "y = y_train_iq\n",
    "parameters_for_testing = { 'learning_rate':[0.1,0.01],\n",
    "                           'max_depth':[2,4,5],\n",
    "                           'n_estimators':[100,200,300,500],\n",
    "                           'gamma':[0],#,0.01\n",
    "                           'min_child_weight':[12,18,15,20],#5,8,\n",
    "                           'colsample_bytree':[0.4,0.6],\n",
    "                           'reg_alpha':[0.01],\n",
    "                           'reg_lambda':[1e-5,1e-4,0.075],\n",
    "                           'subsample':[0.95]#,1e-5,1e-4\n",
    "                         }\n",
    "xgb_model = xgb.XGBRegressor()\n",
    "gs_xg_iq = GridSearchCV( estimator = xgb_model, param_grid = parameters_for_testing,\n",
    "                      n_jobs=4,iid=False, verbose=1, scoring ='neg_mean_squared_error',\n",
    "                      cv= 5).fit( X, y, eval_metric='rmse' )\n",
    "\n",
    "Y_iq_pred = gs_xg_iq.best_estimator_.predict( pd.DataFrame( x_test_sec_iq, columns = X.columns )).astype(int)"
   ]
  },
  {
   "cell_type": "code",
   "execution_count": 114,
   "metadata": {},
   "outputs": [
    {
     "data": {
      "text/plain": [
       "{'colsample_bytree': 0.4,\n",
       " 'gamma': 0,\n",
       " 'learning_rate': 0.01,\n",
       " 'max_depth': 2,\n",
       " 'min_child_weight': 20,\n",
       " 'n_estimators': 200,\n",
       " 'reg_alpha': 0.01,\n",
       " 'reg_lambda': 0.075,\n",
       " 'subsample': 0.95}"
      ]
     },
     "execution_count": 114,
     "metadata": {},
     "output_type": "execute_result"
    }
   ],
   "source": [
    "gs_xg_iq.best_params_"
   ]
  },
  {
   "cell_type": "code",
   "execution_count": null,
   "metadata": {},
   "outputs": [],
   "source": []
  }
 ],
 "metadata": {
  "kernelspec": {
   "display_name": "Python 3",
   "language": "python",
   "name": "python3"
  },
  "language_info": {
   "codemirror_mode": {
    "name": "ipython",
    "version": 3
   },
   "file_extension": ".py",
   "mimetype": "text/x-python",
   "name": "python",
   "nbconvert_exporter": "python",
   "pygments_lexer": "ipython3",
   "version": "3.7.3"
  }
 },
 "nbformat": 4,
 "nbformat_minor": 2
}
